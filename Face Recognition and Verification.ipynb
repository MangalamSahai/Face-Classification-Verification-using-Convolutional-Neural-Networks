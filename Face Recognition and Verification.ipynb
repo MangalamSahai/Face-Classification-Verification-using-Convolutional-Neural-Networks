{
  "cells": [
    {
      "cell_type": "code",
      "execution_count": 3,
      "metadata": {
        "id": "jwLEd0gdPbSc"
      },
      "outputs": [],
      "source": [
        "import torch\n",
        "import torch.nn as nn\n",
        "import torch.nn.functional as F\n",
        "import torch.optim as optim\n",
        "from torch.utils.data import Dataset, DataLoader\n",
        "\n",
        "import torchvision\n",
        "import torchvision.transforms as ttf\n",
        "\n",
        "import os\n",
        "import os.path as osp\n",
        "\n",
        "from tqdm import tqdm\n",
        "from PIL import Image\n",
        "from sklearn.metrics import roc_auc_score\n",
        "import numpy as np\n",
        "import math\n",
        "from dropblock import DropBlock2D # NA-1"
      ]
    },
    {
      "cell_type": "code",
      "source": [
        "!pip install dropblock"
      ],
      "metadata": {
        "colab": {
          "base_uri": "https://localhost:8080/"
        },
        "id": "vn6gO3uINc4Z",
        "outputId": "cc9e4311-147f-4154-fc75-b7105774f200"
      },
      "execution_count": 2,
      "outputs": [
        {
          "output_type": "stream",
          "name": "stdout",
          "text": [
            "Collecting dropblock\n",
            "  Downloading dropblock-0.3.0-py3-none-any.whl (5.4 kB)\n",
            "Requirement already satisfied: torch>=0.4.1 in /usr/local/lib/python3.7/dist-packages (from dropblock) (1.10.0+cu111)\n",
            "Requirement already satisfied: numpy in /usr/local/lib/python3.7/dist-packages (from dropblock) (1.21.5)\n",
            "Requirement already satisfied: typing-extensions in /usr/local/lib/python3.7/dist-packages (from torch>=0.4.1->dropblock) (3.10.0.2)\n",
            "Installing collected packages: dropblock\n",
            "Successfully installed dropblock-0.3.0\n"
          ]
        }
      ]
    },
    {
      "cell_type": "markdown",
      "metadata": {
        "id": "1oxQNl-YVWHc"
      },
      "source": [
        "# TODOs\n",
        "As you go, please read the code and keep an eye out for TODOs!"
      ]
    },
    {
      "cell_type": "markdown",
      "metadata": {
        "id": "scOnMklwWBY6"
      },
      "source": [
        "# Download Data"
      ]
    },
    {
      "cell_type": "code",
      "execution_count": 4,
      "metadata": {
        "colab": {
          "base_uri": "https://localhost:8080/"
        },
        "id": "6BksgPdkQwwb",
        "outputId": "5938f977-ad8e-4f94-dba6-91a44dbbdfde"
      },
      "outputs": [
        {
          "output_type": "stream",
          "name": "stdout",
          "text": [
            "Collecting kaggle==1.5.8\n",
            "  Downloading kaggle-1.5.8.tar.gz (59 kB)\n",
            "\u001b[?25l\r\u001b[K     |█████▌                          | 10 kB 29.8 MB/s eta 0:00:01\r\u001b[K     |███████████                     | 20 kB 9.2 MB/s eta 0:00:01\r\u001b[K     |████████████████▋               | 30 kB 7.6 MB/s eta 0:00:01\r\u001b[K     |██████████████████████▏         | 40 kB 7.2 MB/s eta 0:00:01\r\u001b[K     |███████████████████████████▊    | 51 kB 4.3 MB/s eta 0:00:01\r\u001b[K     |████████████████████████████████| 59 kB 2.8 MB/s \n",
            "\u001b[?25hBuilding wheels for collected packages: kaggle\n",
            "  Building wheel for kaggle (setup.py) ... \u001b[?25l\u001b[?25hdone\n",
            "  Created wheel for kaggle: filename=kaggle-1.5.8-py3-none-any.whl size=73275 sha256=929116db8c20887fd1ed7f1cb1a027c4dd6de371b454f5b27db5ef0fd5262c03\n",
            "  Stored in directory: /root/.cache/pip/wheels/de/f7/d8/c3902cacb7e62cb611b1ad343d7cc07f42f7eb76ae3a52f3d1\n",
            "Successfully built kaggle\n",
            "Installing collected packages: kaggle\n",
            "  Attempting uninstall: kaggle\n",
            "    Found existing installation: kaggle 1.5.12\n",
            "    Uninstalling kaggle-1.5.12:\n",
            "      Successfully uninstalled kaggle-1.5.12\n",
            "Successfully installed kaggle-1.5.8\n"
          ]
        }
      ],
      "source": [
        "!pip install --upgrade --force-reinstall --no-deps kaggle==1.5.8\n",
        "!mkdir /root/.kaggle\n",
        "\n",
        "with open(\"/root/.kaggle/kaggle.json\", \"w+\") as f:\n",
        "    f.write('{\"username\":\"mangalamsahai\",\"key\":\"521f66540469b3a12f7b11566d8b1c14\"}') # Put your kaggle username & key here\n",
        "\n",
        "!chmod 600 /root/.kaggle/kaggle.json"
      ]
    },
    {
      "cell_type": "code",
      "execution_count": 5,
      "metadata": {
        "colab": {
          "base_uri": "https://localhost:8080/"
        },
        "id": "3oFjaJTaRjT7",
        "outputId": "b0aaade0-a915-4c11-b197-aa4347e796b0"
      },
      "outputs": [
        {
          "output_type": "stream",
          "name": "stdout",
          "text": [
            "Downloading 11-785-s22-hw2p2-classification.zip to /content\n",
            "100% 2.35G/2.35G [00:09<00:00, 212MB/s]\n",
            "100% 2.35G/2.35G [00:09<00:00, 271MB/s]\n",
            "Downloading 11-785-s22-hw2p2-verification.zip to /content\n",
            " 98% 258M/263M [00:00<00:00, 252MB/s]\n",
            "100% 263M/263M [00:00<00:00, 289MB/s]\n",
            "11-785-s22-hw2p2-classification.zip   sample_data\n",
            "11-785-s22-hw2p2-verification.zip     train_subset\n",
            "classification\t\t\t      verification\n",
            "classification_sample_submission.csv  verification_sample_submission.csv\n"
          ]
        }
      ],
      "source": [
        "!kaggle competitions download -c 11-785-s22-hw2p2-classification\n",
        "!kaggle competitions download -c 11-785-s22-hw2p2-verification\n",
        "\n",
        "!unzip -q 11-785-s22-hw2p2-classification.zip\n",
        "!unzip -q 11-785-s22-hw2p2-verification.zip\n",
        "\n",
        "!ls"
      ]
    },
    {
      "cell_type": "markdown",
      "metadata": {
        "id": "cBTLCyocZBGS"
      },
      "source": [
        "# Hyperparameters"
      ]
    },
    {
      "cell_type": "code",
      "execution_count": 6,
      "metadata": {
        "id": "13usn4nYZCvJ"
      },
      "outputs": [],
      "source": [
        "\"\"\"\n",
        "The well-accepted SGD batch_size & lr combination for CNN classification is 256 batch size for 0.1 learning rate.\n",
        "When changing batch size for SGD, follow the linear scaling rule - halving batch size -> halve learning rate, etc.\n",
        "This is less theoretically supported for Adam, but in my experience, it's a decent ballpark estimate.\n",
        "\"\"\"\n",
        "batch_size = 512\n",
        "lr = 0.2\n",
        "epochs = 70 # Just for the early submission. We'd want you to train like 50 epochs for your main submissions."
      ]
    },
    {
      "cell_type": "markdown",
      "metadata": {
        "id": "mIqmojPaWD0H"
      },
      "source": [
        "# Very Simple Network"
      ]
    },
    {
      "cell_type": "code",
      "execution_count": 7,
      "metadata": {
        "id": "Ny-mh_ocWIJR"
      },
      "outputs": [],
      "source": [
        "from torch.nn.modules.batchnorm import BatchNorm1d\n",
        "class Network(nn.Module):\n",
        "    \"\"\"\n",
        "    The Very Low early deadline architecture is a 4-layer CNN.\n",
        "    The first Conv layer has 64 channels, kernel size 7, and stride 4.\n",
        "    The next three have 128, 256, and 512 channels. Each have kernel size 3 and stride 2.\n",
        "    Think about what the padding should be for each layer to not change spatial resolution.\n",
        "    Each Conv layer is accompanied by a Batchnorm and ReLU layer.\n",
        "    Finally, you want to average pool over the spatial dimensions to reduce them to 1 x 1.\n",
        "    Then, remove (Flatten?) these trivial 1x1 dimensions away.\n",
        "    Look through https://pytorch.org/docs/stable/nn.html \n",
        "    TODO: Fill out the model definition below! \n",
        "\n",
        "    Why does a very simple network have 4 convolutions?\n",
        "    Input images are 224x224. Note that each of these convolutions downsample.\n",
        "    Downsampling 2x effectively doubles the receptive field, increasing the spatial\n",
        "    region each pixel extracts features from. Downsampling 32x is standard\n",
        "    for most image models.\n",
        "\n",
        "    Why does a very simple network have high channel sizes?\n",
        "    Every time you downsample 2x, you do 4x less computation (at same channel size).\n",
        "    To maintain the same level of computation, you 2x increase # of channels, which \n",
        "    increases computation by 4x. So, balances out to same computation.\n",
        "    Another intuition is - as you downsample, you lose spatial information. Want\n",
        "    to preserve some of it in the channel dimension.\n",
        "    \"\"\"\n",
        "    def __init__(self, num_classes=7000):\n",
        "        super().__init__()\n",
        "\n",
        "        self.backbone = nn.Sequential(\n",
        "            # Note that first conv is stride 4. It is (was?) standard to downsample.\n",
        "            # 4x early on, as with 224x224 images, 4x4 patches are just low-level details.\n",
        "            # Food for thought: Why is the first conv kernel size 7, not kernel size 3?\n",
        "\n",
        "            # TODO: Conv group 1\n",
        "            nn.Conv2d(in_channels=3,out_channels=64,kernel_size=7,stride=4,padding=1),\n",
        "            nn.BatchNorm2d(num_features=64),\n",
        "            nn.ReLU(),\n",
        "            # TODO: Conv group 2\n",
        "            nn.Conv2d(in_channels=64,out_channels=128,kernel_size=3,stride=2,padding=1),\n",
        "            nn.BatchNorm2d(num_features=128),\n",
        "            nn.ReLU(),\n",
        "            # TODO: Conv group 3\n",
        "            nn.Conv2d(in_channels=128,out_channels=256,kernel_size=3,stride=2,padding=2),\n",
        "            nn.BatchNorm2d(num_features=256),\n",
        "            nn.ReLU(),\n",
        "            # TODO: Conv group 4\n",
        "            nn.Conv2d(in_channels=256,out_channels=512,kernel_size=3,stride=2,padding=0),\n",
        "            nn.BatchNorm2d(num_features=512),\n",
        "            nn.ReLU(),\n",
        "            # TODO: Average pool over & reduce the spatial dimensions to (1, 1)\n",
        "            nn.AvgPool3d(kernel_size=(1,7,7)),\n",
        "            # TODO: Collapse (Flatten) the trivial (1, 1) dimensions\n",
        "            nn.Flatten()\n",
        "            ) \n",
        "        \n",
        "        self.cls_layer = nn.Linear(512, num_classes)\n",
        "    \n",
        "    def forward(self, x, return_feats=False):\n",
        "        \"\"\"\n",
        "        What is return_feats? It essentially returns the second-to-last-layer\n",
        "        features of a given image. It's a \"feature encoding\" of the input image,\n",
        "        and you can use it for the verification task. You would use the outputs\n",
        "        of the final classification layer for the classification task.\n",
        "\n",
        "        You might also find that the classification outputs are sometimes better\n",
        "        for verification too - try both.\n",
        "        \"\"\"\n",
        "        feats = self.backbone(x)\n",
        "        out = self.cls_layer(feats)\n",
        "\n",
        "        if return_feats:\n",
        "            return feats\n",
        "        else:\n",
        "            return out"
      ]
    },
    {
      "cell_type": "markdown",
      "metadata": {
        "id": "NwYR-CLwX09u"
      },
      "source": [
        "# Dataset & DataLoader"
      ]
    },
    {
      "cell_type": "code",
      "execution_count": 8,
      "metadata": {
        "id": "awE5BxlqX2o7"
      },
      "outputs": [],
      "source": [
        "\"\"\"\n",
        "Transforms (data augmentation) is quite important for this task.\n",
        "Go explore https://pytorch.org/vision/stable/transforms.html for more details\n",
        "\"\"\"\n",
        "DATA_DIR = \"/content\"\n",
        "TRAIN_DIR = osp.join(DATA_DIR, \"classification/classification/train\") # This is a smaller subset of the data. Should change this to classification/classification/train\n",
        "VAL_DIR = osp.join(DATA_DIR, \"classification/classification/dev\")\n",
        "TEST_DIR = osp.join(DATA_DIR, \"classification/classification/test\")\n",
        "\n",
        "train_transforms = [ttf.RandAugment(),\n",
        "                    ttf.ToTensor(),\n",
        "                    ttf.ColorJitter(brightness=0.5,hue=0.3),\n",
        "                    ttf.RandomHorizontalFlip(p=0.5),\n",
        "                    #ttf.RandomAffine((-15,15)),\n",
        "                    ] # ttf.RandAugment()- to be tried.\n",
        "                      #  ttf.RandomAffine((-15,15))\n",
        "val_transforms = [ttf.ToTensor()]\n",
        "\n",
        "train_dataset = torchvision.datasets.ImageFolder(TRAIN_DIR,\n",
        "                                                 transform=ttf.Compose(train_transforms))\n",
        "val_dataset = torchvision.datasets.ImageFolder(VAL_DIR,\n",
        "                                               transform=ttf.Compose(val_transforms))\n",
        "\n",
        "\n",
        "train_loader = DataLoader(train_dataset, batch_size=batch_size,\n",
        "                          shuffle=True, drop_last=True, num_workers=2) # drop_last was True actually\n",
        "\n",
        "val_loader = DataLoader(val_dataset, batch_size=batch_size, shuffle=False,\n",
        "                        drop_last=True, num_workers=1)\n",
        "\n"
      ]
    },
    {
      "cell_type": "markdown",
      "metadata": {
        "id": "RcU2Gf5gk1Sd"
      },
      "source": [
        "MobileNetV2 Model"
      ]
    },
    {
      "cell_type": "code",
      "execution_count": null,
      "metadata": {
        "id": "edPArtaIMCg5"
      },
      "outputs": [],
      "source": [
        "class InvertedResidualBlock(nn.Module):\n",
        "    \"\"\"\n",
        "    Intuitively, layers in MobileNet can be split into \"feature mixing\" \n",
        "    and \"spatial mixing\" layers. You can think of feature mixing as each pixel\n",
        "    \"thinking on its own\" about its own featuers, and you can think of spatial\n",
        "    mixing as pixels \"talking with each other\". Alternating these two builds\n",
        "    up a CNN.\n",
        "\n",
        "    In a bit more detail:\n",
        "\n",
        "    - The purpose of the \"feature mixing\" layers is what you've already seen in \n",
        "    hw1p2. Remember, in hw1p2, we went from some low-level audio input to\n",
        "    semantically rich representations of phonemes. Featuring mixing is simply a \n",
        "    linear layer (a weight matrix) that transforms simpler features into \n",
        "    something more advanced.\n",
        "\n",
        "    - The purpose of the \"spatial mixing\" layers is to mix features from different\n",
        "    spatial locations. You can't figure out a face by looking at each pixel on\n",
        "    its own, right? So we need 3x3 convolutions to mix features from neighboring\n",
        "    pixels to build up spatially larger features.\n",
        "    \"\"\"\n",
        "    def __init__(self,\n",
        "                 in_channels,\n",
        "                 out_channels,\n",
        "                 stride,\n",
        "                 expand_ratio):\n",
        "        super().__init__() # Just have to do this for all nn.Module classes\n",
        "        self.stride=stride\n",
        "        self.in_channels=in_channels\n",
        "        self.out_channels=out_channels\n",
        "        # Can only do identity residual connection if input & output are the\n",
        "        # same channel & spatial shape.\n",
        "        #if (stride == 1 and in_channels == out_channels):\n",
        "        #    self.do_identity = True\n",
        "        #else:\n",
        "        #    self.do_identity = False\n",
        "        \n",
        "        # Expand Ratio is like 6, so hidden_dim >> in_channels\n",
        "        hidden_dim = in_channels * expand_ratio\n",
        "\n",
        "        \"\"\"\n",
        "        What is this doing? It's a 1x1 convolutional layer that drastically\n",
        "        increases the # of channels (feature dimension). 1x1 means each pixel\n",
        "        is thinking on its own, and increasing # of channels means the network\n",
        "        is seeing if it can \"see\" more clearly in a higher dimensional space.\n",
        "\n",
        "        Some patterns are just more obvious/separable in higher dimensions.\n",
        "\n",
        "        Also, note that bias = False since BatchNorm2d has a bias term built-in.\n",
        "\n",
        "        As you go, note the relationship between kernel_size and padding. As you\n",
        "        covered in class, padding = kernel_size // 2 (kernel_size being odd) to\n",
        "        make sure input & output spatial resolution is the same.\n",
        "        \"\"\"\n",
        "        self.feature_mixing = nn.Sequential(\n",
        "            # TODO: Fill this in!\n",
        "            nn.Conv2d(in_channels=in_channels,out_channels=hidden_dim,kernel_size=1,stride=1,padding=0),\n",
        "            nn.BatchNorm2d(num_features=hidden_dim),\n",
        "            nn.GELU(),\n",
        "        )\n",
        "\n",
        "        \"\"\"\n",
        "        What is this doing? Let's break it down.\n",
        "        - kernel_size = 3 means neighboring pixels are talking with each other.\n",
        "          This is different from feature mixing, where kernel_size = 1.\n",
        "\n",
        "        - stride. Remember that we sometimes want to downsample spatially. \n",
        "          Downsampling is done to reduce # of pixels (less computation to do), \n",
        "          and also to increase receptive field (if a face was 32x32, and now\n",
        "          it's 16x16, a 3x3 convolution covers more of the face, right?). It\n",
        "          makes sense to put the downsampling in the spatial mixing portion\n",
        "          since this layer is \"in charge\" of messing around spatially anyway.\n",
        "\n",
        "          Note that most of the time, stride is 1. It's just the first block of\n",
        "          every \"stage\" (layer \\subsetof block \\subsetof stage) that we have\n",
        "          stride = 2.\n",
        "\n",
        "        - groups = hidden_dim. Remember depthwise separable convolutions in \n",
        "          class? If not, it's fine. Usually, when we go from hidden_dim channels\n",
        "          to hidden_dim channels, they're densely connected (like a linear \n",
        "          layer). So you can think of every pixel/grid in an input\n",
        "          3 x 3 x hidden_dim block being connected to every single pixel/grid \n",
        "          in the output 3 x 3 x hidden_dim block.\n",
        "          What groups = hidden_dim does is remove a lot of these connections.\n",
        "\n",
        "          Now, each input 3 x 3 block/region is densely connected to the\n",
        "          corresponding output 3 x 3 block/region. This happens for each of the\n",
        "          hidden_dim input/output channel pairs independently.\n",
        "          So we're not even mixing different channels together - we're only \n",
        "          mixing spatial neighborhoods. \n",
        "          \n",
        "          Try to draw this out, or come to my (Jinhyung Park)'s OH if you want \n",
        "          a more in-depth explanation.\n",
        "          https://towardsdatascience.com/a-basic-introduction-to-separable-convolutions-b99ec3102728\n",
        "        \"\"\"\n",
        "        self.spatial_mixing = nn.Sequential(\n",
        "            # TODO: Fill this in!\n",
        "            nn.Conv2d(hidden_dim,hidden_dim,kernel_size=3,stride=self.stride,padding=1,groups=hidden_dim),\n",
        "            nn.BatchNorm2d(num_features=hidden_dim),\n",
        "            nn.ReLU6(),\n",
        "        )\n",
        "\n",
        "        \"\"\"\n",
        "        What's this? Remember that hidden_dim is quite large - six times the \n",
        "        in_channels. So it was nice to do the above operations in this high-dim\n",
        "        space, where some patterns might be more clear. But we still want to \n",
        "        bring it back down-to-earth.\n",
        "\n",
        "        Intuitively, you can takeaway two reasons for doing this:\n",
        "        - Reduces computational cost by a lot. 6x in & out channels means 36x\n",
        "          larger weights, which is crazy. We're okay with just one of input or \n",
        "          output of a convolutional layer being large when mixing channels, but \n",
        "          not both.\n",
        "        \n",
        "        - We also want a residual connection from the input to the output. To \n",
        "          do that without introducing another convolutional layer, we want to\n",
        "          condense the # of channels back to be the same as the in_channels.\n",
        "          (out_channels and in_channels are usually the same).\n",
        "        \"\"\"\n",
        "        self.bottleneck_channels = nn.Sequential(\n",
        "            # TODO: Fill this in!\n",
        "            nn.Conv2d(in_channels=hidden_dim,out_channels=out_channels,kernel_size=1,stride=1,padding=0),\n",
        "            nn.BatchNorm2d(num_features=out_channels),\n",
        "            nn.ReLU6(),\n",
        "        )\n",
        "\n",
        "    def forward(self, x):\n",
        "        #print(\"X\",x.shape)\n",
        "        out = self.feature_mixing(x)\n",
        "        #print(\"Feature Mixing\",out.shape)\n",
        "        out = self.spatial_mixing(out)\n",
        "        #print(\"Spatial Mixing\",out.shape)\n",
        "        out = self.bottleneck_channels(out)\n",
        "        #print(\"BottleNeck Mixing\",out.shape)\n",
        "\n",
        "        if self.stride == 1 and self.in_channels == self.out_channels:\n",
        "                return x + out\n",
        "        else:\n",
        "             return out\n",
        "\n",
        "class MobileNetV2(nn.Module):\n",
        "    \"\"\"\n",
        "    The heavy lifting is already done in InvertedBottleneck.\n",
        "\n",
        "    Why MobileNetV2 and not V3? V2 is the foundation for V3, which uses \"neural\n",
        "    architecture search\" to find better configurations of V2. If you understand\n",
        "    V2 well, you can totally implement V3!\n",
        "    \"\"\"\n",
        "    def __init__(self, num_classes= 7000):\n",
        "        super().__init__() # Already features indented from previous class. \n",
        "\n",
        "        self.num_classes = num_classes\n",
        "\n",
        "        \"\"\"\n",
        "        First couple of layers are special, just do them here.\n",
        "        This is called the \"stem\". Usually, methods use it to downsample or twice.\n",
        "        \"\"\"\n",
        "        \n",
        "        self.stem = nn.Sequential(\n",
        "          nn.Conv2d(in_channels=3,out_channels=32,kernel_size=3,stride=2,padding=1),\n",
        "          nn.BatchNorm2d(num_features=32),\n",
        "          nn.ReLU6(),\n",
        "        )\n",
        "\n",
        "        \"\"\"\n",
        "        Since we're just repeating InvertedResidualBlocks again and again, we\n",
        "        want to specify their parameters like this.\n",
        "        The four numbers in each row (a stage) are shown below.\n",
        "        - Expand ratio: We talked about this in InvertedResidualBlock\n",
        "        - Channels: This specifies the channel size before expansion\n",
        "        - # blocks: Each stage has many blocks, how many?\n",
        "        - Stride of first block: For some stages, we want to downsample. In a\n",
        "          downsampling stage, we set the first block in that stage to have\n",
        "          stride = 2, and the rest just have stride = 1.\n",
        "\n",
        "        Again, note that almost every stage here is downsampling! By the time\n",
        "        we get to the last stage, what is the image resolution? Can it still\n",
        "        be called an image for our dataset? Think about this, and make changes\n",
        "        as you want.\n",
        "        \"\"\"\n",
        "        self.stage_cfgs = [\n",
        "            # expand_ratio, channels, # blocks, stride of first block\n",
        "            [6,  16, 1, 1],\n",
        "            [6,  24, 2, 2], #24  stride: 22\n",
        "            [6,  32, 3, 2], #32  stride: 21\n",
        "            # 1[6,  64, 4, 2], #64  stride: 22\n",
        "            [6,  96, 3, 1], #96  stride: 11\n",
        "            [6, 160, 3, 2], #160 stride: 22\n",
        "            [6, 320, 1, 1], #320 stride: 11\n",
        "           # 512\n",
        "           # [6, 480, 1, 1],\n",
        "           # [6, 640, 1, 1],\n",
        "        ]\n",
        "\n",
        "        # Remember that our stem left us off at 16 channels. We're going to \n",
        "        # keep updating this in_channels variable as we go\n",
        "        in_channels = 32\n",
        "\n",
        "        # Let's make the layers\n",
        "        layers = []\n",
        "        for curr_stage in self.stage_cfgs:\n",
        "            expand_ratio, num_channels, num_blocks, stride = curr_stage\n",
        "            \n",
        "            for block_idx in range(num_blocks):\n",
        "                out_channels = num_channels\n",
        "                #print(\"in_channel\",in_channels)\n",
        "                #print(\"out_channel\",out_channels)\n",
        "                layers.append(InvertedResidualBlock(\n",
        "                    in_channels=in_channels,\n",
        "                    out_channels=out_channels,\n",
        "                    # only have non-trivial stride if first block\n",
        "                    stride=stride if block_idx == 0 else 1,\n",
        "                    expand_ratio=expand_ratio\n",
        "                ))\n",
        "                # In channels of the next block is the out_channels of the current one\n",
        "                in_channels = out_channels \n",
        "            \n",
        "        self.layers = nn.Sequential(*layers) # Done, save them to the class\n",
        "\n",
        "        # Some final feature mixing\n",
        "        self.final_block = nn.Sequential(\n",
        "            nn.Conv2d(in_channels=in_channels,out_channels=1280, kernel_size=1, padding=0, stride=1, bias=False),\n",
        "            nn.BatchNorm2d(1280),\n",
        "            nn.ReLU6(),\n",
        "        )\n",
        "\n",
        "        # Now, we need to build the final classification layer.\n",
        "         \n",
        "        self.cls_layer = nn.Sequential(\n",
        "            # TODO: Fill this in!\n",
        "            # Pool over & collapse the spatial dimensions to (1, 1)\n",
        "            # Collapse the trivial (1, 1) dimensions\n",
        "            # Project to our # of classes\n",
        "            nn.AvgPool2d(kernel_size=(7,7),stride=1),\n",
        "            nn.Flatten(),\n",
        "            nn.Linear(1280,num_classes),\n",
        "        )\n",
        "         \n",
        "        \n",
        "        self._initialize_weights()\n",
        "\n",
        "    def _initialize_weights(self):\n",
        "        \"\"\"\n",
        "        Usually, I like to use default pytorch initialization for stuff, but\n",
        "        MobileNetV2 made a point of putting in some custom ones, so let's just\n",
        "        use them.\n",
        "        \"\"\"\n",
        "        for m in self.modules():\n",
        "            if isinstance(m, nn.Conv2d):\n",
        "                n = m.kernel_size[0] * m.kernel_size[1] * m.out_channels\n",
        "                m.weight.data.normal_(0, math.sqrt(2. / n))\n",
        "                if m.bias is not None:\n",
        "                    m.bias.data.zero_()\n",
        "            elif isinstance(m, nn.BatchNorm2d):\n",
        "                m.weight.data.fill_(1)\n",
        "                m.bias.data.zero_()\n",
        "            elif isinstance(m, nn.Linear):\n",
        "                m.weight.data.normal_(0, 0.01)\n",
        "                m.bias.data.zero_()\n",
        "\n",
        "    def forward(self, x):\n",
        "        out = self.stem(x)\n",
        "        out = self.layers(out)\n",
        "        out = self.final_block(out)\n",
        "        out = self.cls_layer(out)\n",
        "\n",
        "        return out"
      ]
    },
    {
      "cell_type": "markdown",
      "metadata": {
        "id": "g31XmGWKk-EP"
      },
      "source": [
        "# My RESNET-34 Model"
      ]
    },
    {
      "cell_type": "code",
      "execution_count": 9,
      "metadata": {
        "id": "xUxo8HtilA2I"
      },
      "outputs": [],
      "source": [
        "class StageLayers(nn.Module):\n",
        "  \n",
        "  def __init__(self,\n",
        "                 in_channels,\n",
        "                 out_channels,\n",
        "                 stride,\n",
        "                ):\n",
        "        super().__init__() # Just have to do this for all nn.Module classes\n",
        "\n",
        "        self.in_channels = in_channels\n",
        "        self.out_channels = out_channels\n",
        "        self.stride = stride\n",
        "        #self.drop_block = DropBlock2D(block_size=3, drop_prob=0.3)        \n",
        "        self.Layer = nn.Sequential(\n",
        "            nn.Conv2d(in_channels=in_channels,out_channels=in_channels,kernel_size=1,stride=self.stride,padding=0),\n",
        "            nn.BatchNorm2d(num_features=in_channels),\n",
        "            nn.ReLU(),\n",
        "            nn.Conv2d(in_channels=in_channels,out_channels=in_channels,kernel_size=3,stride=1,padding=1),\n",
        "            nn.BatchNorm2d(num_features=in_channels),\n",
        "            nn.ReLU(),\n",
        "            nn.Conv2d(in_channels=in_channels,out_channels=out_channels,kernel_size=1,stride=1,padding=0),\n",
        "            nn.BatchNorm2d(num_features=out_channels),\n",
        "            #nn.Conv2d(in_channels=in_channel,out_channels=in_channel*4,kernel_size=1,stride=1,padding=0),\n",
        "         )\n",
        "        \n",
        "  def forward(self, x):\n",
        "        \n",
        "        out = self.Layer(x)\n",
        "\n",
        "        \n",
        "\n",
        "        if self.in_channels==self.out_channels and x.shape[2]==out.shape[2]:\n",
        "             #print(out.shape)\n",
        "             #print(x.shape)\n",
        "             return out+x\n",
        "        else:\n",
        "             return out   \n",
        "        \n",
        "        \n",
        "class ResNet(nn.Module):\n",
        "     def __init__(self, num_classes= 7000):\n",
        "         super().__init__() # Already features indented from previous class. \n",
        "         #self.drop_block = DropBlock2D(block_size=3, drop_prob=0.3)  \n",
        "         self.num_classes = num_classes\n",
        "\n",
        "         self.stem = nn.Sequential(\n",
        "            nn.Conv2d(in_channels=3,out_channels=64,kernel_size=7,stride=2,padding=3),\n",
        "            nn.BatchNorm2d(num_features=64),\n",
        "            nn.ReLU(),\n",
        "            )\n",
        "        \n",
        "\n",
        "         self.stage1_maxpool = nn.Sequential(\n",
        "           nn.MaxPool2d(kernel_size=3,stride=2,padding=1), \n",
        "            )\n",
        "        # 56*56\n",
        "         self.stage_cfgs = [\n",
        "              # in_channel, #blocks\n",
        "            [64, 128, 3],\n",
        "            [128, 256, 4], \n",
        "            [256, 512, 6], \n",
        "            [512, 512, 3], \n",
        "            ]\n",
        "                           \n",
        "         layers = []\n",
        "         #pdb.set_trace()\n",
        "         i=0\n",
        "         for curr_stage in self.stage_cfgs:\n",
        "             in_channels, out_channels, num_blocks = curr_stage\n",
        "             for block_idx in range(num_blocks):\n",
        "                 print(i)\n",
        "                 print(block_idx)\n",
        "                 if block_idx==0: \n",
        "                       if i==0:\n",
        "                          stride=1\n",
        "                          \n",
        "                       else:\n",
        "                          stride=2\n",
        "                                  \n",
        "                 else: \n",
        "                       stride=1\n",
        "                 layers.append(StageLayers(\n",
        "                 in_channels = in_channels,\n",
        "                 out_channels = out_channels if block_idx==num_blocks-1 else in_channels, \n",
        "                 stride= stride, \n",
        "                 ))\n",
        "            \n",
        "             i=i+1  \n",
        "                 \n",
        "                # in_channels=num_channels\n",
        "                # In channels of the next block is the out_channels of the current one\n",
        "                # in_channels = in_channels*4 \n",
        "            \n",
        "         self.layers = nn.Sequential(*layers) # Done, save them to the class\n",
        "\n",
        "       \n",
        "         self.cls_layer = nn.Sequential(\n",
        "             #nn.Dropout(p=0.1),\n",
        "             nn.AdaptiveAvgPool2d((1,1)),\n",
        "             nn.Flatten(),\n",
        "             nn.Linear(512,num_classes),\n",
        "           )\n",
        "\n",
        "      #   self._initialize_weights()\n",
        "\n",
        "     #def _initialize_weights(self):\n",
        "     #   \"\"\"\n",
        "     #   Usually, I like to use default pytorch initialization for stuff, but\n",
        "     #   MobileNetV2 made a point of putting in some custom ones, so let's just\n",
        "     #   use them.\n",
        "     #   \"\"\"\n",
        "     #   for m in self.modules():\n",
        "     #       if isinstance(m, nn.Conv2d):\n",
        "     #          n = m.kernel_size[0] * m.kernel_size[1] * m.out_channels\n",
        "     #           m.weight.data.normal_(0, math.sqrt(2. / n))\n",
        "     #           if m.bias is not None:\n",
        "     #              m.bias.data.zero_()\n",
        "     #       elif isinstance(m, nn.BatchNorm2d):\n",
        "     #           m.weight.data.fill_(1)\n",
        "     #          m.bias.data.zero_()\n",
        "     #       elif isinstance(m, nn.Linear):\n",
        "     #           m.weight.data.normal_(0, 0.01)\n",
        "     #          m.bias.data.zero_()\n",
        "\n",
        "     def forward(self, x):\n",
        "        out = self.stem(x)\n",
        "        #out = self.drop_block(out)\n",
        "        out = self.stage1_maxpool(out)\n",
        "        out = self.layers(out)\n",
        "        #print(out.shape)\n",
        "        out = self.cls_layer(out)\n",
        "        \n",
        "        \n",
        "\n",
        "        return out"
      ]
    },
    {
      "cell_type": "markdown",
      "metadata": {
        "id": "QpEWpCw4-TgO"
      },
      "source": [
        "MobileNet"
      ]
    },
    {
      "cell_type": "code",
      "execution_count": null,
      "metadata": {
        "id": "O8kBu2BZ7sI4"
      },
      "outputs": [],
      "source": [
        "class InvertedResidualBlock(nn.Module):\n",
        "    \"\"\"\n",
        "    Intuitively, layers in MobileNet can be split into \"feature mixing\" \n",
        "    and \"spatial mixing\" layers. You can think of feature mixing as each pixel\n",
        "    \"thinking on its own\" about its own featuers, and you can think of spatial\n",
        "    mixing as pixels \"talking with each other\". Alternating these two builds\n",
        "    up a CNN.\n",
        "\n",
        "    In a bit more detail:\n",
        "\n",
        "    - The purpose of the \"feature mixing\" layers is what you've already seen in \n",
        "    hw1p2. Remember, in hw1p2, we went from some low-level audio input to\n",
        "    semantically rich representations of phonemes. Featuring mixing is simply a \n",
        "    linear layer (a weight matrix) that transforms simpler features into \n",
        "    something more advanced.\n",
        "\n",
        "    - The purpose of the \"spatial mixing\" layers is to mix features from different\n",
        "    spatial locations. You can't figure out a face by looking at each pixel on\n",
        "    its own, right? So we need 3x3 convolutions to mix features from neighboring\n",
        "    pixels to build up spatially larger features.\n",
        "    \"\"\"\n",
        "    def __init__(self,\n",
        "                 in_channels,\n",
        "                 out_channels,\n",
        "                 stride,\n",
        "                 expand_ratio):\n",
        "        super().__init__() # Just have to do this for all nn.Module classes\n",
        "        self.stride=stride\n",
        "        self.in_channels=in_channels\n",
        "        self.out_channels=out_channels\n",
        "        # Can only do identity residual connection if input & output are the\n",
        "        # same channel & spatial shape.\n",
        "        #if (stride == 1 and in_channels == out_channels):\n",
        "        #    self.do_identity = True\n",
        "        #else:\n",
        "        #    self.do_identity = False\n",
        "        \n",
        "        # Expand Ratio is like 6, so hidden_dim >> in_channels\n",
        "        hidden_dim = in_channels * expand_ratio\n",
        "\n",
        "        \"\"\"\n",
        "        What is this doing? It's a 1x1 convolutional layer that drastically\n",
        "        increases the # of channels (feature dimension). 1x1 means each pixel\n",
        "        is thinking on its own, and increasing # of channels means the network\n",
        "        is seeing if it can \"see\" more clearly in a higher dimensional space.\n",
        "\n",
        "        Some patterns are just more obvious/separable in higher dimensions.\n",
        "\n",
        "        Also, note that bias = False since BatchNorm2d has a bias term built-in.\n",
        "\n",
        "        As you go, note the relationship between kernel_size and padding. As you\n",
        "        covered in class, padding = kernel_size // 2 (kernel_size being odd) to\n",
        "        make sure input & output spatial resolution is the same.\n",
        "        \"\"\"\n",
        "        self.feature_mixing = nn.Sequential(\n",
        "            # TODO: Fill this in!\n",
        "            nn.Conv2d(in_channels=in_channels,out_channels=hidden_dim,kernel_size=1,stride=1,padding=0),\n",
        "            nn.BatchNorm2d(num_features=hidden_dim),\n",
        "            nn.ReLU6(),\n",
        "        )\n",
        "\n",
        "        \"\"\"\n",
        "        What is this doing? Let's break it down.\n",
        "        - kernel_size = 3 means neighboring pixels are talking with each other.\n",
        "          This is different from feature mixing, where kernel_size = 1.\n",
        "\n",
        "        - stride. Remember that we sometimes want to downsample spatially. \n",
        "          Downsampling is done to reduce # of pixels (less computation to do), \n",
        "          and also to increase receptive field (if a face was 32x32, and now\n",
        "          it's 16x16, a 3x3 convolution covers more of the face, right?). It\n",
        "          makes sense to put the downsampling in the spatial mixing portion\n",
        "          since this layer is \"in charge\" of messing around spatially anyway.\n",
        "\n",
        "          Note that most of the time, stride is 1. It's just the first block of\n",
        "          every \"stage\" (layer \\subsetof block \\subsetof stage) that we have\n",
        "          stride = 2.\n",
        "\n",
        "        - groups = hidden_dim. Remember depthwise separable convolutions in \n",
        "          class? If not, it's fine. Usually, when we go from hidden_dim channels\n",
        "          to hidden_dim channels, they're densely connected (like a linear \n",
        "          layer). So you can think of every pixel/grid in an input\n",
        "          3 x 3 x hidden_dim block being connected to every single pixel/grid \n",
        "          in the output 3 x 3 x hidden_dim block.\n",
        "          What groups = hidden_dim does is remove a lot of these connections.\n",
        "\n",
        "          Now, each input 3 x 3 block/region is densely connected to the\n",
        "          corresponding output 3 x 3 block/region. This happens for each of the\n",
        "          hidden_dim input/output channel pairs independently.\n",
        "          So we're not even mixing different channels together - we're only \n",
        "          mixing spatial neighborhoods. \n",
        "          \n",
        "          Try to draw this out, or come to my (Jinhyung Park)'s OH if you want \n",
        "          a more in-depth explanation.\n",
        "          https://towardsdatascience.com/a-basic-introduction-to-separable-convolutions-b99ec3102728\n",
        "        \"\"\"\n",
        "        self.spatial_mixing = nn.Sequential(\n",
        "            # TODO: Fill this in!\n",
        "            nn.Conv2d(hidden_dim,hidden_dim,kernel_size=3,stride=self.stride,padding=1,groups=hidden_dim,bias=False),\n",
        "            nn.BatchNorm2d(num_features=hidden_dim),\n",
        "            nn.ReLU6(),\n",
        "        )\n",
        "\n",
        "        \"\"\"\n",
        "        What's this? Remember that hidden_dim is quite large - six times the \n",
        "        in_channels. So it was nice to do the above operations in this high-dim\n",
        "        space, where some patterns might be more clear. But we still want to \n",
        "        bring it back down-to-earth.\n",
        "\n",
        "        Intuitively, you can takeaway two reasons for doing this:\n",
        "        - Reduces computational cost by a lot. 6x in & out channels means 36x\n",
        "          larger weights, which is crazy. We're okay with just one of input or \n",
        "          output of a convolutional layer being large when mixing channels, but \n",
        "          not both.\n",
        "        \n",
        "        - We also want a residual connection from the input to the output. To \n",
        "          do that without introducing another convolutional layer, we want to\n",
        "          condense the # of channels back to be the same as the in_channels.\n",
        "          (out_channels and in_channels are usually the same).\n",
        "        \"\"\"\n",
        "        self.bottleneck_channels = nn.Sequential(\n",
        "            # TODO: Fill this in!\n",
        "            nn.Conv2d(in_channels=hidden_dim,out_channels=out_channels,kernel_size=1,stride=1,padding=0,bias=False),\n",
        "            nn.BatchNorm2d(num_features=out_channels),\n",
        "        )\n",
        "\n",
        "    def forward(self, x):\n",
        "        #print(\"X\",x.shape)\n",
        "        out = self.feature_mixing(x)\n",
        "        #print(\"Feature Mixing\",out.shape)\n",
        "        out = self.spatial_mixing(out)\n",
        "        #print(\"Spatial Mixing\",out.shape)\n",
        "        out = self.bottleneck_channels(out)\n",
        "        #print(\"BottleNeck Mixing\",out.shape)\n",
        "\n",
        "        if self.stride == 1 and self.in_channels == self.out_channels:\n",
        "                return x + out\n",
        "        else:\n",
        "             return out\n",
        "\n",
        "class MobileNet(nn.Module):\n",
        "    \"\"\"\n",
        "    The heavy lifting is already done in InvertedBottleneck.\n",
        "\n",
        "    Why MobileNetV2 and not V3? V2 is the foundation for V3, which uses \"neural\n",
        "    architecture search\" to find better configurations of V2. If you understand\n",
        "    V2 well, you can totally implement V3!\n",
        "    \"\"\"\n",
        "    def __init__(self, num_classes= 7000):\n",
        "        super().__init__() # Already features indented from previous class. \n",
        "\n",
        "        self.num_classes = num_classes\n",
        "\n",
        "        \"\"\"\n",
        "        First couple of layers are special, just do them here.\n",
        "        This is called the \"stem\". Usually, methods use it to downsample or twice.\n",
        "        \"\"\"\n",
        "        \n",
        "        self.stem = nn.Sequential(\n",
        "          nn.Conv2d(in_channels=3,out_channels=32,kernel_size=3,stride=2,padding=1,bias=False),\n",
        "          nn.BatchNorm2d(num_features=32),\n",
        "          nn.ReLU6(),\n",
        "          nn.Conv2d(in_channels=32,out_channels=32,kernel_size=3,stride=1,padding=1,bias=False,groups=32),\n",
        "          nn.BatchNorm2d(num_features=32),\n",
        "          nn.ReLU6(),\n",
        "          nn.Conv2d(in_channels=32,out_channels=16,kernel_size=1,stride=1,padding=0,bias=False),\n",
        "          nn.BatchNorm2d(num_features=16),\n",
        "        )\n",
        "\n",
        "        \"\"\"\n",
        "        Since we're just repeating InvertedResidualBlocks again and again, we\n",
        "        want to specify their parameters like this.\n",
        "        The four numbers in each row (a stage) are shown below.\n",
        "        - Expand ratio: We talked about this in InvertedResidualBlock\n",
        "        - Channels: This specifies the channel size before expansion\n",
        "        - # blocks: Each stage has many blocks, how many?\n",
        "        - Stride of first block: For some stages, we want to downsample. In a\n",
        "          downsampling stage, we set the first block in that stage to have\n",
        "          stride = 2, and the rest just have stride = 1.\n",
        "\n",
        "        Again, note that almost every stage here is downsampling! By the time\n",
        "        we get to the last stage, what is the image resolution? Can it still\n",
        "        be called an image for our dataset? Think about this, and make changes\n",
        "        as you want.\n",
        "        \"\"\"\n",
        "        self.stage_cfgs = [\n",
        "            # expand_ratio, channels, # blocks, stride of first block\n",
        "            [6,  24, 2, 2], #24  stride: 2\n",
        "            [6,  32, 3, 2], #32  stride: 2\n",
        "            [6,  64, 4, 2], #64  stride: 2\n",
        "            [6,  96, 3, 1], #96  stride: 1\n",
        "            [6, 160, 3, 2], #160 stride: 2\n",
        "            [6, 320, 1, 1], #320 stride: 1\n",
        "           ]\n",
        "\n",
        "        # Remember that our stem left us off at 16 channels. We're going to \n",
        "        # keep updating this in_channels variable as we go\n",
        "        in_channels = 16\n",
        "\n",
        "        # Let's make the layers\n",
        "        layers = []\n",
        "        for curr_stage in self.stage_cfgs:\n",
        "            expand_ratio, num_channels, num_blocks, stride = curr_stage\n",
        "            out_channels = num_channels\n",
        "            for block_idx in range(num_blocks):\n",
        "                layers.append(InvertedResidualBlock(\n",
        "                    in_channels=in_channels,\n",
        "                    out_channels=out_channels,\n",
        "                    # only have non-trivial stride if first block\n",
        "                    stride=stride if block_idx == 0 else 1,\n",
        "                    expand_ratio=expand_ratio\n",
        "                ))\n",
        "                # In channels of the next block is the out_channels of the current one\n",
        "                in_channels = out_channels \n",
        "            \n",
        "        self.layers = nn.Sequential(*layers) # Done, save them to the class\n",
        "\n",
        "        # Some final feature mixing\n",
        "        self.final_block = nn.Sequential(\n",
        "            nn.Conv2d(in_channels=in_channels,out_channels=1280, kernel_size=1, padding=0, stride=1, bias=False),\n",
        "            nn.BatchNorm2d(1280),\n",
        "            nn.ReLU6(),\n",
        "        )\n",
        "\n",
        "        # Now, we need to build the final classification layer.\n",
        "         \n",
        "        self.cls_layer = nn.Sequential(\n",
        "            # TODO: Fill this in!\n",
        "            # Pool over & collapse the spatial dimensions to (1, 1)\n",
        "            # Collapse the trivial (1, 1) dimensions\n",
        "            # Project to our # of classes\n",
        "            nn.AvgPool2d(kernel_size=(7,7)),\n",
        "            nn.Flatten(),\n",
        "            nn.Linear(1280,num_classes),\n",
        "        )\n",
        "         \n",
        "        \n",
        "        self._initialize_weights()\n",
        "\n",
        "    def _initialize_weights(self):\n",
        "        \"\"\"\n",
        "        Usually, I like to use default pytorch initialization for stuff, but\n",
        "        MobileNetV2 made a point of putting in some custom ones, so let's just\n",
        "        use them.\n",
        "        \"\"\"\n",
        "        for m in self.modules():\n",
        "            if isinstance(m, nn.Conv2d):\n",
        "                n = m.kernel_size[0] * m.kernel_size[1] * m.out_channels\n",
        "                m.weight.data.normal_(0, math.sqrt(2. / n))\n",
        "                if m.bias is not None:\n",
        "                    m.bias.data.zero_()\n",
        "            elif isinstance(m, nn.BatchNorm2d):\n",
        "                m.weight.data.fill_(1)\n",
        "                m.bias.data.zero_()\n",
        "            elif isinstance(m, nn.Linear):\n",
        "                m.weight.data.normal_(0, 0.01)\n",
        "                m.bias.data.zero_()\n",
        "\n",
        "    def forward(self, x):\n",
        "        out = self.stem(x)\n",
        "        out = self.layers(out)\n",
        "        out = self.final_block(out)\n",
        "        out = self.cls_layer(out)\n",
        "\n",
        "        return out"
      ]
    },
    {
      "cell_type": "code",
      "execution_count": null,
      "metadata": {
        "id": "ODbEgTbNHakh",
        "colab": {
          "base_uri": "https://localhost:8080/",
          "height": 182
        },
        "outputId": "768b3607-6511-4976-925e-3023efa313f0"
      },
      "outputs": [
        {
          "output_type": "error",
          "ename": "TypeError",
          "evalue": "ignored",
          "traceback": [
            "\u001b[0;31m---------------------------------------------------------------------------\u001b[0m",
            "\u001b[0;31mTypeError\u001b[0m                                 Traceback (most recent call last)",
            "\u001b[0;32m<ipython-input-16-c64de77e4bf9>\u001b[0m in \u001b[0;36m<module>\u001b[0;34m()\u001b[0m\n\u001b[1;32m      1\u001b[0m \u001b[0mmodel\u001b[0m\u001b[0;34m.\u001b[0m\u001b[0mload_state_dict\u001b[0m\u001b[0;34m(\u001b[0m\u001b[0mmodel\u001b[0m\u001b[0;34m.\u001b[0m\u001b[0mstate_dict\u001b[0m\u001b[0;34m(\u001b[0m\u001b[0;34m)\u001b[0m\u001b[0;34m,\u001b[0m\u001b[0;34m\"/content/drive/MyDrive/model_epoch_18.pth\"\u001b[0m\u001b[0;34m)\u001b[0m\u001b[0;34m\u001b[0m\u001b[0;34m\u001b[0m\u001b[0m\n\u001b[0;32m----> 2\u001b[0;31m \u001b[0moptimizer\u001b[0m\u001b[0;34m.\u001b[0m\u001b[0mload_state_dict\u001b[0m\u001b[0;34m(\u001b[0m\u001b[0mmodel\u001b[0m\u001b[0;34m.\u001b[0m\u001b[0mstate_dict\u001b[0m\u001b[0;34m(\u001b[0m\u001b[0;34m)\u001b[0m\u001b[0;34m,\u001b[0m\u001b[0;34m'/content/drive/MyDrive/model_epoch_18.pth'\u001b[0m\u001b[0;34m)\u001b[0m\u001b[0;34m\u001b[0m\u001b[0;34m\u001b[0m\u001b[0m\n\u001b[0m",
            "\u001b[0;31mTypeError\u001b[0m: load_state_dict() takes 2 positional arguments but 3 were given"
          ]
        }
      ],
      "source": [
        "model.load_state_dict(model.state_dict(),\"/content/drive/MyDrive/model_epoch_18.pth\")\n",
        "optimizer.load_state_dict(model.state_dict(),'/content/drive/MyDrive/model_epoch_18.pth')"
      ]
    },
    {
      "cell_type": "markdown",
      "source": [
        "## Model Loading"
      ],
      "metadata": {
        "id": "iAx3Bre8WZeG"
      }
    },
    {
      "cell_type": "code",
      "source": [
        "from google.colab import drive\n",
        "drive.mount('/content/drive')"
      ],
      "metadata": {
        "id": "PaRTTxihW3ZW"
      },
      "execution_count": null,
      "outputs": []
    },
    {
      "cell_type": "code",
      "source": [
        "save_checkpoint = torch.load(\"/content/drive/MyDrive/model_epoch_15.pth\")"
      ],
      "metadata": {
        "id": "aE-cGgztWhWH"
      },
      "execution_count": null,
      "outputs": []
    },
    {
      "cell_type": "code",
      "source": [
        "model.load_state_dict(save_checkpoint['model_state_dict'])"
      ],
      "metadata": {
        "id": "lAwZ5se4WneX"
      },
      "execution_count": null,
      "outputs": []
    },
    {
      "cell_type": "code",
      "source": [
        "optimizer.load_state_dict(save_checkpoint['optimizer_state_dict'])"
      ],
      "metadata": {
        "id": "InUF7UBsWuj3"
      },
      "execution_count": null,
      "outputs": []
    },
    {
      "cell_type": "code",
      "source": [
        "epoch = save_checkpoint['epoch']"
      ],
      "metadata": {
        "id": "tKXmJIvgWzRc"
      },
      "execution_count": null,
      "outputs": []
    },
    {
      "cell_type": "markdown",
      "metadata": {
        "id": "KZCn0qHuZRKj"
      },
      "source": [
        "# Setup everything for training"
      ]
    },
    {
      "cell_type": "code",
      "execution_count": null,
      "metadata": {
        "colab": {
          "base_uri": "https://localhost:8080/"
        },
        "id": "UowI9OcUYPjP",
        "outputId": "615100ca-e552-425a-cdf2-1a4757dcaa7d"
      },
      "outputs": [
        {
          "output_type": "stream",
          "name": "stdout",
          "text": [
            "0\n",
            "0\n",
            "0\n",
            "1\n",
            "0\n",
            "2\n",
            "1\n",
            "0\n",
            "1\n",
            "1\n",
            "1\n",
            "2\n",
            "1\n",
            "3\n",
            "2\n",
            "0\n",
            "2\n",
            "1\n",
            "2\n",
            "2\n",
            "2\n",
            "3\n",
            "2\n",
            "4\n",
            "2\n",
            "5\n",
            "3\n",
            "0\n",
            "3\n",
            "1\n",
            "3\n",
            "2\n",
            "Number of Params: 17554136\n"
          ]
        }
      ],
      "source": [
        "#import pdb\n",
        "model = ResNet()\n",
        "#model.load_state_dict(model.state_dict(),\"/content/drive/MyDrive/model_epoch_18.pth\")\n",
        "model.cuda()\n",
        "\n",
        "\n",
        "# For this homework, we're limiting you to 35 million trainable parameters, as\n",
        "# outputted by this. This is to help constrain your search space and maintain\n",
        "# reasonable training times & expectations\n",
        "num_trainable_parameters = 0\n",
        "for p in model.parameters():\n",
        "    num_trainable_parameters += p.numel()\n",
        "print(\"Number of Params: {}\".format(num_trainable_parameters))\n",
        "\n",
        "# TODO: What criterion do we use for this task?\n",
        "criterion = torch.nn.CrossEntropyLoss(label_smoothing=0.2)   #+ torch.nn.Triplet Loss                     #nn.PairwiseDistance()                      #nn.CrossEntropyLoss()\n",
        "optimizer = optim.SGD(model.parameters(), lr=lr, momentum=0.9, weight_decay=1e-4)  # weight decay original value: 1e-4\n",
        "#optimizer.load_state_dict(model.state_dict(),\"/content/drive/MyDrive/model_epoch_18.pth\")\n",
        "scheduler = optim.lr_scheduler.CosineAnnealingLR(optimizer, T_max=(len(train_loader) * epochs))\n",
        "# T_max is \"how many times will i call scheduler.step() until it reaches 0 lr?\"\n",
        "\n",
        "# For this homework, we strongly strongly recommend using FP16 to speed up training.\n",
        "# It helps more for larger models.\n",
        "# Go to https://effectivemachinelearning.com/PyTorch/8._Faster_training_with_mixed_precision\n",
        "# and compare \"Single precision training\" section with \"Mixed precision training\" section\n",
        "scaler = torch.cuda.amp.GradScaler()"
      ]
    },
    {
      "cell_type": "markdown",
      "metadata": {
        "id": "dzM11HtcboYv"
      },
      "source": [
        "# Let's train!"
      ]
    },
    {
      "cell_type": "code",
      "execution_count": null,
      "metadata": {
        "colab": {
          "base_uri": "https://localhost:8080/"
        },
        "id": "JrChwbscbYkj",
        "outputId": "eba7215b-13b2-4ba8-a93a-6495b144afb1"
      },
      "outputs": [
        {
          "output_type": "stream",
          "name": "stderr",
          "text": [
            ""
          ]
        },
        {
          "output_type": "stream",
          "name": "stdout",
          "text": [
            "Epoch 1/70: Train Acc 99.2681%, Train Loss 2.6456, Learning Rate 0.0817\n"
          ]
        },
        {
          "output_type": "stream",
          "name": "stderr",
          "text": [
            ""
          ]
        },
        {
          "output_type": "stream",
          "name": "stdout",
          "text": [
            "Epoch 2/70: Train Acc 99.2645%, Train Loss 2.6452, Learning Rate 0.0816\n"
          ]
        },
        {
          "output_type": "stream",
          "name": "stderr",
          "text": [
            ""
          ]
        },
        {
          "output_type": "stream",
          "name": "stdout",
          "text": [
            "Epoch 3/70: Train Acc 99.3497%, Train Loss 2.6403, Learning Rate 0.0814\n"
          ]
        },
        {
          "output_type": "stream",
          "name": "stderr",
          "text": [
            ""
          ]
        },
        {
          "output_type": "stream",
          "name": "stdout",
          "text": [
            "Epoch 4/70: Train Acc 99.3418%, Train Loss 2.6392, Learning Rate 0.0811\n"
          ]
        },
        {
          "output_type": "stream",
          "name": "stderr",
          "text": [
            ""
          ]
        },
        {
          "output_type": "stream",
          "name": "stdout",
          "text": [
            "Epoch 5/70: Train Acc 99.2881%, Train Loss 2.6402, Learning Rate 0.0808\n"
          ]
        },
        {
          "output_type": "stream",
          "name": "stderr",
          "text": [
            ""
          ]
        },
        {
          "output_type": "stream",
          "name": "stdout",
          "text": [
            "Epoch 6/70: Train Acc 99.3318%, Train Loss 2.6359, Learning Rate 0.0803\n"
          ]
        },
        {
          "output_type": "stream",
          "name": "stderr",
          "text": [
            ""
          ]
        },
        {
          "output_type": "stream",
          "name": "stdout",
          "text": [
            "Epoch 7/70: Train Acc 99.3404%, Train Loss 2.6355, Learning Rate 0.0798\n"
          ]
        },
        {
          "output_type": "stream",
          "name": "stderr",
          "text": [
            ""
          ]
        },
        {
          "output_type": "stream",
          "name": "stdout",
          "text": [
            "Epoch 8/70: Train Acc 99.3733%, Train Loss 2.6318, Learning Rate 0.0792\n"
          ]
        },
        {
          "output_type": "stream",
          "name": "stderr",
          "text": [
            ""
          ]
        },
        {
          "output_type": "stream",
          "name": "stdout",
          "text": [
            "Epoch 9/70: Train Acc 99.3854%, Train Loss 2.6265, Learning Rate 0.0785\n"
          ]
        },
        {
          "output_type": "stream",
          "name": "stderr",
          "text": [
            ""
          ]
        },
        {
          "output_type": "stream",
          "name": "stdout",
          "text": [
            "Epoch 10/70: Train Acc 99.4005%, Train Loss 2.6215, Learning Rate 0.0777\n"
          ]
        },
        {
          "output_type": "stream",
          "name": "stderr",
          "text": [
            ""
          ]
        },
        {
          "output_type": "stream",
          "name": "stdout",
          "text": [
            "Epoch 11/70: Train Acc 99.4155%, Train Loss 2.6197, Learning Rate 0.0769\n"
          ]
        },
        {
          "output_type": "stream",
          "name": "stderr",
          "text": [
            ""
          ]
        },
        {
          "output_type": "stream",
          "name": "stdout",
          "text": [
            "Epoch 12/70: Train Acc 99.4727%, Train Loss 2.6127, Learning Rate 0.0760\n"
          ]
        },
        {
          "output_type": "stream",
          "name": "stderr",
          "text": [
            ""
          ]
        },
        {
          "output_type": "stream",
          "name": "stdout",
          "text": [
            "Epoch 13/70: Train Acc 99.4878%, Train Loss 2.6082, Learning Rate 0.0750\n"
          ]
        },
        {
          "output_type": "stream",
          "name": "stderr",
          "text": [
            ""
          ]
        },
        {
          "output_type": "stream",
          "name": "stdout",
          "text": [
            "Epoch 14/70: Train Acc 99.4892%, Train Loss 2.6073, Learning Rate 0.0740\n"
          ]
        },
        {
          "output_type": "stream",
          "name": "stderr",
          "text": [
            ""
          ]
        },
        {
          "output_type": "stream",
          "name": "stdout",
          "text": [
            "Epoch 15/70: Train Acc 99.5207%, Train Loss 2.6015, Learning Rate 0.0729\n"
          ]
        },
        {
          "output_type": "stream",
          "name": "stderr",
          "text": [
            ""
          ]
        },
        {
          "output_type": "stream",
          "name": "stdout",
          "text": [
            "Epoch 16/70: Train Acc 99.5457%, Train Loss 2.5954, Learning Rate 0.0717\n"
          ]
        },
        {
          "output_type": "stream",
          "name": "stderr",
          "text": [
            ""
          ]
        },
        {
          "output_type": "stream",
          "name": "stdout",
          "text": [
            "Epoch 17/70: Train Acc 99.5979%, Train Loss 2.5891, Learning Rate 0.0705\n"
          ]
        },
        {
          "output_type": "stream",
          "name": "stderr",
          "text": [
            "Train:  82%|████████▏ | 224/273 [13:49<02:38,  3.24s/it, acc=99.6425%, loss=2.5810, lr=0.0694, num_correct=114278]"
          ]
        }
      ],
      "source": [
        "for epoch in range(epochs):\n",
        "    # Quality of life tip: leave=False and position=0 are needed to make tqdm usable in jupyter\n",
        "    batch_bar = tqdm(total=len(train_loader), dynamic_ncols=True, leave=False, position=0, desc='Train') \n",
        "\n",
        "    num_correct = 0\n",
        "    total_loss = 0\n",
        "\n",
        "    for i, (x, y) in enumerate(train_loader):\n",
        "        #print(\"y\",y.shape)\n",
        "        #print(\"x\",x.shape)\n",
        "        optimizer.zero_grad()\n",
        "\n",
        "        x = x.cuda()\n",
        "        y = y.cuda()\n",
        "        \n",
        "        # Don't be surprised - we just wrap these two lines to make it work for FP16\n",
        "        with torch.cuda.amp.autocast():     \n",
        "            outputs = model(x)\n",
        "            loss = criterion(outputs, y)\n",
        "\n",
        "        # Update # correct & loss as we go\n",
        "        num_correct += int((torch.argmax(outputs, axis=1) == y).sum())\n",
        "        total_loss += float(loss)\n",
        "\n",
        "        # tqdm lets you add some details so you can monitor training as you train.\n",
        "        batch_bar.set_postfix(\n",
        "            acc=\"{:.04f}%\".format(100 * num_correct / ((i + 1) * batch_size)),\n",
        "            loss=\"{:.04f}\".format(float(total_loss / (i + 1))),\n",
        "            num_correct=num_correct,\n",
        "            lr=\"{:.04f}\".format(float(optimizer.param_groups[0]['lr'])))\n",
        "        \n",
        "        # Another couple things you need for FP16. \n",
        "        scaler.scale(loss).backward() # This is a replacement for loss.backward()\n",
        "        scaler.step(optimizer) # This is a replacement for optimizer.step()\n",
        "        scaler.update() # This is something added just for FP16\n",
        "\n",
        "        scheduler.step() # We told scheduler T_max that we'd call step() (len(train_loader) * epochs) many times.\n",
        "\n",
        "        batch_bar.update() # Update tqdm bar\n",
        "    batch_bar.close() # You need this to close the tqdm bar\n",
        "\n",
        "    # You can add validation per-epoch here if you would like\n",
        "    \n",
        "\n",
        "    print(\"Epoch {}/{}: Train Acc {:.04f}%, Train Loss {:.04f}, Learning Rate {:.04f}\".format(\n",
        "        epoch + 1,\n",
        "        epochs,\n",
        "        100 * num_correct / (len(train_loader) * batch_size),\n",
        "        float(total_loss / len(train_loader)),\n",
        "        float(optimizer.param_groups[0]['lr'])))\n",
        "    #torch.save(model.state_dict(),\"/content/drive/MyDrive/model_epoch_\"+str(epoch)+\".pth\")\n",
        "    checkpoint= {\n",
        "               'epoch': epoch,\n",
        "               'model_state_dict': model.state_dict(),\n",
        "               'optimizer_state_dict': optimizer.state_dict(),\n",
        "               }\n",
        "    torch.save(checkpoint,\"/content/drive/MyDrive/model_epoch_\"+str(epoch)+\".pth\")           \n",
        "    \n",
        "            "
      ]
    },
    {
      "cell_type": "code",
      "source": [
        "! ls /content/drive"
      ],
      "metadata": {
        "colab": {
          "base_uri": "https://localhost:8080/"
        },
        "id": "aTOQDyeGY3XJ",
        "outputId": "c8405a66-fe2b-42a8-8c60-5679d3b71954"
      },
      "execution_count": null,
      "outputs": [
        {
          "output_type": "stream",
          "name": "stdout",
          "text": [
            "MyDrive\n"
          ]
        }
      ]
    },
    {
      "cell_type": "markdown",
      "source": [
        "# Classification Task: Validation"
      ],
      "metadata": {
        "id": "Hc9OnJk8meb3"
      }
    },
    {
      "cell_type": "markdown",
      "source": [
        "## Load the Required Model/.pth file"
      ],
      "metadata": {
        "id": "E-_n9kFilfWe"
      }
    },
    {
      "cell_type": "code",
      "execution_count": null,
      "metadata": {
        "colab": {
          "base_uri": "https://localhost:8080/"
        },
        "id": "xmMrr7SfqWKl",
        "outputId": "684b87d6-ae24-45ee-a002-bf95437f98a4"
      },
      "outputs": [
        {
          "name": "stdout",
          "output_type": "stream",
          "text": [
            "0\n",
            "0\n",
            "0\n",
            "1\n",
            "0\n",
            "2\n",
            "1\n",
            "0\n",
            "1\n",
            "1\n",
            "1\n",
            "2\n",
            "1\n",
            "3\n",
            "2\n",
            "0\n",
            "2\n",
            "1\n",
            "2\n",
            "2\n",
            "2\n",
            "3\n",
            "2\n",
            "4\n",
            "2\n",
            "5\n",
            "3\n",
            "0\n",
            "3\n",
            "1\n",
            "3\n",
            "2\n"
          ]
        },
        {
          "data": {
            "text/plain": [
              "<All keys matched successfully>"
            ]
          },
          "execution_count": 6,
          "metadata": {},
          "output_type": "execute_result"
        }
      ],
      "source": [
        "device = torch.device(\"cuda\")\n",
        "model = ResNet().cuda() # NA 18 cuda()\n",
        "model.load_state_dict(torch.load(\"/content/model_epoch_36.pth\"))"
      ]
    },
    {
      "cell_type": "code",
      "execution_count": null,
      "metadata": {
        "colab": {
          "base_uri": "https://localhost:8080/"
        },
        "id": "le1o-OVjfeN9",
        "outputId": "51cc2fb2-5ef4-4412-818f-de768c03f208"
      },
      "outputs": [
        {
          "output_type": "stream",
          "name": "stderr",
          "text": [
            "                                                                  "
          ]
        },
        {
          "output_type": "stream",
          "name": "stdout",
          "text": [
            "Validation: 80.1200%\n"
          ]
        },
        {
          "output_type": "stream",
          "name": "stderr",
          "text": [
            "\r"
          ]
        }
      ],
      "source": [
        "model.eval()\n",
        "batch_bar = tqdm(total=len(val_loader), dynamic_ncols=True, position=0, leave=False, desc='Val')\n",
        "num_correct = 0\n",
        "for i, (x, y) in enumerate(val_loader):\n",
        "\n",
        "    x = x.cuda()\n",
        "    y = y.cuda()\n",
        "\n",
        "    with torch.no_grad():\n",
        "        outputs = model(x)\n",
        "\n",
        "    num_correct += int((torch.argmax(outputs, axis=1) == y).sum())\n",
        "    batch_bar.set_postfix(acc=\"{:.04f}%\".format(100 * num_correct / ((i + 1) * batch_size)))\n",
        "\n",
        "    batch_bar.update()\n",
        "    \n",
        "batch_bar.close()\n",
        "print(\"Validation: {:.04f}%\".format(100 * num_correct / len(val_dataset)))"
      ]
    },
    {
      "cell_type": "markdown",
      "metadata": {
        "id": "UpgCHImRkYQW"
      },
      "source": [
        "# Classification Task: Submit to Kaggle"
      ]
    },
    {
      "cell_type": "code",
      "execution_count": null,
      "metadata": {
        "id": "08Zv2AWFrfVP"
      },
      "outputs": [],
      "source": [
        "class ClassificationTestSet(Dataset):\n",
        "    # It's possible to load test set data using ImageFolder without making a custom class.\n",
        "    # See if you can think it through!\n",
        "\n",
        "    def __init__(self, data_dir, transforms):\n",
        "        self.data_dir = data_dir\n",
        "        self.transforms = transforms\n",
        "\n",
        "        # This one-liner basically generates a sorted list of full paths to each image in data_dir\n",
        "        self.img_paths = list(map(lambda fname: osp.join(self.data_dir, fname), sorted(os.listdir(self.data_dir))))\n",
        "\n",
        "    def __len__(self):\n",
        "        return len(self.img_paths)\n",
        "    \n",
        "    def __getitem__(self, idx):\n",
        "        return self.transforms(Image.open(self.img_paths[idx]))"
      ]
    },
    {
      "cell_type": "code",
      "execution_count": null,
      "metadata": {
        "id": "td_qvGwr16z0"
      },
      "outputs": [],
      "source": [
        "test_dataset = ClassificationTestSet(TEST_DIR, ttf.Compose(val_transforms))\n",
        "test_loader = DataLoader(test_dataset, batch_size=batch_size, shuffle=False, \n",
        "                         drop_last=False, num_workers=1)"
      ]
    },
    {
      "cell_type": "code",
      "execution_count": null,
      "metadata": {
        "colab": {
          "base_uri": "https://localhost:8080/"
        },
        "id": "U2WQEUjXkWvo",
        "outputId": "fcd694e2-fc5a-4963-bb60-0588d55be808"
      },
      "outputs": [
        {
          "name": "stderr",
          "output_type": "stream",
          "text": [
            ""
          ]
        }
      ],
      "source": [
        "model.eval()\n",
        "batch_bar = tqdm(total=len(test_loader), dynamic_ncols=True, position=0, leave=False, desc='Test')\n",
        "device = torch.device(\"cuda\" if torch.cuda.is_available() else \"cpu\")\n",
        "res = []\n",
        "for i, (x) in enumerate(test_loader):\n",
        "    x= x.cuda()\n",
        "    \n",
        "    # TODO: Finish predicting on the test set.\n",
        "    with torch.no_grad():\n",
        "         output=model(x)\n",
        "    \n",
        "    pred = torch.argmax(output,axis=1)\n",
        "    res.extend(pred)\n",
        "\n",
        "    batch_bar.update()\n",
        "    \n",
        "batch_bar.close()"
      ]
    },
    {
      "cell_type": "code",
      "execution_count": null,
      "metadata": {
        "id": "Vob9a2-HkW_V"
      },
      "outputs": [],
      "source": [
        "with open(\"classification_early_submission.csv\", \"w+\") as f:\n",
        "    f.write(\"id,label\\n\")\n",
        "    for i in range(len(test_dataset)):\n",
        "        f.write(\"{},{}\\n\".format(str(i).zfill(6) + \".jpg\", res[i]))"
      ]
    },
    {
      "cell_type": "code",
      "execution_count": null,
      "metadata": {
        "colab": {
          "base_uri": "https://localhost:8080/"
        },
        "id": "zpxatBfT4jSQ",
        "outputId": "d6ecd034-4a7f-4eec-d08c-7af207ff5404"
      },
      "outputs": [
        {
          "name": "stdout",
          "output_type": "stream",
          "text": [
            "Warning: Looks like you're using an outdated API Version, please consider updating (server 1.5.12 / client 1.5.8)\n",
            "100% 541k/541k [00:04<00:00, 127kB/s]\n",
            "Successfully submitted to Face Recognition"
          ]
        }
      ],
      "source": [
        "!kaggle competitions submit -c 11-785-s22-hw2p2-classification -f classification_early_submission.csv -m \"New Submission\""
      ]
    },
    {
      "cell_type": "markdown",
      "metadata": {
        "id": "PsJx1l1T4twC"
      },
      "source": [
        "# Verification Task: Validation"
      ]
    },
    {
      "cell_type": "markdown",
      "metadata": {
        "id": "FoBFFF8-Lpvj"
      },
      "source": [
        "There are 6K verification dev images, but 166K \"pairs\" for you to compare. So, it's much more efficient to compute the features for the 6K verification images, and just compare afterwards.\n",
        "\n",
        "This will be done by creating a dictionary mapping the image file names to the features. Then, you'll use this dictionary to compute the similarities for each pair."
      ]
    },
    {
      "cell_type": "code",
      "execution_count": null,
      "metadata": {
        "colab": {
          "base_uri": "https://localhost:8080/"
        },
        "id": "ZV-WsTi9LrVz",
        "outputId": "283ad8ca-55ab-42b8-fad6-7c3ad89b832e"
      },
      "outputs": [
        {
          "name": "stdout",
          "output_type": "stream",
          "text": [
            "6000\n",
            "166801\n"
          ]
        }
      ],
      "source": [
        "!ls verification/verification/dev | wc -l\n",
        "!cat verification/verification/verification_dev.csv | wc -l"
      ]
    },
    {
      "cell_type": "code",
      "execution_count": null,
      "metadata": {
        "id": "m1YtIwxuL7H0"
      },
      "outputs": [],
      "source": [
        "class VerificationDataset(Dataset):\n",
        "    def __init__(self, data_dir, transforms):\n",
        "        self.data_dir = data_dir\n",
        "        self.transforms = transforms\n",
        "\n",
        "        # This one-liner basically generates a sorted list of full paths to each image in data_dir\n",
        "        self.img_paths = list(map(lambda fname: osp.join(self.data_dir, fname), sorted(os.listdir(self.data_dir))))\n",
        "\n",
        "    def __len__(self):\n",
        "        return len(self.img_paths)\n",
        "    \n",
        "    def __getitem__(self, idx):\n",
        "        # We return the image, as well as the path to that image (relative path)\n",
        "        return self.transforms(Image.open(self.img_paths[idx])), osp.relpath(self.img_paths[idx], self.data_dir)"
      ]
    },
    {
      "cell_type": "code",
      "execution_count": null,
      "metadata": {
        "id": "98lmjm0S4tHR"
      },
      "outputs": [],
      "source": [
        "val_veri_dataset = VerificationDataset(osp.join(DATA_DIR, \"verification/verification/dev\"),\n",
        "                                       ttf.Compose(val_transforms))\n",
        "val_ver_loader = torch.utils.data.DataLoader(val_veri_dataset, batch_size=batch_size, \n",
        "                                             shuffle=False, num_workers=1)"
      ]
    },
    {
      "cell_type": "code",
      "execution_count": null,
      "metadata": {
        "colab": {
          "base_uri": "https://localhost:8080/"
        },
        "id": "ZX3Qtr0aqjA9",
        "outputId": "39db6327-150b-434e-acdb-329984607378"
      },
      "outputs": [
        {
          "data": {
            "text/plain": [
              "<All keys matched successfully>"
            ]
          },
          "execution_count": 22,
          "metadata": {},
          "output_type": "execute_result"
        }
      ],
      "source": [
        "#checkpoint = torch.load('model_epoch_19.pth')\n",
        "model.load_state_dict(torch.load('model_epoch_42.pth')['model_state_dict'])\n",
        "optimizer.load_state_dict(torch.load('model_epoch_42.pth')['optimizer_state_dict'])"
      ]
    },
    {
      "cell_type": "code",
      "execution_count": null,
      "metadata": {
        "colab": {
          "base_uri": "https://localhost:8080/"
        },
        "id": "-Qw45H-eMyyn",
        "outputId": "54e88b34-a75c-4c12-b7a9-fbea35415738"
      },
      "outputs": [
        {
          "name": "stderr",
          "output_type": "stream",
          "text": [
            "  8%|▊         | 1/12 [00:01<00:13,  1.26s/it]"
          ]
        },
        {
          "name": "stdout",
          "output_type": "stream",
          "text": [
            "torch.Size([512, 7000])\n"
          ]
        },
        {
          "name": "stderr",
          "output_type": "stream",
          "text": [
            "\r 17%|█▋        | 2/12 [00:02<00:11,  1.13s/it]"
          ]
        },
        {
          "name": "stdout",
          "output_type": "stream",
          "text": [
            "torch.Size([512, 7000])\n"
          ]
        },
        {
          "name": "stderr",
          "output_type": "stream",
          "text": [
            "\r 25%|██▌       | 3/12 [00:03<00:10,  1.11s/it]"
          ]
        },
        {
          "name": "stdout",
          "output_type": "stream",
          "text": [
            "torch.Size([512, 7000])\n"
          ]
        },
        {
          "name": "stderr",
          "output_type": "stream",
          "text": [
            "\r 33%|███▎      | 4/12 [00:04<00:08,  1.06s/it]"
          ]
        },
        {
          "name": "stdout",
          "output_type": "stream",
          "text": [
            "torch.Size([512, 7000])\n"
          ]
        },
        {
          "name": "stderr",
          "output_type": "stream",
          "text": [
            "\r 42%|████▏     | 5/12 [00:05<00:07,  1.07s/it]"
          ]
        },
        {
          "name": "stdout",
          "output_type": "stream",
          "text": [
            "torch.Size([512, 7000])\n"
          ]
        },
        {
          "name": "stderr",
          "output_type": "stream",
          "text": [
            "\r 50%|█████     | 6/12 [00:06<00:06,  1.04s/it]"
          ]
        },
        {
          "name": "stdout",
          "output_type": "stream",
          "text": [
            "torch.Size([512, 7000])\n"
          ]
        },
        {
          "name": "stderr",
          "output_type": "stream",
          "text": [
            "\r 58%|█████▊    | 7/12 [00:07<00:05,  1.06s/it]"
          ]
        },
        {
          "name": "stdout",
          "output_type": "stream",
          "text": [
            "torch.Size([512, 7000])\n"
          ]
        },
        {
          "name": "stderr",
          "output_type": "stream",
          "text": [
            "\r 67%|██████▋   | 8/12 [00:08<00:04,  1.03s/it]"
          ]
        },
        {
          "name": "stdout",
          "output_type": "stream",
          "text": [
            "torch.Size([512, 7000])\n"
          ]
        },
        {
          "name": "stderr",
          "output_type": "stream",
          "text": [
            "\r 75%|███████▌  | 9/12 [00:09<00:03,  1.05s/it]"
          ]
        },
        {
          "name": "stdout",
          "output_type": "stream",
          "text": [
            "torch.Size([512, 7000])\n"
          ]
        },
        {
          "name": "stderr",
          "output_type": "stream",
          "text": [
            "\r 83%|████████▎ | 10/12 [00:10<00:02,  1.02s/it]"
          ]
        },
        {
          "name": "stdout",
          "output_type": "stream",
          "text": [
            "torch.Size([512, 7000])\n"
          ]
        },
        {
          "name": "stderr",
          "output_type": "stream",
          "text": [
            "\r 92%|█████████▏| 11/12 [00:11<00:01,  1.04s/it]"
          ]
        },
        {
          "name": "stdout",
          "output_type": "stream",
          "text": [
            "torch.Size([512, 7000])\n"
          ]
        },
        {
          "name": "stderr",
          "output_type": "stream",
          "text": [
            "                                               "
          ]
        },
        {
          "name": "stdout",
          "output_type": "stream",
          "text": [
            "torch.Size([368, 7000])\n"
          ]
        },
        {
          "name": "stderr",
          "output_type": "stream",
          "text": [
            "\r"
          ]
        }
      ],
      "source": [
        "model.eval()\n",
        "\n",
        "feats_dict = dict()\n",
        "for batch_idx, (imgs, path_names) in tqdm(enumerate(val_ver_loader), total=len(val_ver_loader), position=0, leave=False):\n",
        "    imgs = imgs.cuda()\n",
        "\n",
        "    with torch.no_grad():\n",
        "        # Note that we return the feats here, not the final outputs\n",
        "        # Feel free to try the final outputs too!\n",
        "        feats = model(imgs)                  #return_feats=True\n",
        "        print(feats.size())\n",
        "    # TODO: Now we have features and the image path names. What to do with them?\n",
        "        #Convert tuple(path_names) into list(path_names)\n",
        "        i=0\n",
        "        \n",
        "        for pathnames in list(path_names):\n",
        "          #print(i)\n",
        "          X = osp.join(\"dev/\",pathnames)\n",
        "          #feats_dict1 = {X:feats[i]}\n",
        "          #print(i)\n",
        "          #feats_dict = feats_dict.update({X:feats[i]})\n",
        "          #feats_dict[(batch_idx,X)] = {feats[i]}  #(\"dev/\"+str(pathnames)\n",
        "          #feats_dict[(batch_idx,X)] = {feats[i]}\n",
        "          feats_dict[X] = feats[i]\n",
        "          i=i+1\n",
        "    # Hint: use the feats_dict somehow."
      ]
    },
    {
      "cell_type": "code",
      "execution_count": null,
      "metadata": {
        "colab": {
          "base_uri": "https://localhost:8080/"
        },
        "id": "k6TG6RD6NTtX",
        "outputId": "291b71ca-bb32-4ef1-9b29-7b4df701f712"
      },
      "outputs": [
        {
          "name": "stdout",
          "output_type": "stream",
          "text": [
            "('dev/000f15b775.jpg', tensor([1.6615e-02, 0.0000e+00, 5.0548e-03, 0.0000e+00, 1.6475e-02, 2.0388e-04,\n",
            "        0.0000e+00, 3.2699e-04, 1.3654e-02, 3.7086e-03, 1.2699e-02, 7.9263e-04,\n",
            "        0.0000e+00, 5.1147e-04, 0.0000e+00, 1.3044e-02, 2.3715e-02, 1.9935e-03,\n",
            "        1.2184e-02, 5.6251e-03, 2.3293e-03, 1.5844e-02, 1.9118e-04, 2.3009e-04,\n",
            "        0.0000e+00, 0.0000e+00, 6.1835e-05, 1.0891e-02, 2.1861e-02, 5.2396e-04,\n",
            "        5.3622e-02, 2.2622e-02, 4.5036e-03, 2.2157e-04, 0.0000e+00, 0.0000e+00,\n",
            "        1.6733e-03, 4.6967e-02, 2.4195e-02, 1.6687e-02, 9.7350e-03, 2.2226e-02,\n",
            "        1.6410e-02, 1.7660e-02, 2.7316e-03, 0.0000e+00, 1.1201e-02, 1.4850e-04,\n",
            "        3.1912e-02, 3.7956e-02, 2.5858e-03, 1.5431e-02, 2.8290e-02, 3.5897e-05,\n",
            "        8.9828e-04, 1.2853e-02, 1.4399e-02, 4.7612e-03, 2.7833e-02, 1.5064e-03,\n",
            "        1.1436e-03, 3.3553e-02, 3.7235e-02, 8.4303e-03, 1.9387e-03, 2.5172e-02,\n",
            "        2.9869e-03, 2.7442e-04, 1.2953e-02, 2.3115e-04, 0.0000e+00, 2.6940e-02,\n",
            "        1.6744e-02, 2.4632e-03, 3.0140e-04, 0.0000e+00, 0.0000e+00, 6.3111e-03,\n",
            "        2.3965e-02, 5.6845e-05, 4.8453e-03, 7.0027e-04, 2.2782e-02, 1.5904e-02,\n",
            "        2.3444e-03, 1.5063e-02, 1.2099e-05, 0.0000e+00, 2.9233e-02, 0.0000e+00,\n",
            "        1.7735e-03, 2.2006e-03, 0.0000e+00, 9.1821e-04, 2.4478e-02, 1.8773e-02,\n",
            "        2.2936e-03, 1.5603e-03, 5.1481e-03, 3.0203e-02, 3.7541e-02, 3.0002e-03,\n",
            "        4.0533e-03, 4.1452e-03, 9.2147e-04, 8.8675e-03, 1.9081e-03, 9.8792e-03,\n",
            "        2.3720e-03, 2.0149e-02, 0.0000e+00, 0.0000e+00, 4.2918e-03, 2.0235e-02,\n",
            "        0.0000e+00, 1.4324e-02, 2.5983e-02, 3.3158e-03, 5.8051e-04, 1.1141e-03,\n",
            "        0.0000e+00, 2.5662e-02, 1.2145e-03, 1.6775e-02, 3.3397e-02, 4.6177e-05,\n",
            "        8.9385e-05, 1.6920e-02, 9.9231e-03, 0.0000e+00, 1.6940e-03, 2.0696e-02,\n",
            "        2.1590e-02, 8.6728e-03, 0.0000e+00, 0.0000e+00, 5.1922e-03, 8.2211e-04,\n",
            "        1.6068e-02, 2.2930e-02, 2.0417e-02, 2.6398e-02, 9.9951e-04, 0.0000e+00,\n",
            "        0.0000e+00, 1.0574e-02, 1.1603e-05, 4.5389e-02, 6.2921e-04, 9.1843e-05,\n",
            "        1.8760e-03, 9.6190e-04, 4.7369e-06, 2.6626e-02, 1.6005e-04, 2.0908e-04,\n",
            "        3.3227e-02, 2.1545e-02, 3.7222e-03, 1.5993e-02, 1.5221e-04, 1.2306e-02,\n",
            "        0.0000e+00, 0.0000e+00, 0.0000e+00, 1.4256e-02, 7.0737e-03, 1.5978e-03,\n",
            "        3.5171e-02, 1.0889e-02, 9.2556e-03, 3.6158e-03, 3.0321e-05, 1.7290e-02,\n",
            "        6.0721e-03, 0.0000e+00, 3.9639e-02, 4.3516e-03, 2.7656e-02, 1.7479e-02,\n",
            "        6.2451e-03, 4.2445e-02, 2.3138e-02, 0.0000e+00, 1.4452e-02, 1.6109e-02,\n",
            "        0.0000e+00, 4.4289e-04, 0.0000e+00, 0.0000e+00, 8.1885e-05, 1.2319e-05,\n",
            "        1.6292e-03, 2.2079e-02, 1.0508e-04, 0.0000e+00, 7.2561e-03, 2.7904e-02,\n",
            "        0.0000e+00, 2.9875e-02, 2.0008e-06, 4.3427e-04, 0.0000e+00, 2.3004e-02,\n",
            "        5.4054e-04, 1.7962e-02, 4.8956e-03, 4.8945e-02, 1.3028e-02, 0.0000e+00,\n",
            "        3.5427e-02, 1.1660e-02, 1.9414e-02, 3.0157e-02, 0.0000e+00, 3.1056e-03,\n",
            "        3.3166e-03, 1.9982e-03, 1.9833e-02, 4.1941e-03, 0.0000e+00, 9.6925e-04,\n",
            "        0.0000e+00, 4.2720e-03, 9.2410e-03, 4.6226e-03, 0.0000e+00, 5.2844e-05,\n",
            "        1.3101e-02, 0.0000e+00, 0.0000e+00, 0.0000e+00, 6.4794e-04, 0.0000e+00,\n",
            "        2.8938e-02, 2.9697e-02, 6.0221e-03, 0.0000e+00, 8.7845e-03, 5.3568e-03,\n",
            "        2.6695e-03, 2.0883e-03, 0.0000e+00, 0.0000e+00, 2.6601e-02, 0.0000e+00,\n",
            "        1.5279e-02, 1.1475e-02, 3.5201e-03, 1.6712e-02, 8.2295e-03, 6.2831e-03,\n",
            "        3.2159e-02, 2.6905e-04, 1.7209e-03, 4.4651e-05, 8.7326e-03, 4.8399e-03,\n",
            "        0.0000e+00, 0.0000e+00, 7.5521e-03, 1.4741e-02, 0.0000e+00, 2.8835e-06,\n",
            "        2.4958e-02, 0.0000e+00, 2.0336e-02, 0.0000e+00, 1.7300e-03, 0.0000e+00,\n",
            "        9.8802e-04, 1.2618e-02, 4.2225e-02, 1.3498e-03, 0.0000e+00, 0.0000e+00,\n",
            "        2.7294e-02, 1.7320e-04, 1.2567e-03, 9.5794e-03, 0.0000e+00, 4.8800e-03,\n",
            "        0.0000e+00, 3.5902e-02, 0.0000e+00, 3.5451e-02, 3.6481e-03, 0.0000e+00,\n",
            "        0.0000e+00, 1.3762e-03, 1.7473e-02, 1.1269e-02, 0.0000e+00, 2.1014e-03,\n",
            "        2.7388e-02, 3.9243e-04, 8.4391e-03, 4.6373e-02, 1.1857e-02, 2.0552e-05,\n",
            "        5.1901e-03, 0.0000e+00, 3.1369e-02, 0.0000e+00, 5.3502e-03, 2.2394e-04,\n",
            "        2.7332e-03, 1.3664e-02, 3.4431e-03, 6.6042e-05, 0.0000e+00, 1.1992e-02,\n",
            "        9.9945e-04, 0.0000e+00, 8.0434e-03, 1.7995e-03, 7.4855e-04, 1.6031e-02,\n",
            "        0.0000e+00, 1.1423e-02, 0.0000e+00, 2.3992e-03, 1.4877e-02, 4.4173e-03,\n",
            "        1.3968e-02, 7.1784e-04, 2.3405e-02, 1.8435e-04, 1.0135e-02, 7.8960e-04,\n",
            "        1.1770e-03, 4.0531e-04, 6.1047e-03, 0.0000e+00, 0.0000e+00, 9.0342e-04,\n",
            "        7.8138e-03, 5.2741e-04, 3.2291e-02, 3.0489e-02, 6.1840e-03, 1.0404e-02,\n",
            "        1.4115e-02, 0.0000e+00, 5.3987e-02, 3.5160e-02, 5.8085e-03, 1.8394e-02,\n",
            "        1.4293e-02, 4.0348e-03, 7.1792e-03, 0.0000e+00, 5.0514e-04, 2.2987e-03,\n",
            "        1.7697e-02, 0.0000e+00, 1.6465e-03, 7.9274e-04, 1.6021e-02, 0.0000e+00,\n",
            "        2.3626e-03, 2.9143e-02, 2.0492e-03, 0.0000e+00, 2.5038e-02, 1.0116e-02,\n",
            "        4.4467e-04, 6.0987e-02, 4.9367e-03, 2.6725e-02, 3.1288e-02, 0.0000e+00,\n",
            "        7.2895e-05, 7.4284e-04, 5.5719e-03, 2.2015e-02, 1.6951e-02, 2.6562e-02,\n",
            "        0.0000e+00, 0.0000e+00, 7.2118e-03, 7.7128e-03, 0.0000e+00, 2.7500e-04,\n",
            "        5.7438e-03, 3.3745e-03, 8.0646e-03, 0.0000e+00, 0.0000e+00, 7.7183e-04,\n",
            "        1.3770e-02, 4.2453e-03, 1.5070e-02, 1.6969e-02, 1.4541e-02, 1.2580e-02,\n",
            "        0.0000e+00, 1.5485e-02, 0.0000e+00, 2.0652e-03, 2.6084e-04, 1.3463e-03,\n",
            "        7.4290e-04, 4.6498e-02, 2.9942e-03, 2.0572e-02, 1.2855e-02, 1.6113e-03,\n",
            "        0.0000e+00, 0.0000e+00, 2.8518e-02, 2.8693e-03, 4.2526e-02, 3.0348e-02,\n",
            "        3.2975e-04, 0.0000e+00, 7.6147e-05, 1.3597e-04, 8.3209e-03, 0.0000e+00,\n",
            "        0.0000e+00, 0.0000e+00, 5.6970e-05, 0.0000e+00, 5.8063e-03, 1.9705e-02,\n",
            "        2.4085e-04, 8.9513e-04, 8.7445e-03, 2.7728e-02, 0.0000e+00, 2.1760e-03,\n",
            "        1.3008e-02, 2.6279e-03, 4.2457e-05, 0.0000e+00, 2.3986e-03, 1.9313e-02,\n",
            "        2.1936e-02, 3.4089e-03, 2.3660e-03, 4.9381e-04, 1.0734e-03, 1.8514e-03,\n",
            "        0.0000e+00, 3.8367e-05, 0.0000e+00, 0.0000e+00, 3.5575e-04, 0.0000e+00,\n",
            "        1.0216e-02, 3.7998e-04, 4.3953e-03, 1.0255e-04, 2.4391e-02, 1.4424e-02,\n",
            "        1.3369e-02, 1.1645e-02, 5.0297e-04, 0.0000e+00, 2.2039e-02, 2.0357e-02,\n",
            "        2.2052e-03, 3.3651e-03, 1.2050e-02, 1.2131e-02, 1.0595e-02, 3.4024e-02,\n",
            "        4.4146e-05, 8.7487e-03, 0.0000e+00, 4.9269e-03, 9.4639e-04, 5.5378e-03,\n",
            "        1.4210e-02, 1.1598e-02, 4.1016e-02, 1.1936e-02, 5.9884e-04, 0.0000e+00,\n",
            "        4.4624e-02, 0.0000e+00, 6.1773e-03, 0.0000e+00, 6.3371e-03, 1.4242e-02,\n",
            "        1.8582e-02, 1.6189e-03, 0.0000e+00, 1.1718e-02, 2.2321e-03, 0.0000e+00,\n",
            "        6.6500e-03, 1.7815e-02, 0.0000e+00, 3.0154e-03, 1.2864e-05, 6.6516e-03,\n",
            "        0.0000e+00, 0.0000e+00, 4.2518e-03, 7.3447e-03, 1.5062e-02, 5.5314e-03,\n",
            "        1.0242e-02, 8.3226e-04, 0.0000e+00, 0.0000e+00, 0.0000e+00, 1.4188e-02,\n",
            "        3.0373e-03, 1.8423e-04], device='cuda:0'))\n"
          ]
        }
      ],
      "source": [
        "# What does this dict look like?\n",
        "print(list(feats_dict.items())[1])"
      ]
    },
    {
      "cell_type": "code",
      "execution_count": null,
      "metadata": {
        "colab": {
          "base_uri": "https://localhost:8080/"
        },
        "id": "dGEm5rVyoAQ6",
        "outputId": "832fc9a7-9866-4fe3-c9bc-eb5fea780bd6"
      },
      "outputs": [
        {
          "data": {
            "text/plain": [
              "6000"
            ]
          },
          "execution_count": 14,
          "metadata": {},
          "output_type": "execute_result"
        }
      ],
      "source": [
        "len(feats_dict.items())"
      ]
    },
    {
      "cell_type": "code",
      "execution_count": null,
      "metadata": {
        "colab": {
          "base_uri": "https://localhost:8080/"
        },
        "id": "X_99P-2BWkXT",
        "outputId": "230f1fee-f03f-4d7b-a56e-85705074a8df"
      },
      "outputs": [
        {
          "name": "stdout",
          "output_type": "stream",
          "text": [
            "\u001b[1;30;43mStreaming output truncated to the last 5000 lines.\u001b[0m\n",
            "d\n",
            "e\n",
            "d\n",
            "e\n",
            "d\n",
            "e\n",
            "d\n",
            "e\n",
            "d\n",
            "e\n",
            "d\n",
            "e\n",
            "d\n",
            "e\n",
            "d\n",
            "e\n",
            "d\n",
            "e\n",
            "d\n",
            "e\n",
            "d\n",
            "e\n",
            "d\n",
            "e\n",
            "d\n",
            "e\n",
            "d\n",
            "e\n",
            "d\n",
            "e\n",
            "d\n",
            "e\n",
            "d\n",
            "e\n",
            "d\n",
            "e\n",
            "d\n",
            "e\n",
            "d\n",
            "e\n",
            "d\n",
            "e\n",
            "d\n",
            "e\n",
            "d\n",
            "e\n",
            "d\n",
            "e\n",
            "d\n",
            "e\n",
            "d\n",
            "e\n",
            "d\n",
            "e\n",
            "d\n",
            "e\n",
            "d\n",
            "e\n",
            "d\n",
            "e\n",
            "d\n",
            "e\n",
            "d\n",
            "e\n",
            "d\n",
            "e\n",
            "d\n",
            "e\n",
            "d\n",
            "e\n",
            "d\n",
            "e\n",
            "d\n",
            "e\n",
            "d\n",
            "e\n",
            "d\n",
            "e\n",
            "d\n",
            "e\n",
            "d\n",
            "e\n",
            "d\n",
            "e\n",
            "d\n",
            "e\n",
            "d\n",
            "e\n",
            "d\n",
            "e\n",
            "d\n",
            "e\n",
            "d\n",
            "e\n",
            "d\n",
            "e\n",
            "d\n",
            "e\n",
            "d\n",
            "e\n",
            "d\n",
            "e\n",
            "d\n",
            "e\n",
            "d\n",
            "e\n",
            "d\n",
            "e\n",
            "d\n",
            "e\n",
            "d\n",
            "e\n",
            "d\n",
            "e\n",
            "d\n",
            "e\n",
            "d\n",
            "e\n",
            "d\n",
            "e\n",
            "d\n",
            "e\n",
            "d\n",
            "e\n",
            "d\n",
            "e\n",
            "d\n",
            "e\n",
            "d\n",
            "e\n",
            "d\n",
            "e\n",
            "d\n",
            "e\n",
            "d\n",
            "e\n",
            "d\n",
            "e\n",
            "d\n",
            "e\n",
            "d\n",
            "e\n",
            "d\n",
            "e\n",
            "d\n",
            "e\n",
            "d\n",
            "e\n",
            "d\n",
            "e\n",
            "d\n",
            "e\n",
            "d\n",
            "e\n",
            "d\n",
            "e\n",
            "d\n",
            "e\n",
            "d\n",
            "e\n",
            "d\n",
            "e\n",
            "d\n",
            "e\n",
            "d\n",
            "e\n",
            "d\n",
            "e\n",
            "d\n",
            "e\n",
            "d\n",
            "e\n",
            "d\n",
            "e\n",
            "d\n",
            "e\n",
            "d\n",
            "e\n",
            "d\n",
            "e\n",
            "d\n",
            "e\n",
            "d\n",
            "e\n",
            "d\n",
            "e\n",
            "d\n",
            "e\n",
            "d\n",
            "e\n",
            "d\n",
            "e\n",
            "d\n",
            "e\n",
            "d\n",
            "e\n",
            "d\n",
            "e\n",
            "d\n",
            "e\n",
            "d\n",
            "e\n",
            "d\n",
            "e\n",
            "d\n",
            "e\n",
            "d\n",
            "e\n",
            "d\n",
            "e\n",
            "d\n",
            "e\n",
            "d\n",
            "e\n",
            "d\n",
            "e\n",
            "d\n",
            "e\n",
            "d\n",
            "e\n",
            "d\n",
            "e\n",
            "d\n",
            "e\n",
            "d\n",
            "e\n",
            "d\n",
            "e\n",
            "d\n",
            "e\n",
            "d\n",
            "e\n",
            "d\n",
            "e\n",
            "d\n",
            "e\n",
            "d\n",
            "e\n",
            "d\n",
            "e\n",
            "d\n",
            "e\n",
            "d\n",
            "e\n",
            "d\n",
            "e\n",
            "d\n",
            "e\n",
            "d\n",
            "e\n",
            "d\n",
            "e\n",
            "d\n",
            "e\n",
            "d\n",
            "e\n",
            "d\n",
            "e\n",
            "d\n",
            "e\n",
            "d\n",
            "e\n",
            "d\n",
            "e\n",
            "d\n",
            "e\n",
            "d\n",
            "e\n",
            "d\n",
            "e\n",
            "d\n",
            "e\n",
            "d\n",
            "e\n",
            "d\n",
            "e\n",
            "d\n",
            "e\n",
            "d\n",
            "e\n",
            "d\n",
            "e\n",
            "d\n",
            "e\n",
            "d\n",
            "e\n",
            "d\n",
            "e\n",
            "d\n",
            "e\n",
            "d\n",
            "e\n",
            "d\n",
            "e\n",
            "d\n",
            "e\n",
            "d\n",
            "e\n",
            "d\n",
            "e\n",
            "d\n",
            "e\n",
            "d\n",
            "e\n",
            "d\n",
            "e\n",
            "d\n",
            "e\n",
            "d\n",
            "e\n",
            "d\n",
            "e\n",
            "d\n",
            "e\n",
            "d\n",
            "e\n",
            "d\n",
            "e\n",
            "d\n",
            "e\n",
            "d\n",
            "e\n",
            "d\n",
            "e\n",
            "d\n",
            "e\n",
            "d\n",
            "e\n",
            "d\n",
            "e\n",
            "d\n",
            "e\n",
            "d\n",
            "e\n",
            "d\n",
            "e\n",
            "d\n",
            "e\n",
            "d\n",
            "e\n",
            "d\n",
            "e\n",
            "d\n",
            "e\n",
            "d\n",
            "e\n",
            "d\n",
            "e\n",
            "d\n",
            "e\n",
            "d\n",
            "e\n",
            "d\n",
            "e\n",
            "d\n",
            "e\n",
            "d\n",
            "e\n",
            "d\n",
            "e\n",
            "d\n",
            "e\n",
            "d\n",
            "e\n",
            "d\n",
            "e\n",
            "d\n",
            "e\n",
            "d\n",
            "e\n",
            "d\n",
            "e\n",
            "d\n",
            "e\n",
            "d\n",
            "e\n",
            "d\n",
            "e\n",
            "d\n",
            "e\n",
            "d\n",
            "e\n",
            "d\n",
            "e\n",
            "d\n",
            "e\n",
            "d\n",
            "e\n",
            "d\n",
            "e\n",
            "d\n",
            "e\n",
            "d\n",
            "e\n",
            "d\n",
            "e\n",
            "d\n",
            "e\n",
            "d\n",
            "e\n",
            "d\n",
            "e\n",
            "d\n",
            "e\n",
            "d\n",
            "e\n",
            "d\n",
            "e\n",
            "d\n",
            "e\n",
            "d\n",
            "e\n",
            "d\n",
            "e\n",
            "d\n",
            "e\n",
            "d\n",
            "e\n",
            "d\n",
            "e\n",
            "d\n",
            "e\n",
            "d\n",
            "e\n",
            "d\n",
            "e\n",
            "d\n",
            "e\n",
            "d\n",
            "e\n",
            "d\n",
            "e\n",
            "d\n",
            "e\n",
            "d\n",
            "e\n",
            "d\n",
            "e\n",
            "d\n",
            "e\n",
            "d\n",
            "e\n",
            "d\n",
            "e\n",
            "d\n",
            "e\n",
            "d\n",
            "e\n",
            "d\n",
            "e\n",
            "d\n",
            "e\n",
            "d\n",
            "e\n",
            "d\n",
            "e\n",
            "d\n",
            "e\n",
            "d\n",
            "e\n",
            "d\n",
            "e\n",
            "d\n",
            "e\n",
            "d\n",
            "e\n",
            "d\n",
            "e\n",
            "d\n",
            "e\n",
            "d\n",
            "e\n",
            "d\n",
            "e\n",
            "d\n",
            "e\n",
            "d\n",
            "e\n",
            "d\n",
            "e\n",
            "d\n",
            "e\n",
            "d\n",
            "e\n",
            "d\n",
            "e\n",
            "d\n",
            "e\n",
            "d\n",
            "e\n",
            "d\n",
            "e\n",
            "d\n",
            "e\n",
            "d\n",
            "e\n",
            "d\n",
            "e\n",
            "d\n",
            "e\n",
            "d\n",
            "e\n",
            "d\n",
            "e\n",
            "d\n",
            "e\n",
            "d\n",
            "e\n",
            "d\n",
            "e\n",
            "d\n",
            "e\n",
            "d\n",
            "e\n",
            "d\n",
            "e\n",
            "d\n",
            "e\n",
            "d\n",
            "e\n",
            "d\n",
            "e\n",
            "d\n",
            "e\n",
            "d\n",
            "e\n",
            "d\n",
            "e\n",
            "d\n",
            "e\n",
            "d\n",
            "e\n",
            "d\n",
            "e\n",
            "d\n",
            "e\n",
            "d\n",
            "e\n",
            "d\n",
            "e\n",
            "d\n",
            "e\n",
            "d\n",
            "e\n",
            "d\n",
            "e\n",
            "d\n",
            "e\n",
            "d\n",
            "e\n",
            "d\n",
            "e\n",
            "d\n",
            "e\n",
            "d\n",
            "e\n",
            "d\n",
            "e\n",
            "d\n",
            "e\n",
            "d\n",
            "e\n",
            "d\n",
            "e\n",
            "d\n",
            "e\n",
            "d\n",
            "e\n",
            "d\n",
            "e\n",
            "d\n",
            "e\n",
            "d\n",
            "e\n",
            "d\n",
            "e\n",
            "d\n",
            "e\n",
            "d\n",
            "e\n",
            "d\n",
            "e\n",
            "d\n",
            "e\n",
            "d\n",
            "e\n",
            "d\n",
            "e\n",
            "d\n",
            "e\n",
            "d\n",
            "e\n",
            "d\n",
            "e\n",
            "d\n",
            "e\n",
            "d\n",
            "e\n",
            "d\n",
            "e\n",
            "d\n",
            "e\n",
            "d\n",
            "e\n",
            "d\n",
            "e\n",
            "d\n",
            "e\n",
            "d\n",
            "e\n",
            "d\n",
            "e\n",
            "d\n",
            "e\n",
            "d\n",
            "e\n",
            "d\n",
            "e\n",
            "d\n",
            "e\n",
            "d\n",
            "e\n",
            "d\n",
            "e\n",
            "d\n",
            "e\n",
            "d\n",
            "e\n",
            "d\n",
            "e\n",
            "d\n",
            "e\n",
            "d\n",
            "e\n",
            "d\n",
            "e\n",
            "d\n",
            "e\n",
            "d\n",
            "e\n",
            "d\n",
            "e\n",
            "d\n",
            "e\n",
            "d\n",
            "e\n",
            "d\n",
            "e\n",
            "d\n",
            "e\n",
            "d\n",
            "e\n",
            "d\n",
            "e\n",
            "d\n",
            "e\n",
            "d\n",
            "e\n",
            "d\n",
            "e\n",
            "d\n",
            "e\n",
            "d\n",
            "e\n",
            "d\n",
            "e\n",
            "d\n",
            "e\n",
            "d\n",
            "e\n",
            "d\n",
            "e\n",
            "d\n",
            "e\n",
            "d\n",
            "e\n",
            "d\n",
            "e\n",
            "d\n",
            "e\n",
            "d\n",
            "e\n",
            "d\n",
            "e\n",
            "d\n",
            "e\n",
            "d\n",
            "e\n",
            "d\n",
            "e\n",
            "d\n",
            "e\n",
            "d\n",
            "e\n",
            "d\n",
            "e\n",
            "d\n",
            "e\n",
            "d\n",
            "e\n",
            "d\n",
            "e\n",
            "d\n",
            "e\n",
            "d\n",
            "e\n",
            "d\n",
            "e\n",
            "d\n",
            "e\n",
            "d\n",
            "e\n",
            "d\n",
            "e\n",
            "d\n",
            "e\n",
            "d\n",
            "e\n",
            "d\n",
            "e\n",
            "d\n",
            "e\n",
            "d\n",
            "e\n",
            "d\n",
            "e\n",
            "d\n",
            "e\n",
            "d\n",
            "e\n",
            "d\n",
            "e\n",
            "d\n",
            "e\n",
            "d\n",
            "e\n",
            "d\n",
            "e\n",
            "d\n",
            "e\n",
            "d\n",
            "e\n",
            "d\n",
            "e\n",
            "d\n",
            "e\n",
            "d\n",
            "e\n",
            "d\n",
            "e\n",
            "d\n",
            "e\n",
            "d\n",
            "e\n",
            "d\n",
            "e\n",
            "d\n",
            "e\n",
            "d\n",
            "e\n",
            "d\n",
            "e\n",
            "d\n",
            "e\n",
            "d\n",
            "e\n",
            "d\n",
            "e\n",
            "d\n",
            "e\n",
            "d\n",
            "e\n",
            "d\n",
            "e\n",
            "d\n",
            "e\n",
            "d\n",
            "e\n",
            "d\n",
            "e\n",
            "d\n",
            "e\n",
            "d\n",
            "e\n",
            "d\n",
            "e\n",
            "d\n",
            "e\n",
            "d\n",
            "e\n",
            "d\n",
            "e\n",
            "d\n",
            "e\n",
            "d\n",
            "e\n",
            "d\n",
            "e\n",
            "d\n",
            "e\n",
            "d\n",
            "e\n",
            "d\n",
            "e\n",
            "d\n",
            "e\n",
            "d\n",
            "e\n",
            "d\n",
            "e\n",
            "d\n",
            "e\n",
            "d\n",
            "e\n",
            "d\n",
            "e\n",
            "d\n",
            "e\n",
            "d\n",
            "e\n",
            "d\n",
            "e\n",
            "d\n",
            "e\n",
            "d\n",
            "e\n",
            "d\n",
            "e\n",
            "d\n",
            "e\n",
            "d\n",
            "e\n",
            "d\n",
            "e\n",
            "d\n",
            "e\n",
            "d\n",
            "e\n",
            "d\n",
            "e\n",
            "d\n",
            "e\n",
            "d\n",
            "e\n",
            "d\n",
            "e\n",
            "d\n",
            "e\n",
            "d\n",
            "e\n",
            "d\n",
            "e\n",
            "d\n",
            "e\n",
            "d\n",
            "e\n",
            "d\n",
            "e\n",
            "d\n",
            "e\n",
            "d\n",
            "e\n",
            "d\n",
            "e\n",
            "d\n",
            "e\n",
            "d\n",
            "e\n",
            "d\n",
            "e\n",
            "d\n",
            "e\n",
            "d\n",
            "e\n",
            "d\n",
            "e\n",
            "d\n",
            "e\n",
            "d\n",
            "e\n",
            "d\n",
            "e\n",
            "d\n",
            "e\n",
            "d\n",
            "e\n",
            "d\n",
            "e\n",
            "d\n",
            "e\n",
            "d\n",
            "e\n",
            "d\n",
            "e\n",
            "d\n",
            "e\n",
            "d\n",
            "e\n",
            "d\n",
            "e\n",
            "d\n",
            "e\n",
            "d\n",
            "e\n",
            "d\n",
            "e\n",
            "d\n",
            "e\n",
            "d\n",
            "e\n",
            "d\n",
            "e\n",
            "d\n",
            "e\n",
            "d\n",
            "e\n",
            "d\n",
            "e\n",
            "d\n",
            "e\n",
            "d\n",
            "e\n",
            "d\n",
            "e\n",
            "d\n",
            "e\n",
            "d\n",
            "e\n",
            "d\n",
            "e\n",
            "d\n",
            "e\n",
            "d\n",
            "e\n",
            "d\n",
            "e\n",
            "d\n",
            "e\n",
            "d\n",
            "e\n",
            "d\n",
            "e\n",
            "d\n",
            "e\n",
            "d\n",
            "e\n",
            "d\n",
            "e\n",
            "d\n",
            "e\n",
            "d\n",
            "e\n",
            "d\n",
            "e\n",
            "d\n",
            "e\n",
            "d\n",
            "e\n",
            "d\n",
            "e\n",
            "d\n",
            "e\n",
            "d\n",
            "e\n",
            "d\n",
            "e\n",
            "d\n",
            "e\n",
            "d\n",
            "e\n",
            "d\n",
            "e\n",
            "d\n",
            "e\n",
            "d\n",
            "e\n",
            "d\n",
            "e\n",
            "d\n",
            "e\n",
            "d\n",
            "e\n",
            "d\n",
            "e\n",
            "d\n",
            "e\n",
            "d\n",
            "e\n",
            "d\n",
            "e\n",
            "d\n",
            "e\n",
            "d\n",
            "e\n",
            "d\n",
            "e\n",
            "d\n",
            "e\n",
            "d\n",
            "e\n",
            "d\n",
            "e\n",
            "d\n",
            "e\n",
            "d\n",
            "e\n",
            "d\n",
            "e\n",
            "d\n",
            "e\n",
            "d\n",
            "e\n",
            "d\n",
            "e\n",
            "d\n",
            "e\n",
            "d\n",
            "e\n",
            "d\n",
            "e\n",
            "d\n",
            "e\n",
            "d\n",
            "e\n",
            "d\n",
            "e\n",
            "d\n",
            "e\n",
            "d\n",
            "e\n",
            "d\n",
            "e\n",
            "d\n",
            "e\n",
            "d\n",
            "e\n",
            "d\n",
            "e\n",
            "d\n",
            "e\n",
            "d\n",
            "e\n",
            "d\n",
            "e\n",
            "d\n",
            "e\n",
            "d\n",
            "e\n",
            "d\n",
            "e\n",
            "d\n",
            "e\n",
            "d\n",
            "e\n",
            "d\n",
            "e\n",
            "d\n",
            "e\n",
            "d\n",
            "e\n",
            "d\n",
            "e\n",
            "d\n",
            "e\n",
            "d\n",
            "e\n",
            "d\n",
            "e\n",
            "d\n",
            "e\n",
            "d\n",
            "e\n",
            "d\n",
            "e\n",
            "d\n",
            "e\n",
            "d\n",
            "e\n",
            "d\n",
            "e\n",
            "d\n",
            "e\n",
            "d\n",
            "e\n",
            "d\n",
            "e\n",
            "d\n",
            "e\n",
            "d\n",
            "e\n",
            "d\n",
            "e\n",
            "d\n",
            "e\n",
            "d\n",
            "e\n",
            "d\n",
            "e\n",
            "d\n",
            "e\n",
            "d\n",
            "e\n",
            "d\n",
            "e\n",
            "d\n",
            "e\n",
            "d\n",
            "e\n",
            "d\n",
            "e\n",
            "d\n",
            "e\n",
            "d\n",
            "e\n",
            "d\n",
            "e\n",
            "d\n",
            "e\n",
            "d\n",
            "e\n",
            "d\n",
            "e\n",
            "d\n",
            "e\n",
            "d\n",
            "e\n",
            "d\n",
            "e\n",
            "d\n",
            "e\n",
            "d\n",
            "e\n",
            "d\n",
            "e\n",
            "d\n",
            "e\n",
            "d\n",
            "e\n",
            "d\n",
            "e\n",
            "d\n",
            "e\n",
            "d\n",
            "e\n",
            "d\n",
            "e\n",
            "d\n",
            "e\n",
            "d\n",
            "e\n",
            "d\n",
            "e\n",
            "d\n",
            "e\n",
            "d\n",
            "e\n",
            "d\n",
            "e\n",
            "d\n",
            "e\n",
            "d\n",
            "e\n",
            "d\n",
            "e\n",
            "d\n",
            "e\n",
            "d\n",
            "e\n",
            "d\n",
            "e\n",
            "d\n",
            "e\n",
            "d\n",
            "e\n",
            "d\n",
            "e\n",
            "d\n",
            "e\n",
            "d\n",
            "e\n",
            "d\n",
            "e\n",
            "d\n",
            "e\n",
            "d\n",
            "e\n",
            "d\n",
            "e\n",
            "d\n",
            "e\n",
            "d\n",
            "e\n",
            "d\n",
            "e\n",
            "d\n",
            "e\n",
            "d\n",
            "e\n",
            "d\n",
            "e\n",
            "d\n",
            "e\n",
            "d\n",
            "e\n",
            "d\n",
            "e\n",
            "d\n",
            "e\n",
            "d\n",
            "e\n",
            "d\n",
            "e\n",
            "d\n",
            "e\n",
            "d\n",
            "e\n",
            "d\n",
            "e\n",
            "d\n",
            "e\n",
            "d\n",
            "e\n",
            "d\n",
            "e\n",
            "d\n",
            "e\n",
            "d\n",
            "e\n",
            "d\n",
            "e\n",
            "d\n",
            "e\n",
            "d\n",
            "e\n",
            "d\n",
            "e\n",
            "d\n",
            "e\n",
            "d\n",
            "e\n",
            "d\n",
            "e\n",
            "d\n",
            "e\n",
            "d\n",
            "e\n",
            "d\n",
            "e\n",
            "d\n",
            "e\n",
            "d\n",
            "e\n",
            "d\n",
            "e\n",
            "d\n",
            "e\n",
            "d\n",
            "e\n",
            "d\n",
            "e\n",
            "d\n",
            "e\n",
            "d\n",
            "e\n",
            "d\n",
            "e\n",
            "d\n",
            "e\n",
            "d\n",
            "e\n",
            "d\n",
            "e\n",
            "d\n",
            "e\n",
            "d\n",
            "e\n",
            "d\n",
            "e\n",
            "d\n",
            "e\n",
            "d\n",
            "e\n",
            "d\n",
            "e\n",
            "d\n",
            "e\n",
            "d\n",
            "e\n",
            "d\n",
            "e\n",
            "d\n",
            "e\n",
            "d\n",
            "e\n",
            "d\n",
            "e\n",
            "d\n",
            "e\n",
            "d\n",
            "e\n",
            "d\n",
            "e\n",
            "d\n",
            "e\n",
            "d\n",
            "e\n",
            "d\n",
            "e\n",
            "d\n",
            "e\n",
            "d\n",
            "e\n",
            "d\n",
            "e\n",
            "d\n",
            "e\n",
            "d\n",
            "e\n",
            "d\n",
            "e\n",
            "d\n",
            "e\n",
            "d\n",
            "e\n",
            "d\n",
            "e\n",
            "d\n",
            "e\n",
            "d\n",
            "e\n",
            "d\n",
            "e\n",
            "d\n",
            "e\n",
            "d\n",
            "e\n",
            "d\n",
            "e\n",
            "d\n",
            "e\n",
            "d\n",
            "e\n",
            "d\n",
            "e\n",
            "d\n",
            "e\n",
            "d\n",
            "e\n",
            "d\n",
            "e\n",
            "d\n",
            "e\n",
            "d\n",
            "e\n",
            "d\n",
            "e\n",
            "d\n",
            "e\n",
            "d\n",
            "e\n",
            "d\n",
            "e\n",
            "d\n",
            "e\n",
            "d\n",
            "e\n",
            "d\n",
            "e\n",
            "d\n",
            "e\n",
            "d\n",
            "e\n",
            "d\n",
            "e\n",
            "d\n",
            "e\n",
            "d\n",
            "e\n",
            "d\n",
            "e\n",
            "d\n",
            "e\n",
            "d\n",
            "e\n",
            "d\n",
            "e\n",
            "d\n",
            "e\n",
            "d\n",
            "e\n",
            "d\n",
            "e\n",
            "d\n",
            "e\n",
            "d\n",
            "e\n",
            "d\n",
            "e\n",
            "d\n",
            "e\n",
            "d\n",
            "e\n",
            "d\n",
            "e\n",
            "d\n",
            "e\n",
            "d\n",
            "e\n",
            "d\n",
            "e\n",
            "d\n",
            "e\n",
            "d\n",
            "e\n",
            "d\n",
            "e\n",
            "d\n",
            "e\n",
            "d\n",
            "e\n",
            "d\n",
            "e\n",
            "d\n",
            "e\n",
            "d\n",
            "e\n",
            "d\n",
            "e\n",
            "d\n",
            "e\n",
            "d\n",
            "e\n",
            "d\n",
            "e\n",
            "d\n",
            "e\n",
            "d\n",
            "e\n",
            "d\n",
            "e\n",
            "d\n",
            "e\n",
            "d\n",
            "e\n",
            "d\n",
            "e\n",
            "d\n",
            "e\n",
            "d\n",
            "e\n",
            "d\n",
            "e\n",
            "d\n",
            "e\n",
            "d\n",
            "e\n",
            "d\n",
            "e\n",
            "d\n",
            "e\n",
            "d\n",
            "e\n",
            "d\n",
            "e\n",
            "d\n",
            "e\n",
            "d\n",
            "e\n",
            "d\n",
            "e\n",
            "d\n",
            "e\n",
            "d\n",
            "e\n",
            "d\n",
            "e\n",
            "d\n",
            "e\n",
            "d\n",
            "e\n",
            "d\n",
            "e\n",
            "d\n",
            "e\n",
            "d\n",
            "e\n",
            "d\n",
            "e\n",
            "d\n",
            "e\n",
            "d\n",
            "e\n",
            "d\n",
            "e\n",
            "d\n",
            "e\n",
            "d\n",
            "e\n",
            "d\n",
            "e\n",
            "d\n",
            "e\n",
            "d\n",
            "e\n",
            "d\n",
            "e\n",
            "d\n",
            "e\n",
            "d\n",
            "e\n",
            "d\n",
            "e\n",
            "d\n",
            "e\n",
            "d\n",
            "e\n",
            "d\n",
            "e\n",
            "d\n",
            "e\n",
            "d\n",
            "e\n",
            "d\n",
            "e\n",
            "d\n",
            "e\n",
            "d\n",
            "e\n",
            "d\n",
            "e\n",
            "d\n",
            "e\n",
            "d\n",
            "e\n",
            "d\n",
            "e\n",
            "d\n",
            "e\n",
            "d\n",
            "e\n",
            "d\n",
            "e\n",
            "d\n",
            "e\n",
            "d\n",
            "e\n",
            "d\n",
            "e\n",
            "d\n",
            "e\n",
            "d\n",
            "e\n",
            "d\n",
            "e\n",
            "d\n",
            "e\n",
            "d\n",
            "e\n",
            "d\n",
            "e\n",
            "d\n",
            "e\n",
            "d\n",
            "e\n",
            "d\n",
            "e\n",
            "d\n",
            "e\n",
            "d\n",
            "e\n",
            "d\n",
            "e\n",
            "d\n",
            "e\n",
            "d\n",
            "e\n",
            "d\n",
            "e\n",
            "d\n",
            "e\n",
            "d\n",
            "e\n",
            "d\n",
            "e\n",
            "d\n",
            "e\n",
            "d\n",
            "e\n",
            "d\n",
            "e\n",
            "d\n",
            "e\n",
            "d\n",
            "e\n",
            "d\n",
            "e\n",
            "d\n",
            "e\n",
            "d\n",
            "e\n",
            "d\n",
            "e\n",
            "d\n",
            "e\n",
            "d\n",
            "e\n",
            "d\n",
            "e\n",
            "d\n",
            "e\n",
            "d\n",
            "e\n",
            "d\n",
            "e\n",
            "d\n",
            "e\n",
            "d\n",
            "e\n",
            "d\n",
            "e\n",
            "d\n",
            "e\n",
            "d\n",
            "e\n",
            "d\n",
            "e\n",
            "d\n",
            "e\n",
            "d\n",
            "e\n",
            "d\n",
            "e\n",
            "d\n",
            "e\n",
            "d\n",
            "e\n",
            "d\n",
            "e\n",
            "d\n",
            "e\n",
            "d\n",
            "e\n",
            "d\n",
            "e\n",
            "d\n",
            "e\n",
            "d\n",
            "e\n",
            "d\n",
            "e\n",
            "d\n",
            "e\n",
            "d\n",
            "e\n",
            "d\n",
            "e\n",
            "d\n",
            "e\n",
            "d\n",
            "e\n",
            "d\n",
            "e\n",
            "d\n",
            "e\n",
            "d\n",
            "e\n",
            "d\n",
            "e\n",
            "d\n",
            "e\n",
            "d\n",
            "e\n",
            "d\n",
            "e\n",
            "d\n",
            "e\n",
            "d\n",
            "e\n",
            "d\n",
            "e\n",
            "d\n",
            "e\n",
            "d\n",
            "e\n",
            "d\n",
            "e\n",
            "d\n",
            "e\n",
            "d\n",
            "e\n",
            "d\n",
            "e\n",
            "d\n",
            "e\n",
            "d\n",
            "e\n",
            "d\n",
            "e\n",
            "d\n",
            "e\n",
            "d\n",
            "e\n",
            "d\n",
            "e\n",
            "d\n",
            "e\n",
            "d\n",
            "e\n",
            "d\n",
            "e\n",
            "d\n",
            "e\n",
            "d\n",
            "e\n",
            "d\n",
            "e\n",
            "d\n",
            "e\n",
            "d\n",
            "e\n",
            "d\n",
            "e\n",
            "d\n",
            "e\n",
            "d\n",
            "e\n",
            "d\n",
            "e\n",
            "d\n",
            "e\n",
            "d\n",
            "e\n",
            "d\n",
            "e\n",
            "d\n",
            "e\n",
            "d\n",
            "e\n",
            "d\n",
            "e\n",
            "d\n",
            "e\n",
            "d\n",
            "e\n",
            "d\n",
            "e\n",
            "d\n",
            "e\n",
            "d\n",
            "e\n",
            "d\n",
            "e\n",
            "d\n",
            "e\n",
            "d\n",
            "e\n",
            "d\n",
            "e\n",
            "d\n",
            "e\n",
            "d\n",
            "e\n",
            "d\n",
            "e\n",
            "d\n",
            "e\n",
            "d\n",
            "e\n",
            "d\n",
            "e\n",
            "d\n",
            "e\n",
            "d\n",
            "e\n",
            "d\n",
            "e\n",
            "d\n",
            "e\n",
            "d\n",
            "e\n",
            "d\n",
            "e\n",
            "d\n",
            "e\n",
            "d\n",
            "e\n",
            "d\n",
            "e\n",
            "d\n",
            "e\n",
            "d\n",
            "e\n",
            "d\n",
            "e\n",
            "d\n",
            "e\n",
            "d\n",
            "e\n",
            "d\n",
            "e\n",
            "d\n",
            "e\n",
            "d\n",
            "e\n",
            "d\n",
            "e\n",
            "d\n",
            "e\n",
            "d\n",
            "e\n",
            "d\n",
            "e\n",
            "d\n",
            "e\n",
            "d\n",
            "e\n",
            "d\n",
            "e\n",
            "d\n",
            "e\n",
            "d\n",
            "e\n",
            "d\n",
            "e\n",
            "d\n",
            "e\n",
            "d\n",
            "e\n",
            "d\n",
            "e\n",
            "d\n",
            "e\n",
            "d\n",
            "e\n",
            "d\n",
            "e\n",
            "d\n",
            "e\n",
            "d\n",
            "e\n",
            "d\n",
            "e\n",
            "d\n",
            "e\n",
            "d\n",
            "e\n",
            "d\n",
            "e\n",
            "d\n",
            "e\n",
            "d\n",
            "e\n",
            "d\n",
            "e\n",
            "d\n",
            "e\n",
            "d\n",
            "e\n",
            "d\n",
            "e\n",
            "d\n",
            "e\n",
            "d\n",
            "e\n",
            "d\n",
            "e\n",
            "d\n",
            "e\n",
            "d\n",
            "e\n",
            "d\n",
            "e\n",
            "d\n",
            "e\n",
            "d\n",
            "e\n",
            "d\n",
            "e\n",
            "d\n",
            "e\n",
            "d\n",
            "e\n",
            "d\n",
            "e\n",
            "d\n",
            "e\n",
            "d\n",
            "e\n",
            "d\n",
            "e\n",
            "d\n",
            "e\n",
            "d\n",
            "e\n",
            "d\n",
            "e\n",
            "d\n",
            "e\n",
            "d\n",
            "e\n",
            "d\n",
            "e\n",
            "d\n",
            "e\n",
            "d\n",
            "e\n",
            "d\n",
            "e\n",
            "d\n",
            "e\n",
            "d\n",
            "e\n",
            "d\n",
            "e\n",
            "d\n",
            "e\n",
            "d\n",
            "e\n",
            "d\n",
            "e\n",
            "d\n",
            "e\n",
            "d\n",
            "e\n",
            "d\n",
            "e\n",
            "d\n",
            "e\n",
            "d\n",
            "e\n",
            "d\n",
            "e\n",
            "d\n",
            "e\n",
            "d\n",
            "e\n",
            "d\n",
            "e\n",
            "d\n",
            "e\n",
            "d\n",
            "e\n",
            "d\n",
            "e\n",
            "d\n",
            "e\n",
            "d\n",
            "e\n",
            "d\n",
            "e\n",
            "d\n",
            "e\n",
            "d\n",
            "e\n",
            "d\n",
            "e\n",
            "d\n",
            "e\n",
            "d\n",
            "e\n",
            "d\n",
            "e\n",
            "d\n",
            "e\n",
            "d\n",
            "e\n",
            "d\n",
            "e\n",
            "d\n",
            "e\n",
            "d\n",
            "e\n",
            "d\n",
            "e\n",
            "d\n",
            "e\n",
            "d\n",
            "e\n",
            "d\n",
            "e\n",
            "d\n",
            "e\n",
            "d\n",
            "e\n",
            "d\n",
            "e\n",
            "d\n",
            "e\n",
            "d\n",
            "e\n",
            "d\n",
            "e\n",
            "d\n",
            "e\n",
            "d\n",
            "e\n",
            "d\n",
            "e\n",
            "d\n",
            "e\n",
            "d\n",
            "e\n",
            "d\n",
            "e\n",
            "d\n",
            "e\n",
            "d\n",
            "e\n",
            "d\n",
            "e\n",
            "d\n",
            "e\n",
            "d\n",
            "e\n",
            "d\n",
            "e\n",
            "d\n",
            "e\n",
            "d\n",
            "e\n",
            "d\n",
            "e\n",
            "d\n",
            "e\n",
            "d\n",
            "e\n",
            "d\n",
            "e\n",
            "d\n",
            "e\n",
            "d\n",
            "e\n",
            "d\n",
            "e\n",
            "d\n",
            "e\n",
            "d\n",
            "e\n",
            "d\n",
            "e\n",
            "d\n",
            "e\n",
            "d\n",
            "e\n",
            "d\n",
            "e\n",
            "d\n",
            "e\n",
            "d\n",
            "e\n",
            "d\n",
            "e\n",
            "d\n",
            "e\n",
            "d\n",
            "e\n",
            "d\n",
            "e\n",
            "d\n",
            "e\n",
            "d\n",
            "e\n",
            "d\n",
            "e\n",
            "d\n",
            "e\n",
            "d\n",
            "e\n",
            "d\n",
            "e\n",
            "d\n",
            "e\n",
            "d\n",
            "e\n",
            "d\n",
            "e\n",
            "d\n",
            "e\n",
            "d\n",
            "e\n",
            "d\n",
            "e\n",
            "d\n",
            "e\n",
            "d\n",
            "e\n",
            "d\n",
            "e\n",
            "d\n",
            "e\n",
            "d\n",
            "e\n",
            "d\n",
            "e\n",
            "d\n",
            "e\n",
            "d\n",
            "e\n",
            "d\n",
            "e\n",
            "d\n",
            "e\n",
            "d\n",
            "e\n",
            "d\n",
            "e\n",
            "d\n",
            "e\n",
            "d\n",
            "e\n",
            "d\n",
            "e\n",
            "d\n",
            "e\n",
            "d\n",
            "e\n",
            "d\n",
            "e\n",
            "d\n",
            "e\n",
            "d\n",
            "e\n",
            "d\n",
            "e\n",
            "d\n",
            "e\n",
            "d\n",
            "e\n",
            "d\n",
            "e\n",
            "d\n",
            "e\n",
            "d\n",
            "e\n",
            "d\n",
            "e\n",
            "d\n",
            "e\n",
            "d\n",
            "e\n",
            "d\n",
            "e\n",
            "d\n",
            "e\n",
            "d\n",
            "e\n",
            "d\n",
            "e\n",
            "d\n",
            "e\n",
            "d\n",
            "e\n",
            "d\n",
            "e\n",
            "d\n",
            "e\n",
            "d\n",
            "e\n",
            "d\n",
            "e\n",
            "d\n",
            "e\n",
            "d\n",
            "e\n",
            "d\n",
            "e\n",
            "d\n",
            "e\n",
            "d\n",
            "e\n",
            "d\n",
            "e\n",
            "d\n",
            "e\n",
            "d\n",
            "e\n",
            "d\n",
            "e\n",
            "d\n",
            "e\n",
            "d\n",
            "e\n",
            "d\n",
            "e\n",
            "d\n",
            "e\n",
            "d\n",
            "e\n",
            "d\n",
            "e\n",
            "d\n",
            "e\n",
            "d\n",
            "e\n",
            "d\n",
            "e\n",
            "d\n",
            "e\n",
            "d\n",
            "e\n",
            "d\n",
            "e\n",
            "d\n",
            "e\n",
            "d\n",
            "e\n",
            "d\n",
            "e\n",
            "d\n",
            "e\n",
            "d\n",
            "e\n",
            "d\n",
            "e\n",
            "d\n",
            "e\n",
            "d\n",
            "e\n",
            "d\n",
            "e\n",
            "d\n",
            "e\n",
            "d\n",
            "e\n",
            "d\n",
            "e\n",
            "d\n",
            "e\n",
            "d\n",
            "e\n",
            "d\n",
            "e\n",
            "d\n",
            "e\n",
            "d\n",
            "e\n",
            "d\n",
            "e\n",
            "d\n",
            "e\n",
            "d\n",
            "e\n",
            "d\n",
            "e\n",
            "d\n",
            "e\n",
            "d\n",
            "e\n",
            "d\n",
            "e\n",
            "d\n",
            "e\n",
            "d\n",
            "e\n",
            "d\n",
            "e\n",
            "d\n",
            "e\n",
            "d\n",
            "e\n",
            "d\n",
            "e\n",
            "d\n",
            "e\n",
            "d\n",
            "e\n",
            "d\n",
            "e\n",
            "d\n",
            "e\n",
            "d\n",
            "e\n",
            "d\n",
            "e\n",
            "d\n",
            "e\n",
            "d\n",
            "e\n",
            "d\n",
            "e\n",
            "d\n",
            "e\n",
            "d\n",
            "e\n",
            "d\n",
            "e\n",
            "d\n",
            "e\n",
            "d\n",
            "e\n",
            "d\n",
            "e\n",
            "d\n",
            "e\n",
            "d\n",
            "e\n",
            "d\n",
            "e\n",
            "d\n",
            "e\n",
            "d\n",
            "e\n",
            "d\n",
            "e\n",
            "d\n",
            "e\n",
            "d\n",
            "e\n",
            "d\n",
            "e\n",
            "d\n",
            "e\n",
            "d\n",
            "e\n",
            "d\n",
            "e\n",
            "d\n",
            "e\n",
            "d\n",
            "e\n",
            "d\n",
            "e\n",
            "d\n",
            "e\n",
            "d\n",
            "e\n",
            "d\n",
            "e\n",
            "d\n",
            "e\n",
            "d\n",
            "e\n",
            "d\n",
            "e\n",
            "d\n",
            "e\n",
            "d\n",
            "e\n",
            "d\n",
            "e\n",
            "d\n",
            "e\n",
            "d\n",
            "e\n",
            "d\n",
            "e\n",
            "d\n",
            "e\n",
            "d\n",
            "e\n",
            "d\n",
            "e\n",
            "d\n",
            "e\n",
            "d\n",
            "e\n",
            "d\n",
            "e\n",
            "d\n",
            "e\n",
            "d\n",
            "e\n",
            "d\n",
            "e\n",
            "d\n",
            "e\n",
            "d\n",
            "e\n",
            "d\n",
            "e\n",
            "d\n",
            "e\n",
            "d\n",
            "e\n",
            "d\n",
            "e\n",
            "d\n",
            "e\n",
            "d\n",
            "e\n",
            "d\n",
            "e\n",
            "d\n",
            "e\n",
            "d\n",
            "e\n",
            "d\n",
            "e\n",
            "d\n",
            "e\n",
            "d\n",
            "e\n",
            "d\n",
            "e\n",
            "d\n",
            "e\n",
            "d\n",
            "e\n",
            "d\n",
            "e\n",
            "d\n",
            "e\n",
            "d\n",
            "e\n",
            "d\n",
            "e\n",
            "d\n",
            "e\n",
            "d\n",
            "e\n",
            "d\n",
            "e\n",
            "d\n",
            "e\n",
            "d\n",
            "e\n",
            "d\n",
            "e\n",
            "d\n",
            "e\n",
            "d\n",
            "e\n",
            "d\n",
            "e\n",
            "d\n",
            "e\n",
            "d\n",
            "e\n",
            "d\n",
            "e\n",
            "d\n",
            "e\n",
            "d\n",
            "e\n",
            "d\n",
            "e\n",
            "d\n",
            "e\n",
            "d\n",
            "e\n",
            "d\n",
            "e\n",
            "d\n",
            "e\n",
            "d\n",
            "e\n",
            "d\n",
            "e\n",
            "d\n",
            "e\n",
            "d\n",
            "e\n",
            "d\n",
            "e\n",
            "d\n",
            "e\n",
            "d\n",
            "e\n",
            "d\n",
            "e\n",
            "d\n",
            "e\n",
            "d\n",
            "e\n",
            "d\n",
            "e\n",
            "d\n",
            "e\n",
            "d\n",
            "e\n",
            "d\n",
            "e\n",
            "d\n",
            "e\n",
            "d\n",
            "e\n",
            "d\n",
            "e\n",
            "d\n",
            "e\n",
            "d\n",
            "e\n",
            "d\n",
            "e\n",
            "d\n",
            "e\n",
            "d\n",
            "e\n",
            "d\n",
            "e\n",
            "d\n",
            "e\n",
            "d\n",
            "e\n",
            "d\n",
            "e\n",
            "d\n",
            "e\n",
            "d\n",
            "e\n",
            "d\n",
            "e\n",
            "d\n",
            "e\n",
            "d\n",
            "e\n",
            "d\n",
            "e\n",
            "d\n",
            "e\n",
            "d\n",
            "e\n",
            "d\n",
            "e\n",
            "d\n",
            "e\n",
            "d\n",
            "e\n",
            "d\n",
            "e\n",
            "d\n",
            "e\n",
            "d\n",
            "e\n",
            "d\n",
            "e\n",
            "d\n",
            "e\n",
            "d\n",
            "e\n",
            "d\n",
            "e\n",
            "d\n",
            "e\n",
            "d\n",
            "e\n",
            "d\n",
            "e\n",
            "d\n",
            "e\n",
            "d\n",
            "e\n",
            "d\n",
            "e\n",
            "d\n",
            "e\n",
            "d\n",
            "e\n",
            "d\n",
            "e\n",
            "d\n",
            "e\n",
            "d\n",
            "e\n",
            "d\n",
            "e\n",
            "d\n",
            "e\n",
            "d\n",
            "e\n",
            "d\n",
            "e\n",
            "d\n",
            "e\n",
            "d\n",
            "e\n",
            "d\n",
            "e\n",
            "d\n",
            "e\n",
            "d\n",
            "e\n",
            "d\n",
            "e\n",
            "d\n",
            "e\n",
            "d\n",
            "e\n",
            "d\n",
            "e\n",
            "d\n",
            "e\n",
            "d\n",
            "e\n",
            "d\n",
            "e\n",
            "d\n",
            "e\n",
            "d\n",
            "e\n",
            "d\n",
            "e\n",
            "d\n",
            "e\n",
            "d\n",
            "e\n",
            "d\n",
            "e\n",
            "d\n",
            "e\n",
            "d\n",
            "e\n",
            "d\n",
            "e\n",
            "d\n",
            "e\n",
            "d\n",
            "e\n",
            "d\n",
            "e\n",
            "d\n",
            "e\n",
            "d\n",
            "e\n",
            "d\n",
            "e\n",
            "d\n",
            "e\n",
            "d\n",
            "e\n",
            "d\n",
            "e\n",
            "d\n",
            "e\n",
            "d\n",
            "e\n",
            "d\n",
            "e\n",
            "d\n",
            "e\n",
            "d\n",
            "e\n",
            "d\n",
            "e\n",
            "d\n",
            "e\n",
            "d\n",
            "e\n",
            "d\n",
            "e\n",
            "d\n",
            "e\n",
            "d\n",
            "e\n",
            "d\n",
            "e\n",
            "d\n",
            "e\n",
            "d\n",
            "e\n",
            "d\n",
            "e\n",
            "d\n",
            "e\n",
            "d\n",
            "e\n",
            "d\n",
            "e\n",
            "d\n",
            "e\n",
            "d\n",
            "e\n",
            "d\n",
            "e\n",
            "d\n",
            "e\n",
            "d\n",
            "e\n",
            "d\n",
            "e\n",
            "d\n",
            "e\n",
            "d\n",
            "e\n",
            "d\n",
            "e\n",
            "d\n",
            "e\n",
            "d\n",
            "e\n",
            "d\n",
            "e\n",
            "d\n",
            "e\n",
            "d\n",
            "e\n",
            "d\n",
            "e\n",
            "d\n",
            "e\n",
            "d\n",
            "e\n",
            "d\n",
            "e\n",
            "d\n",
            "e\n",
            "d\n",
            "e\n",
            "d\n",
            "e\n",
            "d\n",
            "e\n",
            "d\n",
            "e\n",
            "d\n",
            "e\n",
            "d\n",
            "e\n",
            "d\n",
            "e\n",
            "d\n",
            "e\n",
            "d\n",
            "e\n",
            "d\n",
            "e\n",
            "d\n",
            "e\n",
            "d\n",
            "e\n",
            "d\n",
            "e\n",
            "d\n",
            "e\n",
            "d\n",
            "e\n",
            "d\n",
            "e\n",
            "d\n",
            "e\n",
            "d\n",
            "e\n",
            "d\n",
            "e\n",
            "d\n",
            "e\n",
            "d\n",
            "e\n",
            "d\n",
            "e\n",
            "d\n",
            "e\n",
            "d\n",
            "e\n",
            "d\n",
            "e\n",
            "d\n",
            "e\n",
            "d\n",
            "e\n",
            "d\n",
            "e\n",
            "d\n",
            "e\n",
            "d\n",
            "e\n",
            "d\n",
            "e\n",
            "d\n",
            "e\n",
            "d\n",
            "e\n",
            "d\n",
            "e\n",
            "d\n",
            "e\n",
            "d\n",
            "e\n",
            "d\n",
            "e\n",
            "d\n",
            "e\n",
            "d\n",
            "e\n",
            "d\n",
            "e\n",
            "d\n",
            "e\n",
            "d\n",
            "e\n",
            "d\n",
            "e\n",
            "d\n",
            "e\n",
            "d\n",
            "e\n",
            "d\n",
            "e\n",
            "d\n",
            "e\n",
            "d\n",
            "e\n",
            "d\n",
            "e\n",
            "d\n",
            "e\n",
            "d\n",
            "e\n",
            "d\n",
            "e\n",
            "d\n",
            "e\n",
            "d\n",
            "e\n",
            "d\n",
            "e\n",
            "d\n",
            "e\n",
            "d\n",
            "e\n",
            "d\n",
            "e\n",
            "d\n",
            "e\n",
            "d\n",
            "e\n",
            "d\n",
            "e\n",
            "d\n",
            "e\n",
            "d\n",
            "e\n",
            "d\n",
            "e\n",
            "d\n",
            "e\n",
            "d\n",
            "e\n",
            "d\n",
            "e\n",
            "d\n",
            "e\n",
            "d\n",
            "e\n",
            "d\n",
            "e\n",
            "d\n",
            "e\n",
            "d\n",
            "e\n",
            "d\n",
            "e\n",
            "d\n",
            "e\n",
            "d\n",
            "e\n",
            "d\n",
            "e\n",
            "d\n",
            "e\n",
            "d\n",
            "e\n",
            "d\n",
            "e\n",
            "d\n",
            "e\n",
            "d\n",
            "e\n",
            "d\n",
            "e\n",
            "d\n",
            "e\n",
            "d\n",
            "e\n",
            "d\n",
            "e\n",
            "d\n",
            "e\n",
            "d\n",
            "e\n",
            "d\n",
            "e\n",
            "d\n",
            "e\n",
            "d\n",
            "e\n",
            "d\n",
            "e\n",
            "d\n",
            "e\n",
            "d\n",
            "e\n",
            "d\n",
            "e\n",
            "d\n",
            "e\n",
            "d\n",
            "e\n",
            "d\n",
            "e\n",
            "d\n",
            "e\n",
            "d\n",
            "e\n",
            "d\n",
            "e\n",
            "d\n",
            "e\n",
            "d\n",
            "e\n",
            "d\n",
            "e\n",
            "d\n",
            "e\n",
            "d\n",
            "e\n",
            "d\n",
            "e\n",
            "d\n",
            "e\n",
            "d\n",
            "e\n",
            "d\n",
            "e\n",
            "d\n",
            "e\n",
            "d\n",
            "e\n",
            "d\n",
            "e\n",
            "d\n",
            "e\n",
            "d\n",
            "e\n",
            "d\n",
            "e\n",
            "d\n",
            "e\n",
            "d\n",
            "e\n",
            "d\n",
            "e\n",
            "d\n",
            "e\n",
            "d\n",
            "e\n",
            "d\n",
            "e\n",
            "d\n",
            "e\n",
            "d\n",
            "e\n",
            "d\n",
            "e\n",
            "d\n",
            "e\n",
            "d\n",
            "e\n",
            "d\n",
            "e\n",
            "d\n",
            "e\n",
            "d\n",
            "e\n",
            "d\n",
            "e\n",
            "d\n",
            "e\n",
            "d\n",
            "e\n",
            "d\n",
            "e\n",
            "d\n",
            "e\n",
            "d\n",
            "e\n",
            "d\n",
            "e\n",
            "d\n",
            "e\n",
            "d\n",
            "e\n",
            "d\n",
            "e\n",
            "d\n",
            "e\n",
            "d\n",
            "e\n",
            "d\n",
            "e\n",
            "d\n",
            "e\n",
            "d\n",
            "e\n",
            "d\n",
            "e\n",
            "d\n",
            "e\n",
            "d\n",
            "e\n",
            "d\n",
            "e\n",
            "d\n",
            "e\n",
            "d\n",
            "e\n",
            "d\n",
            "e\n",
            "d\n",
            "e\n",
            "d\n",
            "e\n",
            "d\n",
            "e\n",
            "d\n",
            "e\n",
            "d\n",
            "e\n",
            "d\n",
            "e\n",
            "d\n",
            "e\n",
            "d\n",
            "e\n",
            "d\n",
            "e\n",
            "d\n",
            "e\n",
            "d\n",
            "e\n",
            "d\n",
            "e\n",
            "d\n",
            "e\n",
            "d\n",
            "e\n",
            "d\n",
            "e\n",
            "d\n",
            "e\n",
            "d\n",
            "e\n",
            "d\n",
            "e\n",
            "d\n",
            "e\n",
            "d\n",
            "e\n",
            "d\n",
            "e\n",
            "d\n",
            "e\n",
            "d\n",
            "e\n",
            "d\n",
            "e\n",
            "d\n",
            "e\n",
            "d\n",
            "e\n",
            "d\n",
            "e\n",
            "d\n",
            "e\n",
            "d\n",
            "e\n",
            "d\n",
            "e\n",
            "d\n",
            "e\n",
            "d\n",
            "e\n",
            "d\n",
            "e\n",
            "d\n",
            "e\n",
            "d\n",
            "e\n",
            "d\n",
            "e\n",
            "d\n",
            "e\n",
            "d\n",
            "e\n",
            "d\n",
            "e\n",
            "d\n",
            "e\n",
            "d\n",
            "e\n",
            "d\n",
            "e\n",
            "d\n",
            "e\n",
            "d\n",
            "e\n",
            "d\n",
            "e\n",
            "d\n",
            "e\n",
            "d\n",
            "e\n",
            "d\n",
            "e\n",
            "d\n",
            "e\n",
            "d\n",
            "e\n",
            "d\n",
            "e\n",
            "d\n",
            "e\n",
            "d\n",
            "e\n",
            "d\n",
            "e\n",
            "d\n",
            "e\n",
            "d\n",
            "e\n",
            "d\n",
            "e\n",
            "d\n",
            "e\n",
            "d\n",
            "e\n",
            "d\n",
            "e\n",
            "d\n",
            "e\n",
            "d\n",
            "e\n",
            "d\n",
            "e\n",
            "d\n",
            "e\n",
            "d\n",
            "e\n",
            "d\n",
            "e\n",
            "d\n",
            "e\n",
            "d\n",
            "e\n",
            "d\n",
            "e\n",
            "d\n",
            "e\n",
            "d\n",
            "e\n",
            "d\n",
            "e\n",
            "d\n",
            "e\n",
            "d\n",
            "e\n",
            "d\n",
            "e\n",
            "d\n",
            "e\n",
            "d\n",
            "e\n",
            "d\n",
            "e\n",
            "d\n",
            "e\n",
            "d\n",
            "e\n",
            "d\n",
            "e\n",
            "d\n",
            "e\n",
            "d\n",
            "e\n",
            "d\n",
            "e\n",
            "d\n",
            "e\n",
            "d\n",
            "e\n",
            "d\n",
            "e\n",
            "d\n",
            "e\n",
            "d\n",
            "e\n",
            "d\n",
            "e\n",
            "d\n",
            "e\n",
            "d\n",
            "e\n",
            "d\n",
            "e\n",
            "d\n",
            "e\n",
            "d\n",
            "e\n",
            "d\n",
            "e\n",
            "d\n",
            "e\n",
            "d\n",
            "e\n",
            "d\n",
            "e\n",
            "d\n",
            "e\n",
            "d\n",
            "e\n",
            "d\n",
            "e\n",
            "d\n",
            "e\n",
            "d\n",
            "e\n",
            "d\n",
            "e\n",
            "d\n",
            "e\n",
            "d\n",
            "e\n",
            "d\n",
            "e\n",
            "d\n",
            "e\n",
            "d\n",
            "e\n",
            "d\n",
            "e\n",
            "d\n",
            "e\n",
            "d\n",
            "e\n",
            "d\n",
            "e\n",
            "d\n",
            "e\n",
            "d\n",
            "e\n",
            "d\n",
            "e\n",
            "d\n",
            "e\n",
            "d\n",
            "e\n",
            "d\n",
            "e\n",
            "d\n",
            "e\n",
            "d\n",
            "e\n",
            "d\n",
            "e\n",
            "d\n",
            "e\n",
            "d\n",
            "e\n",
            "d\n",
            "e\n",
            "d\n",
            "e\n",
            "d\n",
            "e\n",
            "d\n",
            "e\n",
            "d\n",
            "e\n",
            "d\n",
            "e\n",
            "d\n",
            "e\n",
            "d\n",
            "e\n",
            "d\n",
            "e\n",
            "d\n",
            "e\n",
            "d\n",
            "e\n",
            "d\n",
            "e\n",
            "d\n",
            "e\n",
            "d\n",
            "e\n",
            "d\n",
            "e\n",
            "d\n",
            "e\n",
            "d\n",
            "e\n",
            "d\n",
            "e\n",
            "d\n",
            "e\n",
            "d\n",
            "e\n",
            "d\n",
            "e\n",
            "d\n",
            "e\n",
            "d\n",
            "e\n",
            "d\n",
            "e\n",
            "d\n",
            "e\n",
            "d\n",
            "e\n",
            "d\n",
            "e\n",
            "d\n",
            "e\n",
            "d\n",
            "e\n",
            "d\n",
            "e\n",
            "d\n",
            "e\n",
            "d\n",
            "e\n",
            "d\n",
            "e\n",
            "d\n",
            "e\n",
            "d\n",
            "e\n",
            "d\n",
            "e\n",
            "d\n",
            "e\n",
            "d\n",
            "e\n",
            "d\n",
            "e\n",
            "d\n",
            "e\n",
            "d\n",
            "e\n",
            "d\n",
            "e\n",
            "d\n",
            "e\n",
            "d\n",
            "e\n",
            "d\n",
            "e\n",
            "d\n",
            "e\n",
            "d\n",
            "e\n",
            "d\n",
            "e\n",
            "d\n",
            "e\n",
            "d\n",
            "e\n",
            "d\n",
            "e\n",
            "d\n",
            "e\n",
            "d\n",
            "e\n",
            "d\n",
            "e\n",
            "d\n",
            "e\n",
            "d\n",
            "e\n",
            "d\n",
            "e\n",
            "d\n",
            "e\n",
            "d\n",
            "e\n",
            "d\n",
            "e\n",
            "d\n",
            "e\n",
            "d\n",
            "e\n",
            "d\n",
            "e\n",
            "d\n",
            "e\n",
            "d\n",
            "e\n",
            "d\n",
            "e\n",
            "d\n",
            "e\n",
            "d\n",
            "e\n",
            "d\n",
            "e\n",
            "d\n",
            "e\n",
            "d\n",
            "e\n",
            "d\n",
            "e\n",
            "d\n",
            "e\n",
            "d\n",
            "e\n",
            "d\n",
            "e\n",
            "d\n",
            "e\n",
            "d\n",
            "e\n",
            "d\n",
            "e\n",
            "d\n",
            "e\n",
            "d\n",
            "e\n",
            "d\n",
            "e\n",
            "d\n",
            "e\n",
            "d\n",
            "e\n",
            "d\n",
            "e\n",
            "d\n",
            "e\n",
            "d\n",
            "e\n",
            "d\n",
            "e\n",
            "d\n",
            "e\n",
            "d\n",
            "e\n",
            "d\n",
            "e\n",
            "d\n",
            "e\n",
            "d\n",
            "e\n",
            "d\n",
            "e\n",
            "d\n",
            "e\n",
            "d\n",
            "e\n",
            "d\n",
            "e\n",
            "d\n",
            "e\n",
            "d\n",
            "e\n",
            "d\n",
            "e\n",
            "d\n",
            "e\n",
            "d\n",
            "e\n",
            "d\n",
            "e\n",
            "d\n",
            "e\n",
            "d\n",
            "e\n",
            "d\n",
            "e\n",
            "d\n",
            "e\n",
            "d\n",
            "e\n",
            "d\n",
            "e\n",
            "d\n",
            "e\n",
            "d\n",
            "e\n",
            "d\n",
            "e\n",
            "d\n",
            "e\n",
            "d\n",
            "e\n",
            "d\n",
            "e\n",
            "d\n",
            "e\n",
            "d\n",
            "e\n",
            "d\n",
            "e\n",
            "d\n",
            "e\n",
            "d\n",
            "e\n",
            "d\n",
            "e\n",
            "d\n",
            "e\n",
            "d\n",
            "e\n",
            "d\n",
            "e\n",
            "d\n",
            "e\n",
            "d\n",
            "e\n",
            "d\n",
            "e\n",
            "d\n",
            "e\n",
            "d\n",
            "e\n",
            "d\n",
            "e\n",
            "d\n",
            "e\n",
            "d\n",
            "e\n",
            "d\n",
            "e\n",
            "d\n",
            "e\n",
            "d\n",
            "e\n",
            "d\n",
            "e\n",
            "d\n",
            "e\n",
            "d\n",
            "e\n",
            "d\n",
            "e\n",
            "d\n",
            "e\n",
            "d\n",
            "e\n",
            "d\n",
            "e\n",
            "d\n",
            "e\n",
            "d\n",
            "e\n",
            "d\n",
            "e\n",
            "d\n",
            "e\n",
            "d\n",
            "e\n",
            "d\n",
            "e\n",
            "d\n",
            "e\n",
            "d\n",
            "e\n",
            "d\n",
            "e\n",
            "d\n",
            "e\n",
            "d\n",
            "e\n",
            "d\n",
            "e\n",
            "d\n",
            "e\n",
            "d\n",
            "e\n",
            "d\n",
            "e\n",
            "d\n",
            "e\n",
            "d\n",
            "e\n",
            "d\n",
            "e\n",
            "d\n",
            "e\n",
            "d\n",
            "e\n",
            "d\n",
            "e\n",
            "d\n",
            "e\n",
            "d\n",
            "e\n",
            "d\n",
            "e\n",
            "d\n",
            "e\n",
            "d\n",
            "e\n",
            "d\n",
            "e\n",
            "d\n",
            "e\n",
            "d\n",
            "e\n",
            "d\n",
            "e\n",
            "d\n",
            "e\n",
            "d\n",
            "e\n",
            "d\n",
            "e\n",
            "d\n",
            "e\n",
            "d\n",
            "e\n",
            "d\n",
            "e\n",
            "d\n",
            "e\n",
            "d\n",
            "e\n",
            "d\n",
            "e\n",
            "d\n",
            "e\n",
            "d\n",
            "e\n",
            "d\n",
            "e\n",
            "d\n",
            "e\n",
            "d\n",
            "e\n",
            "d\n",
            "e\n",
            "d\n",
            "e\n",
            "d\n",
            "e\n",
            "d\n",
            "e\n",
            "d\n",
            "e\n",
            "d\n",
            "e\n",
            "d\n",
            "e\n",
            "d\n",
            "e\n",
            "d\n",
            "e\n",
            "d\n",
            "e\n",
            "d\n",
            "e\n",
            "d\n",
            "e\n",
            "d\n",
            "e\n",
            "d\n",
            "e\n",
            "d\n",
            "e\n",
            "d\n",
            "e\n",
            "d\n",
            "e\n",
            "d\n",
            "e\n",
            "d\n",
            "e\n",
            "d\n",
            "e\n",
            "d\n",
            "e\n",
            "d\n",
            "e\n",
            "d\n",
            "e\n",
            "d\n",
            "e\n",
            "d\n",
            "e\n",
            "d\n",
            "e\n",
            "d\n",
            "e\n",
            "d\n",
            "e\n",
            "d\n",
            "e\n",
            "d\n",
            "e\n",
            "d\n",
            "e\n",
            "d\n",
            "e\n",
            "d\n",
            "e\n",
            "d\n",
            "e\n",
            "d\n",
            "e\n",
            "d\n",
            "e\n",
            "d\n",
            "e\n",
            "d\n",
            "e\n",
            "d\n",
            "e\n",
            "d\n",
            "e\n",
            "d\n",
            "e\n",
            "d\n",
            "e\n",
            "d\n",
            "e\n",
            "d\n",
            "e\n",
            "d\n",
            "e\n",
            "d\n",
            "e\n",
            "d\n",
            "e\n",
            "d\n",
            "e\n",
            "d\n",
            "e\n",
            "d\n",
            "e\n",
            "d\n",
            "e\n",
            "d\n",
            "e\n",
            "d\n",
            "e\n",
            "d\n",
            "e\n",
            "d\n",
            "e\n",
            "d\n",
            "e\n",
            "d\n",
            "e\n",
            "d\n",
            "e\n",
            "d\n",
            "e\n",
            "d\n",
            "e\n",
            "d\n",
            "e\n",
            "d\n",
            "e\n",
            "d\n",
            "e\n",
            "d\n",
            "e\n",
            "d\n",
            "e\n",
            "d\n",
            "e\n",
            "d\n",
            "e\n",
            "d\n",
            "e\n",
            "d\n",
            "e\n",
            "d\n",
            "e\n",
            "d\n",
            "e\n",
            "d\n",
            "e\n",
            "d\n",
            "e\n",
            "d\n",
            "e\n",
            "d\n",
            "e\n",
            "d\n",
            "e\n",
            "d\n",
            "e\n",
            "d\n",
            "e\n",
            "d\n",
            "e\n",
            "d\n",
            "e\n",
            "d\n",
            "e\n",
            "d\n",
            "e\n",
            "d\n",
            "e\n",
            "d\n",
            "e\n",
            "d\n",
            "e\n",
            "d\n",
            "e\n",
            "d\n",
            "e\n",
            "d\n",
            "e\n",
            "d\n",
            "e\n",
            "d\n",
            "e\n",
            "d\n",
            "e\n",
            "d\n",
            "e\n",
            "d\n",
            "e\n",
            "d\n",
            "e\n",
            "d\n",
            "e\n",
            "d\n",
            "e\n",
            "d\n",
            "e\n",
            "d\n",
            "e\n",
            "d\n",
            "e\n",
            "d\n",
            "e\n",
            "d\n",
            "e\n",
            "d\n",
            "e\n",
            "d\n",
            "e\n",
            "d\n",
            "e\n",
            "d\n",
            "e\n",
            "d\n",
            "e\n",
            "d\n",
            "e\n",
            "d\n",
            "e\n",
            "d\n",
            "e\n",
            "d\n",
            "e\n",
            "d\n",
            "e\n",
            "d\n",
            "e\n",
            "d\n",
            "e\n",
            "d\n",
            "e\n",
            "d\n",
            "e\n",
            "d\n",
            "e\n",
            "d\n",
            "e\n",
            "d\n",
            "e\n",
            "d\n",
            "e\n",
            "d\n",
            "e\n",
            "d\n",
            "e\n",
            "d\n",
            "e\n",
            "d\n",
            "e\n",
            "d\n",
            "e\n",
            "d\n",
            "e\n",
            "d\n",
            "e\n",
            "d\n",
            "e\n",
            "d\n",
            "e\n",
            "d\n",
            "e\n",
            "d\n",
            "e\n",
            "d\n",
            "e\n",
            "d\n",
            "e\n",
            "d\n",
            "e\n",
            "d\n",
            "e\n",
            "d\n",
            "e\n",
            "d\n",
            "e\n",
            "d\n",
            "e\n",
            "d\n",
            "e\n",
            "d\n",
            "e\n",
            "d\n",
            "e\n",
            "d\n",
            "e\n",
            "d\n",
            "e\n",
            "d\n",
            "e\n",
            "d\n",
            "e\n",
            "d\n",
            "e\n",
            "d\n",
            "e\n",
            "d\n",
            "e\n",
            "d\n",
            "e\n",
            "d\n",
            "e\n",
            "d\n",
            "e\n",
            "d\n",
            "e\n",
            "d\n",
            "e\n",
            "d\n",
            "e\n",
            "d\n",
            "e\n",
            "d\n",
            "e\n",
            "d\n",
            "e\n",
            "d\n",
            "e\n",
            "d\n",
            "e\n",
            "d\n",
            "e\n",
            "d\n",
            "e\n",
            "d\n",
            "e\n",
            "d\n",
            "e\n",
            "d\n",
            "e\n",
            "d\n",
            "e\n",
            "d\n",
            "e\n",
            "d\n",
            "e\n",
            "d\n",
            "e\n",
            "d\n",
            "e\n",
            "d\n",
            "e\n",
            "d\n",
            "e\n",
            "d\n",
            "e\n",
            "d\n",
            "e\n",
            "d\n",
            "e\n",
            "d\n",
            "e\n",
            "d\n",
            "e\n",
            "d\n",
            "e\n",
            "d\n",
            "e\n",
            "d\n",
            "e\n",
            "d\n",
            "e\n",
            "d\n",
            "e\n",
            "d\n",
            "e\n",
            "d\n",
            "e\n",
            "d\n",
            "e\n",
            "d\n",
            "e\n",
            "d\n",
            "e\n",
            "d\n",
            "e\n",
            "d\n",
            "e\n",
            "d\n",
            "e\n",
            "d\n",
            "e\n",
            "d\n",
            "e\n",
            "d\n",
            "e\n",
            "d\n",
            "e\n",
            "d\n",
            "e\n",
            "d\n",
            "e\n",
            "d\n",
            "e\n",
            "d\n",
            "e\n",
            "d\n",
            "e\n",
            "d\n",
            "e\n",
            "d\n",
            "e\n",
            "d\n",
            "e\n",
            "d\n",
            "e\n",
            "d\n",
            "e\n",
            "d\n",
            "e\n",
            "d\n",
            "e\n",
            "d\n",
            "e\n",
            "d\n",
            "e\n",
            "d\n",
            "e\n",
            "d\n",
            "e\n",
            "d\n",
            "e\n",
            "d\n",
            "e\n",
            "d\n",
            "e\n",
            "d\n",
            "e\n",
            "d\n",
            "e\n",
            "d\n",
            "e\n",
            "d\n",
            "e\n",
            "d\n",
            "e\n",
            "d\n",
            "e\n",
            "d\n",
            "e\n",
            "d\n",
            "e\n",
            "d\n",
            "e\n",
            "d\n",
            "e\n",
            "d\n",
            "e\n",
            "d\n",
            "e\n",
            "d\n",
            "e\n",
            "d\n",
            "e\n",
            "d\n",
            "e\n",
            "d\n",
            "e\n",
            "d\n",
            "e\n",
            "d\n",
            "e\n",
            "d\n",
            "e\n",
            "d\n",
            "e\n",
            "d\n",
            "e\n",
            "d\n",
            "e\n",
            "d\n",
            "e\n",
            "d\n",
            "e\n",
            "d\n",
            "e\n",
            "d\n",
            "e\n",
            "d\n",
            "e\n",
            "d\n",
            "e\n",
            "d\n",
            "e\n",
            "d\n",
            "e\n",
            "d\n",
            "e\n",
            "d\n",
            "e\n",
            "d\n",
            "e\n",
            "d\n",
            "e\n",
            "d\n",
            "e\n",
            "d\n",
            "e\n",
            "d\n",
            "e\n",
            "d\n",
            "e\n",
            "d\n",
            "e\n",
            "d\n",
            "e\n",
            "d\n",
            "e\n",
            "d\n",
            "e\n",
            "d\n",
            "e\n",
            "d\n",
            "e\n",
            "d\n",
            "e\n",
            "d\n",
            "e\n",
            "d\n",
            "e\n",
            "d\n",
            "e\n",
            "d\n",
            "e\n",
            "d\n",
            "e\n",
            "d\n",
            "e\n",
            "d\n",
            "e\n",
            "d\n",
            "e\n",
            "d\n",
            "e\n",
            "d\n",
            "e\n",
            "d\n",
            "e\n",
            "d\n",
            "e\n",
            "d\n",
            "e\n",
            "d\n",
            "e\n",
            "d\n",
            "e\n",
            "d\n",
            "e\n",
            "d\n",
            "e\n",
            "d\n",
            "e\n",
            "d\n",
            "e\n",
            "d\n",
            "e\n",
            "d\n",
            "e\n",
            "d\n",
            "e\n",
            "d\n",
            "e\n",
            "d\n",
            "e\n",
            "d\n",
            "e\n",
            "d\n",
            "e\n",
            "d\n",
            "e\n",
            "d\n",
            "e\n",
            "d\n",
            "e\n",
            "d\n",
            "e\n",
            "d\n",
            "e\n",
            "d\n",
            "e\n",
            "d\n",
            "e\n",
            "d\n",
            "e\n",
            "d\n",
            "e\n",
            "d\n",
            "e\n",
            "d\n",
            "e\n",
            "d\n",
            "e\n",
            "d\n",
            "e\n",
            "d\n",
            "e\n",
            "d\n",
            "e\n",
            "d\n",
            "e\n",
            "d\n",
            "e\n",
            "d\n",
            "e\n",
            "d\n",
            "e\n",
            "d\n",
            "e\n",
            "d\n",
            "e\n",
            "d\n",
            "e\n",
            "d\n",
            "e\n",
            "d\n",
            "e\n",
            "d\n",
            "e\n",
            "d\n",
            "e\n",
            "d\n",
            "e\n",
            "d\n",
            "e\n",
            "d\n",
            "e\n",
            "d\n",
            "e\n",
            "d\n",
            "e\n",
            "d\n",
            "e\n",
            "d\n",
            "e\n",
            "d\n",
            "e\n",
            "d\n",
            "e\n",
            "d\n",
            "e\n",
            "d\n",
            "e\n",
            "d\n",
            "e\n",
            "d\n",
            "e\n",
            "d\n",
            "e\n",
            "d\n",
            "e\n",
            "d\n",
            "e\n",
            "d\n",
            "e\n",
            "d\n",
            "e\n",
            "d\n",
            "e\n",
            "d\n",
            "e\n",
            "d\n",
            "e\n",
            "d\n",
            "e\n",
            "d\n",
            "e\n",
            "d\n",
            "e\n",
            "d\n",
            "e\n",
            "d\n",
            "e\n",
            "d\n",
            "e\n",
            "d\n",
            "e\n",
            "d\n",
            "e\n",
            "d\n",
            "e\n",
            "d\n",
            "e\n",
            "d\n",
            "e\n",
            "d\n",
            "e\n",
            "d\n",
            "e\n",
            "d\n",
            "e\n",
            "d\n",
            "e\n",
            "d\n",
            "e\n",
            "d\n",
            "e\n",
            "d\n",
            "e\n",
            "d\n",
            "e\n",
            "d\n",
            "e\n",
            "d\n",
            "e\n",
            "d\n",
            "e\n",
            "d\n",
            "e\n",
            "d\n",
            "e\n",
            "d\n",
            "e\n",
            "d\n",
            "e\n",
            "d\n",
            "e\n",
            "d\n",
            "e\n",
            "d\n",
            "e\n",
            "d\n",
            "e\n",
            "d\n",
            "e\n",
            "d\n",
            "e\n",
            "d\n",
            "e\n",
            "d\n",
            "e\n",
            "d\n",
            "e\n",
            "d\n",
            "e\n",
            "d\n",
            "e\n",
            "d\n",
            "e\n",
            "d\n",
            "e\n",
            "d\n",
            "e\n",
            "d\n",
            "e\n",
            "d\n",
            "e\n",
            "d\n",
            "e\n",
            "d\n",
            "e\n",
            "d\n",
            "e\n",
            "d\n",
            "e\n",
            "d\n",
            "e\n",
            "d\n",
            "e\n",
            "d\n",
            "e\n",
            "d\n",
            "e\n",
            "d\n",
            "e\n",
            "d\n",
            "e\n",
            "d\n",
            "e\n",
            "d\n",
            "e\n",
            "d\n",
            "e\n",
            "d\n",
            "e\n",
            "d\n",
            "e\n",
            "d\n",
            "e\n",
            "d\n",
            "e\n",
            "d\n",
            "e\n",
            "d\n",
            "e\n",
            "d\n",
            "e\n",
            "d\n",
            "e\n",
            "d\n",
            "e\n",
            "d\n",
            "e\n",
            "d\n",
            "e\n",
            "d\n",
            "e\n",
            "d\n",
            "e\n",
            "d\n",
            "e\n",
            "d\n",
            "e\n",
            "d\n",
            "e\n",
            "d\n",
            "e\n",
            "d\n",
            "e\n",
            "d\n",
            "e\n",
            "d\n",
            "e\n",
            "d\n",
            "e\n",
            "d\n",
            "e\n",
            "d\n",
            "e\n",
            "d\n",
            "e\n",
            "d\n",
            "e\n",
            "d\n",
            "e\n",
            "d\n",
            "e\n",
            "d\n",
            "e\n",
            "d\n",
            "e\n",
            "d\n",
            "e\n",
            "d\n",
            "e\n",
            "d\n",
            "e\n",
            "d\n",
            "e\n",
            "d\n",
            "e\n",
            "d\n",
            "e\n",
            "d\n",
            "e\n",
            "d\n",
            "e\n",
            "d\n",
            "e\n",
            "d\n",
            "e\n",
            "d\n",
            "e\n",
            "d\n",
            "e\n",
            "d\n",
            "e\n",
            "d\n",
            "e\n",
            "d\n",
            "e\n",
            "d\n",
            "e\n",
            "d\n",
            "e\n",
            "d\n",
            "e\n",
            "d\n",
            "e\n",
            "d\n",
            "e\n",
            "d\n",
            "e\n",
            "d\n",
            "e\n",
            "d\n",
            "e\n",
            "d\n",
            "e\n",
            "d\n",
            "e\n",
            "d\n",
            "e\n",
            "d\n",
            "e\n",
            "d\n",
            "e\n",
            "d\n",
            "e\n",
            "d\n",
            "e\n",
            "d\n",
            "e\n",
            "d\n",
            "e\n",
            "d\n",
            "e\n",
            "d\n",
            "e\n",
            "d\n",
            "e\n",
            "d\n",
            "e\n",
            "d\n",
            "e\n",
            "d\n",
            "e\n",
            "d\n",
            "e\n",
            "d\n",
            "e\n",
            "d\n",
            "e\n",
            "d\n",
            "e\n",
            "d\n",
            "e\n",
            "d\n",
            "e\n",
            "d\n",
            "e\n",
            "d\n",
            "e\n",
            "d\n",
            "e\n",
            "d\n",
            "e\n",
            "d\n",
            "e\n",
            "d\n",
            "e\n",
            "d\n",
            "e\n",
            "d\n",
            "e\n",
            "d\n",
            "e\n",
            "d\n",
            "e\n",
            "d\n",
            "e\n",
            "d\n",
            "e\n",
            "d\n",
            "e\n",
            "d\n",
            "e\n",
            "d\n",
            "e\n",
            "d\n",
            "e\n",
            "d\n",
            "e\n",
            "d\n",
            "e\n",
            "d\n",
            "e\n",
            "d\n",
            "e\n",
            "d\n",
            "e\n",
            "d\n",
            "e\n",
            "d\n",
            "e\n",
            "d\n",
            "e\n",
            "d\n",
            "e\n",
            "d\n",
            "e\n",
            "d\n",
            "e\n",
            "d\n",
            "e\n",
            "d\n",
            "e\n",
            "d\n",
            "e\n",
            "d\n",
            "e\n",
            "d\n",
            "e\n",
            "d\n",
            "e\n",
            "d\n",
            "e\n",
            "d\n",
            "e\n",
            "d\n",
            "e\n",
            "d\n",
            "e\n",
            "d\n",
            "e\n",
            "d\n",
            "e\n",
            "d\n",
            "e\n",
            "d\n",
            "e\n",
            "d\n",
            "e\n",
            "d\n",
            "e\n",
            "d\n",
            "e\n",
            "d\n",
            "e\n",
            "d\n",
            "e\n",
            "d\n",
            "e\n",
            "d\n",
            "e\n",
            "d\n",
            "e\n",
            "d\n",
            "e\n",
            "d\n",
            "e\n",
            "d\n",
            "e\n",
            "d\n",
            "e\n",
            "d\n",
            "e\n",
            "d\n",
            "e\n",
            "d\n",
            "e\n",
            "d\n",
            "e\n",
            "d\n",
            "e\n",
            "d\n",
            "e\n",
            "d\n",
            "e\n",
            "d\n",
            "e\n",
            "d\n",
            "e\n",
            "d\n",
            "e\n",
            "d\n",
            "e\n",
            "d\n",
            "e\n",
            "d\n",
            "e\n",
            "d\n",
            "e\n",
            "d\n",
            "e\n",
            "d\n",
            "e\n",
            "d\n",
            "e\n",
            "d\n",
            "e\n",
            "d\n",
            "e\n",
            "d\n",
            "e\n",
            "d\n",
            "e\n",
            "d\n",
            "e\n",
            "d\n",
            "e\n",
            "d\n",
            "e\n",
            "d\n",
            "e\n",
            "d\n",
            "e\n",
            "d\n",
            "e\n",
            "d\n",
            "e\n",
            "d\n",
            "e\n",
            "d\n",
            "e\n",
            "d\n",
            "e\n",
            "d\n",
            "e\n",
            "d\n",
            "e\n",
            "d\n",
            "e\n",
            "d\n",
            "e\n",
            "d\n",
            "e\n",
            "d\n",
            "e\n",
            "d\n",
            "e\n",
            "d\n",
            "e\n",
            "d\n",
            "e\n",
            "d\n",
            "e\n",
            "d\n",
            "e\n",
            "d\n",
            "e\n",
            "d\n",
            "e\n",
            "d\n",
            "e\n",
            "d\n",
            "e\n",
            "d\n",
            "e\n",
            "d\n",
            "e\n",
            "d\n",
            "e\n",
            "d\n",
            "e\n",
            "d\n",
            "e\n",
            "d\n",
            "e\n",
            "d\n",
            "e\n",
            "d\n",
            "e\n",
            "d\n",
            "e\n",
            "d\n",
            "e\n",
            "d\n",
            "e\n",
            "d\n",
            "e\n",
            "d\n",
            "e\n",
            "d\n",
            "e\n",
            "d\n",
            "e\n",
            "d\n",
            "e\n",
            "d\n",
            "e\n",
            "d\n",
            "e\n",
            "d\n",
            "e\n",
            "d\n",
            "e\n",
            "d\n",
            "e\n",
            "d\n",
            "e\n",
            "d\n",
            "e\n",
            "d\n",
            "e\n",
            "d\n",
            "e\n",
            "d\n",
            "e\n",
            "d\n",
            "e\n",
            "d\n",
            "e\n",
            "d\n",
            "e\n",
            "d\n",
            "e\n",
            "d\n",
            "e\n",
            "d\n",
            "e\n",
            "d\n",
            "e\n",
            "d\n",
            "e\n",
            "d\n",
            "e\n",
            "d\n",
            "e\n",
            "d\n",
            "e\n",
            "d\n",
            "e\n",
            "d\n",
            "e\n",
            "d\n",
            "e\n",
            "d\n",
            "e\n",
            "d\n",
            "e\n",
            "d\n",
            "e\n",
            "d\n",
            "e\n",
            "d\n",
            "e\n",
            "d\n",
            "e\n",
            "d\n",
            "e\n",
            "d\n",
            "e\n",
            "d\n",
            "e\n",
            "d\n",
            "e\n",
            "d\n",
            "e\n",
            "d\n",
            "e\n",
            "d\n",
            "e\n",
            "d\n",
            "e\n",
            "d\n",
            "e\n",
            "d\n",
            "e\n",
            "d\n",
            "e\n",
            "d\n",
            "e\n",
            "d\n",
            "e\n",
            "d\n",
            "e\n",
            "d\n",
            "e\n",
            "d\n",
            "e\n",
            "d\n",
            "e\n",
            "d\n",
            "e\n",
            "d\n",
            "e\n",
            "d\n",
            "e\n",
            "d\n",
            "e\n",
            "d\n",
            "e\n",
            "d\n",
            "e\n",
            "d\n",
            "e\n",
            "d\n",
            "e\n",
            "d\n",
            "e\n",
            "d\n",
            "e\n",
            "d\n",
            "e\n",
            "d\n",
            "e\n",
            "d\n",
            "e\n",
            "d\n",
            "e\n",
            "d\n",
            "e\n",
            "d\n",
            "e\n",
            "d\n",
            "e\n",
            "d\n",
            "e\n",
            "d\n",
            "e\n",
            "d\n",
            "e\n",
            "d\n",
            "e\n",
            "d\n",
            "e\n",
            "d\n",
            "e\n",
            "d\n",
            "e\n",
            "d\n",
            "e\n",
            "d\n",
            "e\n",
            "d\n",
            "e\n",
            "d\n",
            "e\n",
            "d\n",
            "e\n",
            "d\n",
            "e\n",
            "d\n",
            "e\n",
            "d\n",
            "e\n",
            "d\n",
            "e\n",
            "d\n",
            "e\n",
            "d\n",
            "e\n",
            "d\n",
            "e\n",
            "d\n",
            "e\n",
            "d\n",
            "e\n",
            "d\n",
            "e\n",
            "d\n",
            "e\n",
            "d\n",
            "e\n",
            "d\n",
            "e\n",
            "d\n",
            "e\n",
            "d\n",
            "e\n",
            "d\n",
            "e\n",
            "d\n",
            "e\n",
            "d\n",
            "e\n",
            "d\n",
            "e\n",
            "d\n",
            "e\n",
            "d\n",
            "e\n",
            "d\n",
            "e\n",
            "d\n",
            "e\n",
            "d\n",
            "e\n",
            "d\n",
            "e\n",
            "d\n",
            "e\n",
            "d\n",
            "e\n",
            "d\n",
            "e\n",
            "d\n",
            "e\n",
            "d\n",
            "e\n",
            "d\n",
            "e\n",
            "d\n",
            "e\n",
            "d\n",
            "e\n",
            "d\n",
            "e\n",
            "d\n",
            "e\n",
            "d\n",
            "e\n",
            "d\n",
            "e\n",
            "d\n",
            "e\n",
            "d\n",
            "e\n",
            "d\n",
            "e\n",
            "d\n",
            "e\n",
            "d\n",
            "e\n",
            "d\n",
            "e\n"
          ]
        }
      ],
      "source": [
        "for keys in list(feats_dict.keys()):\n",
        "    print(keys[0])\n",
        "    print(keys[1])\n",
        "    keys1=keys \n",
        "    \n"
      ]
    },
    {
      "cell_type": "code",
      "execution_count": null,
      "metadata": {
        "colab": {
          "base_uri": "https://localhost:8080/"
        },
        "id": "iVUyH7-1abjd",
        "outputId": "5251db04-2e02-46a9-d3d6-ab5d57b77527"
      },
      "outputs": [
        {
          "data": {
            "text/plain": [
              "tensor([1.7886e-02, 2.2069e-04, 1.3272e-02, 6.9363e-04, 9.5688e-03, 0.0000e+00,\n",
              "        6.5521e-05, 2.5615e-03, 1.8756e-02, 9.7871e-03, 7.4027e-03, 1.0770e-03,\n",
              "        1.6101e-03, 2.2303e-03, 0.0000e+00, 2.2621e-02, 3.0591e-02, 3.5864e-04,\n",
              "        2.6656e-02, 7.9551e-03, 0.0000e+00, 3.0935e-02, 3.9138e-05, 0.0000e+00,\n",
              "        0.0000e+00, 0.0000e+00, 1.1283e-03, 1.9843e-02, 2.4212e-02, 3.8281e-04,\n",
              "        7.8426e-02, 1.4956e-02, 4.9265e-03, 0.0000e+00, 0.0000e+00, 1.6317e-03,\n",
              "        2.1364e-03, 6.9883e-02, 1.8867e-02, 2.5655e-02, 1.8613e-02, 3.5373e-02,\n",
              "        2.6826e-02, 3.1326e-02, 6.1110e-03, 4.5165e-04, 1.6743e-02, 3.0892e-04,\n",
              "        3.8503e-02, 4.1356e-02, 9.8160e-03, 1.7986e-02, 3.6644e-02, 0.0000e+00,\n",
              "        8.0677e-04, 2.3378e-02, 1.0091e-02, 1.0237e-02, 3.5172e-02, 6.8937e-03,\n",
              "        4.5925e-03, 4.3300e-02, 4.8760e-02, 8.6678e-03, 3.7915e-03, 3.5341e-02,\n",
              "        6.1794e-03, 7.5579e-04, 1.2173e-02, 1.7853e-03, 0.0000e+00, 3.2194e-02,\n",
              "        7.7248e-03, 9.7105e-03, 0.0000e+00, 0.0000e+00, 0.0000e+00, 7.2977e-04,\n",
              "        4.1157e-02, 1.2835e-03, 5.4427e-05, 5.2099e-03, 3.8746e-02, 1.8190e-02,\n",
              "        2.8339e-03, 2.1430e-02, 1.5165e-03, 0.0000e+00, 2.8793e-02, 3.8060e-04,\n",
              "        3.3962e-03, 5.8670e-03, 0.0000e+00, 2.0308e-03, 3.9468e-02, 1.1930e-02,\n",
              "        3.0280e-04, 7.3697e-04, 1.0041e-03, 3.8722e-02, 4.8505e-02, 1.0945e-02,\n",
              "        1.2149e-02, 9.7201e-03, 2.5231e-03, 1.5534e-02, 3.0766e-03, 1.9998e-02,\n",
              "        4.4623e-04, 1.9789e-02, 0.0000e+00, 0.0000e+00, 3.0127e-03, 3.3166e-02,\n",
              "        6.9115e-05, 1.1953e-02, 3.5161e-02, 1.2589e-02, 2.2931e-04, 8.7782e-03,\n",
              "        0.0000e+00, 3.6153e-02, 1.5594e-04, 2.3633e-02, 4.1399e-02, 0.0000e+00,\n",
              "        0.0000e+00, 1.8641e-02, 1.6627e-02, 0.0000e+00, 0.0000e+00, 3.4159e-02,\n",
              "        3.7101e-02, 7.7337e-03, 5.2276e-05, 0.0000e+00, 6.6521e-03, 2.0754e-04,\n",
              "        1.2416e-02, 2.7199e-02, 2.0981e-02, 4.0861e-02, 6.8037e-05, 0.0000e+00,\n",
              "        0.0000e+00, 1.4200e-02, 0.0000e+00, 6.1119e-02, 3.3404e-04, 6.1877e-04,\n",
              "        5.2416e-03, 1.0126e-03, 1.5505e-03, 3.7054e-02, 2.3069e-03, 8.7906e-05,\n",
              "        4.8460e-02, 3.5259e-02, 8.3875e-03, 2.3149e-02, 1.1135e-03, 7.9769e-03,\n",
              "        1.9291e-04, 0.0000e+00, 0.0000e+00, 1.5518e-02, 1.2443e-02, 0.0000e+00,\n",
              "        4.5482e-02, 2.6650e-02, 1.0156e-02, 1.1027e-03, 1.0048e-04, 4.9612e-03,\n",
              "        9.1510e-03, 0.0000e+00, 5.3124e-02, 1.0164e-02, 3.2126e-02, 2.9679e-02,\n",
              "        1.5163e-02, 4.8318e-02, 2.1296e-02, 0.0000e+00, 2.2895e-02, 1.7796e-02,\n",
              "        0.0000e+00, 2.2930e-03, 0.0000e+00, 0.0000e+00, 8.8293e-05, 0.0000e+00,\n",
              "        0.0000e+00, 3.3085e-02, 1.7476e-04, 0.0000e+00, 2.6520e-02, 2.6207e-02,\n",
              "        0.0000e+00, 4.5428e-02, 0.0000e+00, 0.0000e+00, 0.0000e+00, 3.8217e-02,\n",
              "        1.3827e-03, 1.7903e-02, 2.2645e-04, 6.5765e-02, 1.6970e-02, 0.0000e+00,\n",
              "        5.2712e-02, 5.4494e-03, 2.9259e-02, 4.4601e-02, 0.0000e+00, 4.7888e-03,\n",
              "        8.9255e-03, 2.0990e-03, 2.4850e-02, 4.8791e-04, 3.5567e-04, 1.8692e-04,\n",
              "        0.0000e+00, 5.2322e-03, 1.5933e-02, 1.0458e-02, 0.0000e+00, 1.6666e-04,\n",
              "        2.8451e-02, 0.0000e+00, 0.0000e+00, 0.0000e+00, 1.3618e-04, 1.9326e-04,\n",
              "        4.1223e-02, 5.0558e-02, 6.4001e-03, 0.0000e+00, 5.9764e-04, 4.9664e-03,\n",
              "        8.3458e-03, 5.7041e-04, 1.9292e-04, 1.8513e-04, 4.7364e-02, 0.0000e+00,\n",
              "        2.3133e-02, 3.4508e-02, 9.9182e-03, 2.3042e-02, 6.2905e-05, 3.7275e-03,\n",
              "        5.4074e-02, 1.7101e-04, 5.0856e-06, 3.4095e-04, 2.5355e-02, 2.0976e-02,\n",
              "        0.0000e+00, 0.0000e+00, 3.3724e-03, 7.7959e-03, 0.0000e+00, 0.0000e+00,\n",
              "        2.6480e-02, 0.0000e+00, 2.5900e-02, 0.0000e+00, 0.0000e+00, 1.6243e-05,\n",
              "        6.7152e-03, 3.3338e-02, 4.8023e-02, 0.0000e+00, 0.0000e+00, 0.0000e+00,\n",
              "        4.2493e-02, 1.2857e-03, 3.9574e-03, 1.2197e-02, 4.2300e-05, 9.8489e-03,\n",
              "        1.3544e-04, 4.5608e-02, 0.0000e+00, 6.1846e-02, 3.8545e-03, 0.0000e+00,\n",
              "        5.7434e-04, 0.0000e+00, 2.8581e-02, 5.9776e-03, 8.2550e-04, 5.7518e-03,\n",
              "        3.4200e-02, 3.1719e-05, 1.4910e-02, 5.9810e-02, 7.7230e-03, 1.3604e-04,\n",
              "        6.6778e-04, 0.0000e+00, 4.0420e-02, 0.0000e+00, 9.8901e-03, 0.0000e+00,\n",
              "        1.2817e-03, 2.0199e-02, 1.0237e-02, 6.9171e-04, 0.0000e+00, 1.0711e-02,\n",
              "        0.0000e+00, 0.0000e+00, 1.1858e-02, 2.8574e-04, 0.0000e+00, 1.6740e-02,\n",
              "        0.0000e+00, 4.6836e-03, 0.0000e+00, 0.0000e+00, 7.4933e-03, 4.3030e-03,\n",
              "        1.3270e-02, 0.0000e+00, 3.5908e-02, 8.4314e-04, 3.3504e-03, 2.2053e-03,\n",
              "        1.0370e-03, 1.1135e-03, 1.4002e-02, 0.0000e+00, 0.0000e+00, 1.7276e-03,\n",
              "        4.6650e-03, 6.6041e-05, 4.2133e-02, 3.2628e-02, 6.9066e-03, 1.2002e-02,\n",
              "        1.4846e-02, 0.0000e+00, 6.7650e-02, 4.4030e-02, 1.9959e-03, 2.6627e-02,\n",
              "        2.2563e-02, 7.1700e-04, 6.0975e-03, 0.0000e+00, 6.7682e-04, 6.5792e-04,\n",
              "        2.5370e-02, 0.0000e+00, 4.9467e-03, 0.0000e+00, 1.4221e-02, 0.0000e+00,\n",
              "        4.7005e-03, 4.7192e-02, 4.8666e-03, 0.0000e+00, 3.1173e-02, 1.3731e-02,\n",
              "        5.1320e-03, 9.4870e-02, 9.9376e-04, 3.5476e-02, 4.4201e-02, 0.0000e+00,\n",
              "        4.3128e-04, 3.7817e-04, 4.9904e-03, 4.2251e-02, 2.4054e-02, 3.3448e-02,\n",
              "        1.1717e-03, 0.0000e+00, 6.6232e-03, 1.3268e-02, 0.0000e+00, 3.3082e-03,\n",
              "        1.4456e-02, 5.6312e-03, 1.8221e-02, 5.0460e-05, 0.0000e+00, 3.1682e-05,\n",
              "        2.0354e-02, 1.1235e-02, 1.3086e-02, 3.0814e-02, 9.0962e-03, 3.4541e-02,\n",
              "        0.0000e+00, 2.0415e-02, 0.0000e+00, 2.0621e-03, 1.1166e-04, 9.0777e-05,\n",
              "        1.5436e-03, 7.3466e-02, 3.4429e-03, 1.9795e-02, 7.9734e-03, 2.6358e-03,\n",
              "        7.4270e-05, 0.0000e+00, 4.0719e-02, 5.9437e-03, 5.5180e-02, 3.8415e-02,\n",
              "        3.5147e-04, 0.0000e+00, 4.9868e-05, 7.4180e-05, 5.6490e-03, 5.7263e-04,\n",
              "        0.0000e+00, 0.0000e+00, 1.1291e-04, 0.0000e+00, 2.2150e-03, 7.8281e-03,\n",
              "        2.4815e-05, 2.8473e-04, 1.2754e-02, 4.4763e-02, 0.0000e+00, 0.0000e+00,\n",
              "        2.4568e-03, 4.6416e-03, 0.0000e+00, 0.0000e+00, 4.7686e-03, 3.6671e-02,\n",
              "        2.6854e-02, 7.9371e-03, 6.7081e-03, 1.2568e-03, 6.8673e-03, 1.9723e-04,\n",
              "        0.0000e+00, 3.1175e-04, 0.0000e+00, 0.0000e+00, 1.2931e-04, 1.8426e-05,\n",
              "        1.9201e-03, 1.6513e-03, 6.3721e-05, 8.1324e-05, 1.6832e-02, 9.0361e-03,\n",
              "        1.0912e-02, 1.9419e-02, 2.2643e-03, 0.0000e+00, 3.1986e-02, 2.1538e-02,\n",
              "        6.7686e-04, 8.4877e-03, 3.0195e-02, 8.5607e-03, 7.2041e-03, 6.1178e-02,\n",
              "        8.4217e-05, 2.1139e-02, 0.0000e+00, 3.9276e-03, 2.6603e-03, 5.3250e-03,\n",
              "        2.3487e-02, 1.2592e-02, 5.0411e-02, 1.2642e-02, 2.8847e-03, 0.0000e+00,\n",
              "        5.0853e-02, 0.0000e+00, 9.3391e-03, 7.2119e-05, 1.2207e-02, 2.0491e-02,\n",
              "        3.0154e-02, 6.8904e-03, 0.0000e+00, 1.8262e-02, 3.5110e-04, 0.0000e+00,\n",
              "        2.3136e-03, 1.5828e-02, 0.0000e+00, 9.6722e-03, 1.5521e-05, 8.9839e-03,\n",
              "        0.0000e+00, 0.0000e+00, 1.4685e-02, 1.5848e-03, 2.0710e-02, 2.0045e-04,\n",
              "        8.0522e-03, 2.4986e-05, 0.0000e+00, 8.3552e-04, 0.0000e+00, 1.6188e-02,\n",
              "        3.7484e-03, 8.3799e-05], device='cuda:0')"
            ]
          },
          "execution_count": 60,
          "metadata": {},
          "output_type": "execute_result"
        }
      ],
      "source": [
        "list(X)[0]"
      ]
    },
    {
      "cell_type": "code",
      "execution_count": null,
      "metadata": {
        "colab": {
          "base_uri": "https://localhost:8080/"
        },
        "id": "_zuqds2qNO6N",
        "outputId": "39a47b3d-e975-4a7a-e796-c8548e38b114"
      },
      "outputs": [
        {
          "name": "stderr",
          "output_type": "stream",
          "text": [
            ""
          ]
        },
        {
          "name": "stdout",
          "output_type": "stream",
          "text": [
            "AUC: 0.9347770498132866\n"
          ]
        }
      ],
      "source": [
        "# We use cosine similarity between feature embeddings.\n",
        "# TODO: Find the relevant function in pytorch and read its documentation.\n",
        "# similarity_metric = \n",
        "\n",
        "similarity_metric = nn.CosineSimilarity(dim=0)\n",
        "\n",
        "val_veri_csv = osp.join(DATA_DIR, \"verification/verification/verification_dev.csv\")\n",
        "\n",
        "#feats_dict = feats_dict.cpu()\n",
        "\n",
        "# Now, loop through the csv and compare each pair, getting the similarity between them\n",
        "pred_similarities = []\n",
        "gt_similarities = []\n",
        "for line in tqdm(open(val_veri_csv).read().splitlines()[1:], position=0, leave=False): # skip header\n",
        "    img_path1, img_path2, gt = line.split(\",\")\n",
        "\n",
        "    # TODO: Use the similarity metric\n",
        "    # How to use these img_paths? What to do with the features?\n",
        "    # similarity = similarity_metric(...)\n",
        "    #res1=-3\n",
        "    #res2=-3\n",
        "    \n",
        "    #for batch_idx in range(0,len(feats_dict.values())):\n",
        "       # Feature img_path1\n",
        "     #  for keys in list(feats_dict[batch_idx].keys()):\n",
        "      #   if keys == img_path1:\n",
        "       #    X = feats_dict[batch_idx].get(keys)\n",
        "        #   torch.as_tensor(X)\n",
        "         #  print('1')\n",
        "         #if keys == img_path2:\n",
        "         #  Y = feats_dict[batch_idx].get(keys)\n",
        "         # torch.as_tensor(Y)\n",
        "         #  print('2')  \n",
        "    #similarity = similarity_metric(X.cpu(),Y.cpu())\n",
        "    #similarity = torch.cdist(feats_dict[img_path1].cpu(),feats_dict[img_path2].cpu()) \n",
        "\n",
        "      #res1 = [idx for idx, key in enumerate(list(feats_dict[batch_idx].items())) if key[0] == img_path1 ]\n",
        "      #res2 = [idx for idx, key in enumerate(list(feats_dict[batch_idx].items())) if key[0] == img_path2 ]\n",
        "\n",
        "      #if res1!=-3 or res2!=-3:\n",
        "    \n",
        "    #for batch_idx in range(0,len(feats_dict.values())): \n",
        "    #  for keys in list(feats_dict.keys()):\n",
        "    #     if (keys[1] == img_path1):   \n",
        "    #        Z1 = feats_dict[keys]\n",
        "\n",
        "    #for batch_idx in range(0,len(feats_dict.values())): \n",
        "    #  for keys in list(feats_dict.keys()):\n",
        "    #     if keys[1] == img_path2:   \n",
        "    #        Z2 = feats_dict[keys]       \n",
        "    #print(Z1)\n",
        "    #print(Z2)     \n",
        "    #Z1 = list(Z1)   \n",
        "    #Z2 = list(Z2)          \n",
        "    \n",
        "    similarity = similarity_metric(feats_dict[img_path1].cpu(),feats_dict[img_path2].cpu())\n",
        "\n",
        "    #similarity = similarity_metric(feats_dict[batch_idx][i][j])\n",
        "    pred_similarities.append(similarity)\n",
        "    gt_similarities.append(int(gt))\n",
        "\n",
        "t_cpu = pred_similarities\n",
        "#horizontal_translation_numpy = pred_similarities.cpu()\n",
        "#print(pred_similarities[1:3])\n",
        "pred_similarities = np.array(t_cpu)\n",
        "gt_similarities = np.array(gt_similarities)\n",
        "\n",
        "print(\"AUC:\", roc_auc_score(gt_similarities, pred_similarities))"
      ]
    },
    {
      "cell_type": "markdown",
      "metadata": {
        "id": "sakRa8oZOlKr"
      },
      "source": [
        "# Verification Task: Submit to Kaggle"
      ]
    },
    {
      "cell_type": "code",
      "execution_count": null,
      "metadata": {
        "id": "oDK3knDcOrOE"
      },
      "outputs": [],
      "source": [
        "test_veri_dataset = VerificationDataset(osp.join(DATA_DIR, \"verification/verification/test\"),\n",
        "                                        ttf.Compose(val_transforms))\n",
        "test_ver_loader = torch.utils.data.DataLoader(test_veri_dataset, batch_size=batch_size, \n",
        "                                              shuffle=False, num_workers=1)"
      ]
    },
    {
      "cell_type": "code",
      "execution_count": null,
      "metadata": {
        "colab": {
          "base_uri": "https://localhost:8080/"
        },
        "id": "r90GsPPhQbF0",
        "outputId": "8a269f35-9431-4fd2-f138-80c235aa059d"
      },
      "outputs": [
        {
          "data": {
            "text/plain": [
              "<All keys matched successfully>"
            ]
          },
          "execution_count": 28,
          "metadata": {},
          "output_type": "execute_result"
        }
      ],
      "source": [
        "model.load_state_dict(torch.load('model_epoch_42.pth'))"
      ]
    },
    {
      "cell_type": "code",
      "execution_count": null,
      "metadata": {
        "colab": {
          "base_uri": "https://localhost:8080/"
        },
        "id": "igeRT3WxOrB_",
        "outputId": "43e56f68-2028-4dd4-9c10-30faecd501ec"
      },
      "outputs": [
        {
          "name": "stderr",
          "output_type": "stream",
          "text": [
            ""
          ]
        }
      ],
      "source": [
        "model.eval()\n",
        "\n",
        "feats_dict = dict()\n",
        "for batch_idx, (imgs, path_names) in tqdm(enumerate(test_ver_loader), total=len(test_ver_loader), position=0, leave=False):\n",
        "    imgs = imgs.cuda()\n",
        "\n",
        "    with torch.no_grad():\n",
        "        # Note that we return the feats here, not the final outputs\n",
        "        # Feel free to try to final outputs too!\n",
        "        feats = model(imgs) \n",
        "       \n",
        "    i=0\n",
        "    # TODO: Now we have features and the image path names. What to do with them?\n",
        "    for pathnames in path_names:      \n",
        "          X = osp.join(\"test/\",pathnames)   \n",
        "          feats_dict[X]= feats[i]\n",
        "          i=i+1\n",
        "    # Hint: use the feats_dict somehow."
      ]
    },
    {
      "cell_type": "code",
      "execution_count": null,
      "metadata": {
        "colab": {
          "base_uri": "https://localhost:8080/"
        },
        "id": "X4OZL_FNOq1r",
        "outputId": "0cdf3a0f-fd9d-4b4f-ee72-44a321d5739c"
      },
      "outputs": [
        {
          "name": "stderr",
          "output_type": "stream",
          "text": [
            ""
          ]
        }
      ],
      "source": [
        "# We use cosine similarity between feature embeddings.\n",
        "# TODO: Find the relevant function in pytorch and read its documentation.\n",
        "# similarity_metric = \n",
        "val_veri_csv = osp.join(DATA_DIR, \"verification/verification/verification_test.csv\")\n",
        "\n",
        "similarity_metric = nn.CosineSimilarity(dim=0)\n",
        "\n",
        "# Now, loop through the csv and compare each pair, getting the similarity between them\n",
        "pred_similarities = []\n",
        "for line in tqdm(open(val_veri_csv).read().splitlines()[1:], position=0, leave=False): # skip header\n",
        "    img_path1, img_path2 = line.split(\",\")\n",
        "\n",
        "    # TODO: Finish up verification testing.\n",
        "    similarity = similarity_metric(feats_dict[img_path1].cpu(),feats_dict[img_path2].cpu())\n",
        "\n",
        "    pred_similarities.append(similarity)\n",
        "    \n",
        "    # How to use these img_paths? What to do with the features?\n",
        "t_cpu = pred_similarities\n",
        "#horizontal_translation_numpy = pred_similarities.cpu()\n",
        "#print(pred_similarities[1:3])\n",
        "pred_similarities = np.array(t_cpu)"
      ]
    },
    {
      "cell_type": "code",
      "execution_count": null,
      "metadata": {
        "colab": {
          "base_uri": "https://localhost:8080/"
        },
        "id": "0BHesePRAjCk",
        "outputId": "9514360c-70a6-4837-92de-0a36ccd1b3c1"
      },
      "outputs": [
        {
          "data": {
            "text/plain": [
              "667600"
            ]
          },
          "execution_count": 27,
          "metadata": {},
          "output_type": "execute_result"
        }
      ],
      "source": [
        "len(pred_similarities)"
      ]
    },
    {
      "cell_type": "code",
      "execution_count": null,
      "metadata": {
        "id": "fYXiglWkPBDv"
      },
      "outputs": [],
      "source": [
        "with open(\"verification_submission.csv\", \"w+\") as f:\n",
        "    f.write(\"id,match\\n\")\n",
        "    for i in range(len(pred_similarities)):\n",
        "        f.write(\"{},{}\\n\".format(i, pred_similarities[i]))"
      ]
    },
    {
      "cell_type": "code",
      "execution_count": null,
      "metadata": {
        "colab": {
          "base_uri": "https://localhost:8080/"
        },
        "id": "P5zB7P8O687N",
        "outputId": "8580379c-3411-4009-d2a4-33a085f068e6"
      },
      "outputs": [
        {
          "name": "stdout",
          "output_type": "stream",
          "text": [
            "Warning: Looks like you're using an outdated API Version, please consider updating (server 1.5.12 / client 1.5.8)\n",
            "100% 17.2M/17.2M [00:04<00:00, 4.28MB/s]\n",
            "Successfully submitted to Face Verification"
          ]
        }
      ],
      "source": [
        "!kaggle competitions submit -c 11-785-s22-hw2p2-verification -f verification_submission.csv -m New_Submission"
      ]
    },
    {
      "cell_type": "markdown",
      "metadata": {
        "id": "ALiq9PTl7KwY"
      },
      "source": [
        "# Extras"
      ]
    },
    {
      "cell_type": "code",
      "execution_count": null,
      "metadata": {
        "colab": {
          "base_uri": "https://localhost:8080/"
        },
        "id": "OuAsK_tKhzH9",
        "outputId": "d02bf774-8fed-47f6-80f1-f600018fe88e"
      },
      "outputs": [
        {
          "name": "stdout",
          "output_type": "stream",
          "text": [
            "Fri Feb 18 07:47:10 2022       \n",
            "+-----------------------------------------------------------------------------+\n",
            "| NVIDIA-SMI 460.32.03    Driver Version: 460.32.03    CUDA Version: 11.2     |\n",
            "|-------------------------------+----------------------+----------------------+\n",
            "| GPU  Name        Persistence-M| Bus-Id        Disp.A | Volatile Uncorr. ECC |\n",
            "| Fan  Temp  Perf  Pwr:Usage/Cap|         Memory-Usage | GPU-Util  Compute M. |\n",
            "|                               |                      |               MIG M. |\n",
            "|===============================+======================+======================|\n",
            "|   0  Tesla P100-PCIE...  Off  | 00000000:00:04.0 Off |                    0 |\n",
            "| N/A   37C    P0    32W / 250W |   2951MiB / 16280MiB |      3%      Default |\n",
            "|                               |                      |                  N/A |\n",
            "+-------------------------------+----------------------+----------------------+\n",
            "                                                                               \n",
            "+-----------------------------------------------------------------------------+\n",
            "| Processes:                                                                  |\n",
            "|  GPU   GI   CI        PID   Type   Process name                  GPU Memory |\n",
            "|        ID   ID                                                   Usage      |\n",
            "|=============================================================================|\n",
            "+-----------------------------------------------------------------------------+\n"
          ]
        }
      ],
      "source": [
        "# If you keep re-initializing your model in Colab, can run out of GPU memory, need to restart.\n",
        "# These three lines can help that - run this before you re-initialize your model\n",
        "\n",
        "del model\n",
        "torch.cuda.empty_cache()\n",
        "!nvidia-smi"
      ]
    },
    {
      "cell_type": "code",
      "source": [
        "model.load_state_dict(torch.load('model_epoch_42.pth')['model_state_dict'])\n",
        "optimizer.load_state_dict(torch.load('model_epoch_42.pth')['optimizer_state_dict'])"
      ],
      "metadata": {
        "id": "dz9MEXnxUYsn"
      },
      "execution_count": null,
      "outputs": []
    },
    {
      "cell_type": "code",
      "source": [
        "model.load_state_dict(torch.load('model_epoch_42.pth')['model_state_dict'])\n",
        "optimizer.load_state_dict(torch.load('model_epoch_42.pth')['optimizer_state_dict'])"
      ],
      "metadata": {
        "id": "utZcGNeMUnV3"
      },
      "execution_count": null,
      "outputs": []
    },
    {
      "cell_type": "code",
      "source": [
        ""
      ],
      "metadata": {
        "id": "iW9aDc01zg4m"
      },
      "execution_count": null,
      "outputs": []
    },
    {
      "cell_type": "code",
      "source": [
        "9"
      ],
      "metadata": {
        "id": "_vDlMMqY_wko"
      },
      "execution_count": null,
      "outputs": []
    },
    {
      "cell_type": "code",
      "source": [
        "save_checkpoint = torch.load(\"/content/drive/MyDrive/model_epoch_9.pth\")"
      ],
      "metadata": {
        "id": "EKtKwonJ__OB"
      },
      "execution_count": null,
      "outputs": []
    },
    {
      "cell_type": "code",
      "source": [
        ""
      ],
      "metadata": {
        "id": "-a_h1YZyNz4i"
      },
      "execution_count": null,
      "outputs": []
    },
    {
      "cell_type": "code",
      "source": [
        ""
      ],
      "metadata": {
        "id": "jln1YtSiAN3q"
      },
      "execution_count": null,
      "outputs": []
    },
    {
      "cell_type": "code",
      "source": [
        ""
      ],
      "metadata": {
        "id": "cA0lb5xlAchI"
      },
      "execution_count": null,
      "outputs": []
    },
    {
      "cell_type": "code",
      "source": [
        ""
      ],
      "metadata": {
        "id": "6jzozU1EArKp"
      },
      "execution_count": null,
      "outputs": []
    },
    {
      "cell_type": "code",
      "source": [
        ""
      ],
      "metadata": {
        "id": "UgZy4SyxA-su"
      },
      "execution_count": null,
      "outputs": []
    },
    {
      "cell_type": "code",
      "source": [
        ""
      ],
      "metadata": {
        "id": "Uad3NUmZBNWV"
      },
      "execution_count": null,
      "outputs": []
    },
    {
      "cell_type": "code",
      "source": [
        ""
      ],
      "metadata": {
        "id": "Od9c15WxBb_m"
      },
      "execution_count": null,
      "outputs": []
    },
    {
      "cell_type": "code",
      "source": [
        ""
      ],
      "metadata": {
        "id": "vZ_PaI9FBqpS"
      },
      "execution_count": null,
      "outputs": []
    },
    {
      "cell_type": "code",
      "source": [
        ""
      ],
      "metadata": {
        "id": "3lEwJZL7B5Sz"
      },
      "execution_count": null,
      "outputs": []
    },
    {
      "cell_type": "code",
      "source": [
        ""
      ],
      "metadata": {
        "id": "kCKOwasHCFGI"
      },
      "execution_count": null,
      "outputs": []
    },
    {
      "cell_type": "code",
      "source": [
        ""
      ],
      "metadata": {
        "id": "CTuUkmRmCRqV"
      },
      "execution_count": null,
      "outputs": []
    },
    {
      "cell_type": "code",
      "source": [
        ""
      ],
      "metadata": {
        "id": "58pd5CyDCgUB"
      },
      "execution_count": null,
      "outputs": []
    },
    {
      "cell_type": "code",
      "source": [
        ""
      ],
      "metadata": {
        "id": "JSOLcVhYCu9W"
      },
      "execution_count": null,
      "outputs": []
    },
    {
      "cell_type": "code",
      "source": [
        ""
      ],
      "metadata": {
        "id": "pgAIziAzC9m9"
      },
      "execution_count": null,
      "outputs": []
    },
    {
      "cell_type": "code",
      "source": [
        ""
      ],
      "metadata": {
        "id": "sZ6C88DUDMQc"
      },
      "execution_count": null,
      "outputs": []
    },
    {
      "cell_type": "code",
      "source": [
        ""
      ],
      "metadata": {
        "id": "HO9Ey5-oDa6D"
      },
      "execution_count": null,
      "outputs": []
    },
    {
      "cell_type": "code",
      "source": [
        ""
      ],
      "metadata": {
        "id": "YYhyIqCmDpjd"
      },
      "execution_count": null,
      "outputs": []
    },
    {
      "cell_type": "code",
      "source": [
        ""
      ],
      "metadata": {
        "id": "w9paCWboD4My"
      },
      "execution_count": null,
      "outputs": []
    },
    {
      "cell_type": "code",
      "source": [
        ""
      ],
      "metadata": {
        "id": "bu5lQc6BEG2V"
      },
      "execution_count": null,
      "outputs": []
    },
    {
      "cell_type": "code",
      "source": [
        ""
      ],
      "metadata": {
        "id": "Y6gmQ4CzEVf5"
      },
      "execution_count": null,
      "outputs": []
    },
    {
      "cell_type": "code",
      "source": [
        ""
      ],
      "metadata": {
        "id": "tKavsRYgEkJd"
      },
      "execution_count": null,
      "outputs": []
    },
    {
      "cell_type": "code",
      "source": [
        ""
      ],
      "metadata": {
        "id": "Lvdhpr0TEyy2"
      },
      "execution_count": null,
      "outputs": []
    },
    {
      "cell_type": "code",
      "source": [
        ""
      ],
      "metadata": {
        "id": "8jHNlmLCFBcb"
      },
      "execution_count": null,
      "outputs": []
    },
    {
      "cell_type": "code",
      "source": [
        ""
      ],
      "metadata": {
        "id": "xhl3eaiTFQF2"
      },
      "execution_count": null,
      "outputs": []
    },
    {
      "cell_type": "code",
      "source": [
        ""
      ],
      "metadata": {
        "id": "DQIM1sMnFeve"
      },
      "execution_count": null,
      "outputs": []
    },
    {
      "cell_type": "code",
      "source": [
        ""
      ],
      "metadata": {
        "id": "y_emdi3iFtYz"
      },
      "execution_count": null,
      "outputs": []
    },
    {
      "cell_type": "code",
      "source": [
        ""
      ],
      "metadata": {
        "id": "V6pZFweHF8CS"
      },
      "execution_count": null,
      "outputs": []
    },
    {
      "cell_type": "code",
      "source": [
        ""
      ],
      "metadata": {
        "id": "8PbL6xnlGKr9"
      },
      "execution_count": null,
      "outputs": []
    },
    {
      "cell_type": "code",
      "source": [
        ""
      ],
      "metadata": {
        "id": "9tzXp2GaGZVT"
      },
      "execution_count": null,
      "outputs": []
    },
    {
      "cell_type": "code",
      "source": [
        ""
      ],
      "metadata": {
        "id": "FzBP5yivGn-z"
      },
      "execution_count": null,
      "outputs": []
    },
    {
      "cell_type": "code",
      "source": [
        ""
      ],
      "metadata": {
        "id": "0KC8nOxwG2pA"
      },
      "execution_count": null,
      "outputs": []
    },
    {
      "cell_type": "code",
      "source": [
        ""
      ],
      "metadata": {
        "id": "Uc5Dfa0gHFSE"
      },
      "execution_count": null,
      "outputs": []
    },
    {
      "cell_type": "code",
      "source": [
        ""
      ],
      "metadata": {
        "id": "FWwJFsM1HT7R"
      },
      "execution_count": null,
      "outputs": []
    },
    {
      "cell_type": "code",
      "source": [
        ""
      ],
      "metadata": {
        "id": "KxjPYm2nHikz"
      },
      "execution_count": null,
      "outputs": []
    },
    {
      "cell_type": "code",
      "source": [
        ""
      ],
      "metadata": {
        "id": "zrDnMOqXHxOk"
      },
      "execution_count": null,
      "outputs": []
    },
    {
      "cell_type": "code",
      "source": [
        ""
      ],
      "metadata": {
        "id": "5njA_0a7H_30"
      },
      "execution_count": null,
      "outputs": []
    },
    {
      "cell_type": "code",
      "source": [
        ""
      ],
      "metadata": {
        "id": "eqHfyirmIOhS"
      },
      "execution_count": null,
      "outputs": []
    },
    {
      "cell_type": "code",
      "source": [
        ""
      ],
      "metadata": {
        "id": "ZfnSfu6rIdK0"
      },
      "execution_count": null,
      "outputs": []
    },
    {
      "cell_type": "code",
      "source": [
        ""
      ],
      "metadata": {
        "id": "G8gCPGX7Ir0g"
      },
      "execution_count": null,
      "outputs": []
    },
    {
      "cell_type": "code",
      "source": [
        ""
      ],
      "metadata": {
        "id": "UIaGga1UI6dy"
      },
      "execution_count": null,
      "outputs": []
    },
    {
      "cell_type": "code",
      "source": [
        ""
      ],
      "metadata": {
        "id": "q2fUoi7xJJHT"
      },
      "execution_count": null,
      "outputs": []
    },
    {
      "cell_type": "code",
      "source": [
        ""
      ],
      "metadata": {
        "id": "2Nvft3Z0JXw9"
      },
      "execution_count": null,
      "outputs": []
    },
    {
      "cell_type": "code",
      "source": [
        ""
      ],
      "metadata": {
        "id": "7A-imwz4JmdJ"
      },
      "execution_count": null,
      "outputs": []
    },
    {
      "cell_type": "code",
      "source": [
        ""
      ],
      "metadata": {
        "id": "AjqSbeGIJ1Gp"
      },
      "execution_count": null,
      "outputs": []
    },
    {
      "cell_type": "code",
      "source": [
        ""
      ],
      "metadata": {
        "id": "JQ1Z95UhKDwF"
      },
      "execution_count": null,
      "outputs": []
    },
    {
      "cell_type": "code",
      "source": [
        ""
      ],
      "metadata": {
        "id": "3PAxgTeOKSZx"
      },
      "execution_count": null,
      "outputs": []
    },
    {
      "cell_type": "code",
      "source": [
        ""
      ],
      "metadata": {
        "id": "iZ2gnu-DKhDP"
      },
      "execution_count": null,
      "outputs": []
    },
    {
      "cell_type": "code",
      "source": [
        ""
      ],
      "metadata": {
        "id": "7XZRWj_PK0la"
      },
      "execution_count": null,
      "outputs": []
    },
    {
      "cell_type": "code",
      "source": [
        ""
      ],
      "metadata": {
        "id": "SqiMsXU3LDOm"
      },
      "execution_count": null,
      "outputs": []
    },
    {
      "cell_type": "code",
      "source": [
        ""
      ],
      "metadata": {
        "id": "oqQKZEjGLR4F"
      },
      "execution_count": null,
      "outputs": []
    },
    {
      "cell_type": "code",
      "source": [
        ""
      ],
      "metadata": {
        "id": "1h1BIvgbLghu"
      },
      "execution_count": null,
      "outputs": []
    },
    {
      "cell_type": "code",
      "source": [
        ""
      ],
      "metadata": {
        "id": "BOzPi0EgLvLO"
      },
      "execution_count": null,
      "outputs": []
    },
    {
      "cell_type": "code",
      "source": [
        ""
      ],
      "metadata": {
        "id": "dqKCDHMiL90j"
      },
      "execution_count": null,
      "outputs": []
    },
    {
      "cell_type": "code",
      "source": [
        ""
      ],
      "metadata": {
        "id": "laRz27rHMMeL"
      },
      "execution_count": null,
      "outputs": []
    },
    {
      "cell_type": "code",
      "source": [
        ""
      ],
      "metadata": {
        "id": "PIyKhGl0MbHv"
      },
      "execution_count": null,
      "outputs": []
    },
    {
      "cell_type": "code",
      "source": [
        ""
      ],
      "metadata": {
        "id": "QmdjHkPcMpxI"
      },
      "execution_count": null,
      "outputs": []
    },
    {
      "cell_type": "code",
      "source": [
        ""
      ],
      "metadata": {
        "id": "zpOkFgocM4ao"
      },
      "execution_count": null,
      "outputs": []
    },
    {
      "cell_type": "code",
      "source": [
        ""
      ],
      "metadata": {
        "id": "6qaBaEqQNHEH"
      },
      "execution_count": null,
      "outputs": []
    },
    {
      "cell_type": "code",
      "source": [
        ""
      ],
      "metadata": {
        "id": "ais_m4VANVtl"
      },
      "execution_count": null,
      "outputs": []
    },
    {
      "cell_type": "code",
      "source": [
        ""
      ],
      "metadata": {
        "id": "arEIOCR1NkXJ"
      },
      "execution_count": null,
      "outputs": []
    },
    {
      "cell_type": "code",
      "source": [
        ""
      ],
      "metadata": {
        "id": "taXx_jYbNzAs"
      },
      "execution_count": null,
      "outputs": []
    },
    {
      "cell_type": "code",
      "source": [
        ""
      ],
      "metadata": {
        "id": "qkkEUqq5OBqA"
      },
      "execution_count": null,
      "outputs": []
    },
    {
      "cell_type": "code",
      "source": [
        ""
      ],
      "metadata": {
        "id": "Q6yyBG6yOQTx"
      },
      "execution_count": null,
      "outputs": []
    },
    {
      "cell_type": "code",
      "source": [
        ""
      ],
      "metadata": {
        "id": "bKU0RlYvOe9J"
      },
      "execution_count": null,
      "outputs": []
    },
    {
      "cell_type": "code",
      "source": [
        ""
      ],
      "metadata": {
        "id": "jH7OsQ_6Otmn"
      },
      "execution_count": null,
      "outputs": []
    },
    {
      "cell_type": "code",
      "source": [
        ""
      ],
      "metadata": {
        "id": "ZsU0tJp4O8QN"
      },
      "execution_count": null,
      "outputs": []
    },
    {
      "cell_type": "code",
      "source": [
        ""
      ],
      "metadata": {
        "id": "xcFsH3PuPK5x"
      },
      "execution_count": null,
      "outputs": []
    },
    {
      "cell_type": "code",
      "source": [
        ""
      ],
      "metadata": {
        "id": "dhsnSGRzPZjR"
      },
      "execution_count": null,
      "outputs": []
    },
    {
      "cell_type": "code",
      "source": [
        ""
      ],
      "metadata": {
        "id": "Qmg_xaZGPoMk"
      },
      "execution_count": null,
      "outputs": []
    },
    {
      "cell_type": "code",
      "source": [
        ""
      ],
      "metadata": {
        "id": "siTM5jyZP22Y"
      },
      "execution_count": null,
      "outputs": []
    },
    {
      "cell_type": "code",
      "source": [
        ""
      ],
      "metadata": {
        "id": "pZM8yuPEQFfw"
      },
      "execution_count": null,
      "outputs": []
    },
    {
      "cell_type": "code",
      "source": [
        ""
      ],
      "metadata": {
        "id": "G5F0q8f3QUJO"
      },
      "execution_count": null,
      "outputs": []
    },
    {
      "cell_type": "code",
      "source": [
        ""
      ],
      "metadata": {
        "id": "kcAfq1rQQiyj"
      },
      "execution_count": null,
      "outputs": []
    },
    {
      "cell_type": "code",
      "source": [
        ""
      ],
      "metadata": {
        "id": "z-FmelqPQxcH"
      },
      "execution_count": null,
      "outputs": []
    },
    {
      "cell_type": "code",
      "source": [
        ""
      ],
      "metadata": {
        "id": "oCit-_eXRAFx"
      },
      "execution_count": null,
      "outputs": []
    },
    {
      "cell_type": "code",
      "source": [
        ""
      ],
      "metadata": {
        "id": "1BYrjk1JROvN"
      },
      "execution_count": null,
      "outputs": []
    },
    {
      "cell_type": "code",
      "source": [
        ""
      ],
      "metadata": {
        "id": "MMcjUIWSRdYt"
      },
      "execution_count": null,
      "outputs": []
    },
    {
      "cell_type": "code",
      "source": [
        ""
      ],
      "metadata": {
        "id": "UsN6FRhBRsCG"
      },
      "execution_count": null,
      "outputs": []
    },
    {
      "cell_type": "code",
      "source": [
        ""
      ],
      "metadata": {
        "id": "xW56u1npR6rv"
      },
      "execution_count": null,
      "outputs": []
    },
    {
      "cell_type": "code",
      "source": [
        ""
      ],
      "metadata": {
        "id": "TrWVPezTSJVE"
      },
      "execution_count": null,
      "outputs": []
    },
    {
      "cell_type": "code",
      "source": [
        ""
      ],
      "metadata": {
        "id": "0fp-zKRkSX-k"
      },
      "execution_count": null,
      "outputs": []
    },
    {
      "cell_type": "code",
      "source": [
        ""
      ],
      "metadata": {
        "id": "XuXBSFPISmoL"
      },
      "execution_count": null,
      "outputs": []
    },
    {
      "cell_type": "code",
      "source": [
        ""
      ],
      "metadata": {
        "id": "ElavtyBkS1Rw"
      },
      "execution_count": null,
      "outputs": []
    },
    {
      "cell_type": "code",
      "source": [
        ""
      ],
      "metadata": {
        "id": "Td6GTH8LTD7G"
      },
      "execution_count": null,
      "outputs": []
    },
    {
      "cell_type": "code",
      "source": [
        ""
      ],
      "metadata": {
        "id": "04orAJRYTSkk"
      },
      "execution_count": null,
      "outputs": []
    },
    {
      "cell_type": "code",
      "source": [
        ""
      ],
      "metadata": {
        "id": "06H2qgYBThOR"
      },
      "execution_count": null,
      "outputs": []
    },
    {
      "cell_type": "code",
      "source": [
        ""
      ],
      "metadata": {
        "id": "DSKCqO81Tv3w"
      },
      "execution_count": null,
      "outputs": []
    },
    {
      "cell_type": "code",
      "source": [
        ""
      ],
      "metadata": {
        "id": "ZBqTrOuqT-hL"
      },
      "execution_count": null,
      "outputs": []
    },
    {
      "cell_type": "code",
      "source": [
        ""
      ],
      "metadata": {
        "id": "uxi53Tf_UNKs"
      },
      "execution_count": null,
      "outputs": []
    },
    {
      "cell_type": "code",
      "source": [
        ""
      ],
      "metadata": {
        "id": "e-na8HW2Ub0K"
      },
      "execution_count": null,
      "outputs": []
    },
    {
      "cell_type": "code",
      "source": [
        ""
      ],
      "metadata": {
        "id": "XwZbkjDtUqdl"
      },
      "execution_count": null,
      "outputs": []
    },
    {
      "cell_type": "code",
      "source": [
        ""
      ],
      "metadata": {
        "id": "lGJl-p43U5HG"
      },
      "execution_count": null,
      "outputs": []
    },
    {
      "cell_type": "code",
      "source": [
        ""
      ],
      "metadata": {
        "id": "A1TE3t18VHw5"
      },
      "execution_count": null,
      "outputs": []
    },
    {
      "cell_type": "code",
      "source": [
        ""
      ],
      "metadata": {
        "id": "8_Dql30CVWaI"
      },
      "execution_count": null,
      "outputs": []
    },
    {
      "cell_type": "code",
      "source": [
        ""
      ],
      "metadata": {
        "id": "lGqcOSYxVlDt"
      },
      "execution_count": null,
      "outputs": []
    },
    {
      "cell_type": "code",
      "source": [
        ""
      ],
      "metadata": {
        "id": "EbwifM6bVztQ"
      },
      "execution_count": null,
      "outputs": []
    },
    {
      "cell_type": "code",
      "source": [
        ""
      ],
      "metadata": {
        "id": "UHcJUCAUWCWh"
      },
      "execution_count": null,
      "outputs": []
    },
    {
      "cell_type": "code",
      "source": [
        ""
      ],
      "metadata": {
        "id": "b3MqB-cFWRAN"
      },
      "execution_count": null,
      "outputs": []
    },
    {
      "cell_type": "code",
      "source": [
        ""
      ],
      "metadata": {
        "id": "aUjkYOr_Wfps"
      },
      "execution_count": null,
      "outputs": []
    },
    {
      "cell_type": "code",
      "source": [
        ""
      ],
      "metadata": {
        "id": "1YMnF6RQWuTF"
      },
      "execution_count": null,
      "outputs": []
    },
    {
      "cell_type": "code",
      "source": [
        ""
      ],
      "metadata": {
        "id": "aveclkKAW88m"
      },
      "execution_count": null,
      "outputs": []
    },
    {
      "cell_type": "code",
      "source": [
        ""
      ],
      "metadata": {
        "id": "Sk9caYuxXLmV"
      },
      "execution_count": null,
      "outputs": []
    },
    {
      "cell_type": "code",
      "source": [
        ""
      ],
      "metadata": {
        "id": "21yykZdAXaPs"
      },
      "execution_count": null,
      "outputs": []
    },
    {
      "cell_type": "code",
      "source": [
        ""
      ],
      "metadata": {
        "id": "gMuvWBl3Xo5M"
      },
      "execution_count": null,
      "outputs": []
    },
    {
      "cell_type": "code",
      "source": [
        ""
      ],
      "metadata": {
        "id": "up7q8-pOX3i5"
      },
      "execution_count": null,
      "outputs": []
    },
    {
      "cell_type": "code",
      "source": [
        ""
      ],
      "metadata": {
        "id": "e3KkvhdLYGML"
      },
      "execution_count": null,
      "outputs": []
    },
    {
      "cell_type": "code",
      "source": [
        ""
      ],
      "metadata": {
        "id": "mrZeOQZPYU1k"
      },
      "execution_count": null,
      "outputs": []
    },
    {
      "cell_type": "code",
      "source": [
        ""
      ],
      "metadata": {
        "id": "Ce7jehcuYjfL"
      },
      "execution_count": null,
      "outputs": []
    },
    {
      "cell_type": "code",
      "source": [
        ""
      ],
      "metadata": {
        "id": "6uDeOcAaYyIu"
      },
      "execution_count": null,
      "outputs": []
    },
    {
      "cell_type": "code",
      "source": [
        ""
      ],
      "metadata": {
        "id": "R0S2eDQ9ZAyP"
      },
      "execution_count": null,
      "outputs": []
    },
    {
      "cell_type": "code",
      "source": [
        ""
      ],
      "metadata": {
        "id": "MTw2h4e8ZPbs"
      },
      "execution_count": null,
      "outputs": []
    },
    {
      "cell_type": "code",
      "source": [
        ""
      ],
      "metadata": {
        "id": "lbAWAIU7ZeFO"
      },
      "execution_count": null,
      "outputs": []
    },
    {
      "cell_type": "code",
      "source": [
        ""
      ],
      "metadata": {
        "id": "9Gvet3sDZsuu"
      },
      "execution_count": null,
      "outputs": []
    },
    {
      "cell_type": "code",
      "source": [
        ""
      ],
      "metadata": {
        "id": "GKRVKsjRZ7YL"
      },
      "execution_count": null,
      "outputs": []
    },
    {
      "cell_type": "code",
      "source": [
        ""
      ],
      "metadata": {
        "id": "YaeIDNHtaKB0"
      },
      "execution_count": null,
      "outputs": []
    },
    {
      "cell_type": "code",
      "source": [
        ""
      ],
      "metadata": {
        "id": "ZHk6GeJBaYrZ"
      },
      "execution_count": null,
      "outputs": []
    },
    {
      "cell_type": "code",
      "source": [
        ""
      ],
      "metadata": {
        "id": "e0_BhOLPanU0"
      },
      "execution_count": null,
      "outputs": []
    },
    {
      "cell_type": "code",
      "source": [
        ""
      ],
      "metadata": {
        "id": "UcKijbOBa1-R"
      },
      "execution_count": null,
      "outputs": []
    },
    {
      "cell_type": "code",
      "source": [
        ""
      ],
      "metadata": {
        "id": "xArxeblIbEn4"
      },
      "execution_count": null,
      "outputs": []
    },
    {
      "cell_type": "code",
      "source": [
        ""
      ],
      "metadata": {
        "id": "bS6kUtE1bTRg"
      },
      "execution_count": null,
      "outputs": []
    },
    {
      "cell_type": "code",
      "source": [
        ""
      ],
      "metadata": {
        "id": "c0VNEAn-bh6e"
      },
      "execution_count": null,
      "outputs": []
    },
    {
      "cell_type": "code",
      "source": [
        ""
      ],
      "metadata": {
        "id": "CzL8y55ZbwkT"
      },
      "execution_count": null,
      "outputs": []
    },
    {
      "cell_type": "code",
      "source": [
        ""
      ],
      "metadata": {
        "id": "7YDXLCddb_Nw"
      },
      "execution_count": null,
      "outputs": []
    },
    {
      "cell_type": "code",
      "source": [
        ""
      ],
      "metadata": {
        "id": "J4vs3pnZcN3D"
      },
      "execution_count": null,
      "outputs": []
    },
    {
      "cell_type": "code",
      "source": [
        ""
      ],
      "metadata": {
        "id": "BWHEd5W2ccgi"
      },
      "execution_count": null,
      "outputs": []
    },
    {
      "cell_type": "code",
      "source": [
        ""
      ],
      "metadata": {
        "id": "XNZj2OZQcrKY"
      },
      "execution_count": null,
      "outputs": []
    },
    {
      "cell_type": "code",
      "source": [
        ""
      ],
      "metadata": {
        "id": "XC1sPvIfc5zn"
      },
      "execution_count": null,
      "outputs": []
    },
    {
      "cell_type": "code",
      "source": [
        ""
      ],
      "metadata": {
        "id": "g1Dd_P62dIdQ"
      },
      "execution_count": null,
      "outputs": []
    },
    {
      "cell_type": "code",
      "source": [
        ""
      ],
      "metadata": {
        "id": "RxMroR_ydXGy"
      },
      "execution_count": null,
      "outputs": []
    },
    {
      "cell_type": "code",
      "source": [
        ""
      ],
      "metadata": {
        "id": "eKzEqg-pdlwP"
      },
      "execution_count": null,
      "outputs": []
    },
    {
      "cell_type": "code",
      "source": [
        ""
      ],
      "metadata": {
        "id": "aTZBWSp_d0Zt"
      },
      "execution_count": null,
      "outputs": []
    },
    {
      "cell_type": "code",
      "source": [
        ""
      ],
      "metadata": {
        "id": "FKG3MpOJeDDX"
      },
      "execution_count": null,
      "outputs": []
    },
    {
      "cell_type": "code",
      "source": [
        ""
      ],
      "metadata": {
        "id": "9A5fIEMGeRsg"
      },
      "execution_count": null,
      "outputs": []
    },
    {
      "cell_type": "code",
      "source": [
        ""
      ],
      "metadata": {
        "id": "1QIIXd1fegWL"
      },
      "execution_count": null,
      "outputs": []
    },
    {
      "cell_type": "code",
      "source": [
        ""
      ],
      "metadata": {
        "id": "0AiT_Dzdeu_p"
      },
      "execution_count": null,
      "outputs": []
    },
    {
      "cell_type": "code",
      "source": [
        ""
      ],
      "metadata": {
        "id": "3yxfc1rje9pP"
      },
      "execution_count": null,
      "outputs": []
    },
    {
      "cell_type": "code",
      "source": [
        ""
      ],
      "metadata": {
        "id": "tmnXk7AQfMSx"
      },
      "execution_count": null,
      "outputs": []
    },
    {
      "cell_type": "code",
      "source": [
        ""
      ],
      "metadata": {
        "id": "lCaLFmAXfa8I"
      },
      "execution_count": null,
      "outputs": []
    },
    {
      "cell_type": "code",
      "source": [
        ""
      ],
      "metadata": {
        "id": "7maSoOhJfpl5"
      },
      "execution_count": null,
      "outputs": []
    },
    {
      "cell_type": "code",
      "source": [
        ""
      ],
      "metadata": {
        "id": "bOPILkzSf4PC"
      },
      "execution_count": null,
      "outputs": []
    },
    {
      "cell_type": "code",
      "source": [
        ""
      ],
      "metadata": {
        "id": "hqwsLkRFgG4o"
      },
      "execution_count": null,
      "outputs": []
    },
    {
      "cell_type": "code",
      "source": [
        ""
      ],
      "metadata": {
        "id": "dRutxnTMgViK"
      },
      "execution_count": null,
      "outputs": []
    },
    {
      "cell_type": "code",
      "source": [
        ""
      ],
      "metadata": {
        "id": "sQ7a625qgkLw"
      },
      "execution_count": null,
      "outputs": []
    },
    {
      "cell_type": "code",
      "source": [
        ""
      ],
      "metadata": {
        "id": "t_aW7ISDgy1J"
      },
      "execution_count": null,
      "outputs": []
    },
    {
      "cell_type": "code",
      "source": [
        ""
      ],
      "metadata": {
        "id": "7PEo56vqhBeo"
      },
      "execution_count": null,
      "outputs": []
    },
    {
      "cell_type": "code",
      "source": [
        ""
      ],
      "metadata": {
        "id": "fYsshxRThQH_"
      },
      "execution_count": null,
      "outputs": []
    },
    {
      "cell_type": "code",
      "source": [
        ""
      ],
      "metadata": {
        "id": "GTGAgyoohexz"
      },
      "execution_count": null,
      "outputs": []
    },
    {
      "cell_type": "code",
      "source": [
        ""
      ],
      "metadata": {
        "id": "oAIlRncahtbF"
      },
      "execution_count": null,
      "outputs": []
    },
    {
      "cell_type": "code",
      "source": [
        ""
      ],
      "metadata": {
        "id": "uz6DSMgth8Ek"
      },
      "execution_count": null,
      "outputs": []
    },
    {
      "cell_type": "code",
      "source": [
        ""
      ],
      "metadata": {
        "id": "vRNW3OrmiKuF"
      },
      "execution_count": null,
      "outputs": []
    },
    {
      "cell_type": "code",
      "source": [
        ""
      ],
      "metadata": {
        "id": "hwPWNm1WiZXg"
      },
      "execution_count": null,
      "outputs": []
    },
    {
      "cell_type": "code",
      "source": [
        ""
      ],
      "metadata": {
        "id": "cT2kfDa6ioBU"
      },
      "execution_count": null,
      "outputs": []
    },
    {
      "cell_type": "code",
      "source": [
        ""
      ],
      "metadata": {
        "id": "j0qyFDJKi2qr"
      },
      "execution_count": null,
      "outputs": []
    },
    {
      "cell_type": "code",
      "source": [
        ""
      ],
      "metadata": {
        "id": "XiOj0XDEjFUL"
      },
      "execution_count": null,
      "outputs": []
    },
    {
      "cell_type": "code",
      "source": [
        ""
      ],
      "metadata": {
        "id": "WiWs7mSmjT9r"
      },
      "execution_count": null,
      "outputs": []
    },
    {
      "cell_type": "code",
      "source": [
        ""
      ],
      "metadata": {
        "id": "lDJ4YRKWjinJ"
      },
      "execution_count": null,
      "outputs": []
    },
    {
      "cell_type": "code",
      "source": [
        ""
      ],
      "metadata": {
        "id": "nPujhfgrjxQn"
      },
      "execution_count": null,
      "outputs": []
    },
    {
      "cell_type": "code",
      "source": [
        ""
      ],
      "metadata": {
        "id": "OTsqPtPej_6L"
      },
      "execution_count": null,
      "outputs": []
    },
    {
      "cell_type": "code",
      "source": [
        ""
      ],
      "metadata": {
        "id": "ZByy5qsekOje"
      },
      "execution_count": null,
      "outputs": []
    },
    {
      "cell_type": "code",
      "source": [
        ""
      ],
      "metadata": {
        "id": "_yQHcLFvkdM_"
      },
      "execution_count": null,
      "outputs": []
    },
    {
      "cell_type": "code",
      "source": [
        ""
      ],
      "metadata": {
        "id": "6bgfX7KOkr24"
      },
      "execution_count": null,
      "outputs": []
    },
    {
      "cell_type": "code",
      "source": [
        ""
      ],
      "metadata": {
        "id": "Vnbx8r1hMYXs"
      },
      "execution_count": null,
      "outputs": []
    },
    {
      "cell_type": "code",
      "source": [
        ""
      ],
      "metadata": {
        "id": "hx0xD3aOMbvb"
      },
      "execution_count": null,
      "outputs": []
    },
    {
      "cell_type": "code",
      "source": [
        ""
      ],
      "metadata": {
        "id": "418-Sl80q-rk"
      },
      "execution_count": null,
      "outputs": []
    },
    {
      "cell_type": "code",
      "source": [
        ""
      ],
      "metadata": {
        "id": "TW-i1UPxrNUp"
      },
      "execution_count": null,
      "outputs": []
    },
    {
      "cell_type": "code",
      "source": [
        ""
      ],
      "metadata": {
        "id": "v328HNK7rb-d"
      },
      "execution_count": null,
      "outputs": []
    },
    {
      "cell_type": "code",
      "source": [
        ""
      ],
      "metadata": {
        "id": "rRJ7yCIYrqn8"
      },
      "execution_count": null,
      "outputs": []
    },
    {
      "cell_type": "code",
      "source": [
        ""
      ],
      "metadata": {
        "id": "g79Byy5xr5RM"
      },
      "execution_count": null,
      "outputs": []
    },
    {
      "cell_type": "code",
      "source": [
        ""
      ],
      "metadata": {
        "id": "M145qh-csH6x"
      },
      "execution_count": null,
      "outputs": []
    },
    {
      "cell_type": "code",
      "source": [
        ""
      ],
      "metadata": {
        "id": "q0onc33IsWkZ"
      },
      "execution_count": null,
      "outputs": []
    },
    {
      "cell_type": "code",
      "source": [
        ""
      ],
      "metadata": {
        "id": "7wQrmxqAslNq"
      },
      "execution_count": null,
      "outputs": []
    },
    {
      "cell_type": "code",
      "source": [
        ""
      ],
      "metadata": {
        "id": "_rFPXqZesz3a"
      },
      "execution_count": null,
      "outputs": []
    },
    {
      "cell_type": "code",
      "source": [
        ""
      ],
      "metadata": {
        "id": "STGwpY2StCgn"
      },
      "execution_count": null,
      "outputs": []
    },
    {
      "cell_type": "code",
      "source": [
        ""
      ],
      "metadata": {
        "id": "mSDAuQtutRKS"
      },
      "execution_count": null,
      "outputs": []
    },
    {
      "cell_type": "code",
      "source": [
        ""
      ],
      "metadata": {
        "id": "nQteHjg5tfzx"
      },
      "execution_count": null,
      "outputs": []
    },
    {
      "cell_type": "code",
      "source": [
        ""
      ],
      "metadata": {
        "id": "avjozz70tudJ"
      },
      "execution_count": null,
      "outputs": []
    },
    {
      "cell_type": "code",
      "source": [
        ""
      ],
      "metadata": {
        "id": "aUJObRXst9G7"
      },
      "execution_count": null,
      "outputs": []
    },
    {
      "cell_type": "code",
      "source": [
        ""
      ],
      "metadata": {
        "id": "Q5HEoLA8uLwh"
      },
      "execution_count": null,
      "outputs": []
    },
    {
      "cell_type": "code",
      "source": [
        ""
      ],
      "metadata": {
        "id": "Z5SqhI0-uaZu"
      },
      "execution_count": null,
      "outputs": []
    },
    {
      "cell_type": "code",
      "source": [
        ""
      ],
      "metadata": {
        "id": "7HKCxonxupDP"
      },
      "execution_count": null,
      "outputs": []
    },
    {
      "cell_type": "code",
      "source": [
        ""
      ],
      "metadata": {
        "id": "AJQ5pNptu3s4"
      },
      "execution_count": null,
      "outputs": []
    },
    {
      "cell_type": "code",
      "source": [
        ""
      ],
      "metadata": {
        "id": "ej5jVw2lvGWS"
      },
      "execution_count": null,
      "outputs": []
    },
    {
      "cell_type": "code",
      "source": [
        ""
      ],
      "metadata": {
        "id": "8aGxhg66vU_m"
      },
      "execution_count": null,
      "outputs": []
    },
    {
      "cell_type": "code",
      "source": [
        ""
      ],
      "metadata": {
        "id": "554NW_FovjpU"
      },
      "execution_count": null,
      "outputs": []
    },
    {
      "cell_type": "code",
      "source": [
        ""
      ],
      "metadata": {
        "id": "C_qi-gajvyS3"
      },
      "execution_count": null,
      "outputs": []
    },
    {
      "cell_type": "code",
      "source": [
        ""
      ],
      "metadata": {
        "id": "hgIsINY6wA8Q"
      },
      "execution_count": null,
      "outputs": []
    },
    {
      "cell_type": "code",
      "source": [
        ""
      ],
      "metadata": {
        "id": "Eh4pzAB4wPl9"
      },
      "execution_count": null,
      "outputs": []
    },
    {
      "cell_type": "code",
      "source": [
        ""
      ],
      "metadata": {
        "id": "ndb4di0LwePS"
      },
      "execution_count": null,
      "outputs": []
    },
    {
      "cell_type": "code",
      "source": [
        ""
      ],
      "metadata": {
        "id": "KdkKpyy7ws4s"
      },
      "execution_count": null,
      "outputs": []
    },
    {
      "cell_type": "code",
      "source": [
        ""
      ],
      "metadata": {
        "id": "tJrh1oF7w7iU"
      },
      "execution_count": null,
      "outputs": []
    },
    {
      "cell_type": "code",
      "source": [
        ""
      ],
      "metadata": {
        "id": "7S-rBHtrxKLr"
      },
      "execution_count": null,
      "outputs": []
    },
    {
      "cell_type": "code",
      "source": [
        ""
      ],
      "metadata": {
        "id": "RblrmMP2xY1T"
      },
      "execution_count": null,
      "outputs": []
    },
    {
      "cell_type": "code",
      "source": [
        ""
      ],
      "metadata": {
        "id": "-0zWRLWyxnev"
      },
      "execution_count": null,
      "outputs": []
    },
    {
      "cell_type": "code",
      "source": [
        ""
      ],
      "metadata": {
        "id": "jAw2C4Mmx2IM"
      },
      "execution_count": null,
      "outputs": []
    },
    {
      "cell_type": "code",
      "source": [
        ""
      ],
      "metadata": {
        "id": "UPN4yM7DyExy"
      },
      "execution_count": null,
      "outputs": []
    },
    {
      "cell_type": "code",
      "source": [
        ""
      ],
      "metadata": {
        "id": "c7W8t3F8yTbU"
      },
      "execution_count": null,
      "outputs": []
    },
    {
      "cell_type": "code",
      "source": [
        ""
      ],
      "metadata": {
        "id": "60vg4mIxyiEr"
      },
      "execution_count": null,
      "outputs": []
    },
    {
      "cell_type": "code",
      "source": [
        ""
      ],
      "metadata": {
        "id": "MKCyocTJywuP"
      },
      "execution_count": null,
      "outputs": []
    },
    {
      "cell_type": "code",
      "source": [
        ""
      ],
      "metadata": {
        "id": "0ispBiUty_Xt"
      },
      "execution_count": null,
      "outputs": []
    },
    {
      "cell_type": "code",
      "source": [
        ""
      ],
      "metadata": {
        "id": "MxCPOlLUzOBY"
      },
      "execution_count": null,
      "outputs": []
    },
    {
      "cell_type": "code",
      "source": [
        ""
      ],
      "metadata": {
        "id": "YmYGJIDHzcqt"
      },
      "execution_count": null,
      "outputs": []
    },
    {
      "cell_type": "code",
      "source": [
        ""
      ],
      "metadata": {
        "id": "xQr6rpEkzrUh"
      },
      "execution_count": null,
      "outputs": []
    },
    {
      "cell_type": "code",
      "source": [
        ""
      ],
      "metadata": {
        "id": "bMeUcaL6z59r"
      },
      "execution_count": null,
      "outputs": []
    },
    {
      "cell_type": "code",
      "source": [
        ""
      ],
      "metadata": {
        "id": "pIWNtO1m0InR"
      },
      "execution_count": null,
      "outputs": []
    },
    {
      "cell_type": "code",
      "source": [
        ""
      ],
      "metadata": {
        "id": "krg3Hk6X0XQy"
      },
      "execution_count": null,
      "outputs": []
    },
    {
      "cell_type": "code",
      "source": [
        ""
      ],
      "metadata": {
        "id": "e9NIK0Oo0l6L"
      },
      "execution_count": null,
      "outputs": []
    },
    {
      "cell_type": "code",
      "source": [
        ""
      ],
      "metadata": {
        "id": "eGYmdQMq00jv"
      },
      "execution_count": null,
      "outputs": []
    },
    {
      "cell_type": "code",
      "source": [
        ""
      ],
      "metadata": {
        "id": "Ywv5__881DNM"
      },
      "execution_count": null,
      "outputs": []
    },
    {
      "cell_type": "code",
      "source": [
        ""
      ],
      "metadata": {
        "id": "XdWtOaQn1R2p"
      },
      "execution_count": null,
      "outputs": []
    },
    {
      "cell_type": "code",
      "source": [
        ""
      ],
      "metadata": {
        "id": "K_WYuJUF1ggf"
      },
      "execution_count": null,
      "outputs": []
    },
    {
      "cell_type": "code",
      "source": [
        ""
      ],
      "metadata": {
        "id": "wWpwuk491vKG"
      },
      "execution_count": null,
      "outputs": []
    },
    {
      "cell_type": "code",
      "source": [
        ""
      ],
      "metadata": {
        "id": "qn7y3idz19zX"
      },
      "execution_count": null,
      "outputs": []
    },
    {
      "cell_type": "code",
      "source": [
        ""
      ],
      "metadata": {
        "id": "YtxeQ6mj2Mcy"
      },
      "execution_count": null,
      "outputs": []
    },
    {
      "cell_type": "code",
      "source": [
        ""
      ],
      "metadata": {
        "id": "kFGHV9y62bGO"
      },
      "execution_count": null,
      "outputs": []
    },
    {
      "cell_type": "code",
      "source": [
        ""
      ],
      "metadata": {
        "id": "_biY9gEg2pwO"
      },
      "execution_count": null,
      "outputs": []
    },
    {
      "cell_type": "code",
      "source": [
        ""
      ],
      "metadata": {
        "id": "9PrApvJn24ZI"
      },
      "execution_count": null,
      "outputs": []
    },
    {
      "cell_type": "code",
      "source": [
        ""
      ],
      "metadata": {
        "id": "b-hN2lZB3HC7"
      },
      "execution_count": null,
      "outputs": []
    },
    {
      "cell_type": "code",
      "source": [
        ""
      ],
      "metadata": {
        "id": "S3SluO053VsR"
      },
      "execution_count": null,
      "outputs": []
    },
    {
      "cell_type": "code",
      "source": [
        ""
      ],
      "metadata": {
        "id": "Hoz_72Bw3kWB"
      },
      "execution_count": null,
      "outputs": []
    },
    {
      "cell_type": "code",
      "source": [
        ""
      ],
      "metadata": {
        "id": "kG1o-72P3y_R"
      },
      "execution_count": null,
      "outputs": []
    },
    {
      "cell_type": "code",
      "source": [
        ""
      ],
      "metadata": {
        "id": "YuCsnUKO4Bo2"
      },
      "execution_count": null,
      "outputs": []
    },
    {
      "cell_type": "code",
      "source": [
        ""
      ],
      "metadata": {
        "id": "hpo3RFhP4QSb"
      },
      "execution_count": null,
      "outputs": []
    },
    {
      "cell_type": "code",
      "source": [
        ""
      ],
      "metadata": {
        "id": "HSMu0N-N4e73"
      },
      "execution_count": null,
      "outputs": []
    },
    {
      "cell_type": "code",
      "source": [
        ""
      ],
      "metadata": {
        "id": "tBfwbs9F4tlU"
      },
      "execution_count": null,
      "outputs": []
    },
    {
      "cell_type": "code",
      "source": [
        ""
      ],
      "metadata": {
        "id": "Li-VfafM48PA"
      },
      "execution_count": null,
      "outputs": []
    },
    {
      "cell_type": "code",
      "source": [
        ""
      ],
      "metadata": {
        "id": "cfmDbHPE5K4O"
      },
      "execution_count": null,
      "outputs": []
    },
    {
      "cell_type": "code",
      "source": [
        ""
      ],
      "metadata": {
        "id": "0ELG9_ap5Zh8"
      },
      "execution_count": null,
      "outputs": []
    },
    {
      "cell_type": "code",
      "source": [
        ""
      ],
      "metadata": {
        "id": "fv1Qw_DB5oLP"
      },
      "execution_count": null,
      "outputs": []
    },
    {
      "cell_type": "code",
      "source": [
        ""
      ],
      "metadata": {
        "id": "-ufJgwVT520-"
      },
      "execution_count": null,
      "outputs": []
    },
    {
      "cell_type": "code",
      "source": [
        ""
      ],
      "metadata": {
        "id": "L_lkARQ76Fer"
      },
      "execution_count": null,
      "outputs": []
    },
    {
      "cell_type": "code",
      "source": [
        ""
      ],
      "metadata": {
        "id": "zeh_E2fJ6UH3"
      },
      "execution_count": null,
      "outputs": []
    },
    {
      "cell_type": "code",
      "source": [
        ""
      ],
      "metadata": {
        "id": "LKCBX26B6ixJ"
      },
      "execution_count": null,
      "outputs": []
    },
    {
      "cell_type": "code",
      "source": [
        ""
      ],
      "metadata": {
        "id": "LrnBKOle6xa5"
      },
      "execution_count": null,
      "outputs": []
    },
    {
      "cell_type": "code",
      "source": [
        ""
      ],
      "metadata": {
        "id": "qmCCPzxw7AEL"
      },
      "execution_count": null,
      "outputs": []
    },
    {
      "cell_type": "code",
      "source": [
        ""
      ],
      "metadata": {
        "id": "Nmi5daiQ7Ot9"
      },
      "execution_count": null,
      "outputs": []
    },
    {
      "cell_type": "code",
      "source": [
        ""
      ],
      "metadata": {
        "id": "sIOV6Tn27dXN"
      },
      "execution_count": null,
      "outputs": []
    },
    {
      "cell_type": "code",
      "source": [
        ""
      ],
      "metadata": {
        "id": "PqA94UxD76qO"
      },
      "execution_count": null,
      "outputs": []
    },
    {
      "cell_type": "code",
      "source": [
        ""
      ],
      "metadata": {
        "id": "udR_7bNc7XxE"
      },
      "execution_count": null,
      "outputs": []
    },
    {
      "cell_type": "code",
      "source": [
        ""
      ],
      "metadata": {
        "id": "20iBYfhZ7aRX"
      },
      "execution_count": null,
      "outputs": []
    },
    {
      "cell_type": "code",
      "source": [
        ""
      ],
      "metadata": {
        "id": "UKKXZgpB7o2z"
      },
      "execution_count": null,
      "outputs": []
    },
    {
      "cell_type": "code",
      "source": [
        ""
      ],
      "metadata": {
        "id": "YBPOOhC374BD"
      },
      "execution_count": null,
      "outputs": []
    },
    {
      "cell_type": "code",
      "source": [
        ""
      ],
      "metadata": {
        "id": "twIlxlJ8OCUv"
      },
      "execution_count": null,
      "outputs": []
    },
    {
      "cell_type": "code",
      "source": [
        ""
      ],
      "metadata": {
        "id": "zs2MCCc1OQ-d"
      },
      "execution_count": null,
      "outputs": []
    },
    {
      "cell_type": "code",
      "source": [
        ""
      ],
      "metadata": {
        "id": "OR7yBveqOfoH"
      },
      "execution_count": null,
      "outputs": []
    },
    {
      "cell_type": "code",
      "source": [
        ""
      ],
      "metadata": {
        "id": "6Laiach1OuRS"
      },
      "execution_count": null,
      "outputs": []
    },
    {
      "cell_type": "code",
      "source": [
        ""
      ],
      "metadata": {
        "id": "03BtHWqzO864"
      },
      "execution_count": null,
      "outputs": []
    },
    {
      "cell_type": "code",
      "source": [
        ""
      ],
      "metadata": {
        "id": "JFXHU-ekPQc1"
      },
      "execution_count": null,
      "outputs": []
    },
    {
      "cell_type": "code",
      "source": [
        ""
      ],
      "metadata": {
        "id": "NBxqDAF0PfGg"
      },
      "execution_count": null,
      "outputs": []
    },
    {
      "cell_type": "code",
      "source": [
        ""
      ],
      "metadata": {
        "id": "tC_w8CruPtwA"
      },
      "execution_count": null,
      "outputs": []
    },
    {
      "cell_type": "code",
      "source": [
        ""
      ],
      "metadata": {
        "id": "NCQMX66iP8ZN"
      },
      "execution_count": null,
      "outputs": []
    },
    {
      "cell_type": "code",
      "source": [
        ""
      ],
      "metadata": {
        "id": "hrpUOC0IQLC3"
      },
      "execution_count": null,
      "outputs": []
    },
    {
      "cell_type": "code",
      "source": [
        ""
      ],
      "metadata": {
        "id": "BbBktx9SQZsW"
      },
      "execution_count": null,
      "outputs": []
    },
    {
      "cell_type": "code",
      "source": [
        ""
      ],
      "metadata": {
        "id": "47dpbHrtQoVr"
      },
      "execution_count": null,
      "outputs": []
    },
    {
      "cell_type": "code",
      "source": [
        ""
      ],
      "metadata": {
        "id": "KhDhXl6OQ2_U"
      },
      "execution_count": null,
      "outputs": []
    },
    {
      "cell_type": "code",
      "source": [
        ""
      ],
      "metadata": {
        "id": "PLBYKFhQRFpV"
      },
      "execution_count": null,
      "outputs": []
    },
    {
      "cell_type": "code",
      "source": [
        ""
      ],
      "metadata": {
        "id": "0ujvAyncRUSm"
      },
      "execution_count": null,
      "outputs": []
    },
    {
      "cell_type": "code",
      "source": [
        ""
      ],
      "metadata": {
        "id": "eWrZUBmLRi8K"
      },
      "execution_count": null,
      "outputs": []
    },
    {
      "cell_type": "code",
      "source": [
        ""
      ],
      "metadata": {
        "id": "lVxJY2Z3Rxli"
      },
      "execution_count": null,
      "outputs": []
    },
    {
      "cell_type": "code",
      "source": [
        ""
      ],
      "metadata": {
        "id": "o6G0549fSAPP"
      },
      "execution_count": null,
      "outputs": []
    },
    {
      "cell_type": "code",
      "source": [
        ""
      ],
      "metadata": {
        "id": "kQCfr6GPSO4c"
      },
      "execution_count": null,
      "outputs": []
    },
    {
      "cell_type": "code",
      "source": [
        ""
      ],
      "metadata": {
        "id": "c590b1SzSdiD"
      },
      "execution_count": null,
      "outputs": []
    },
    {
      "cell_type": "code",
      "source": [
        ""
      ],
      "metadata": {
        "id": "n8Z-TiqBSsMC"
      },
      "execution_count": null,
      "outputs": []
    },
    {
      "cell_type": "code",
      "source": [
        ""
      ],
      "metadata": {
        "id": "itByXo79S61K"
      },
      "execution_count": null,
      "outputs": []
    },
    {
      "cell_type": "code",
      "source": [
        ""
      ],
      "metadata": {
        "id": "V9mh04mLTJeg"
      },
      "execution_count": null,
      "outputs": []
    },
    {
      "cell_type": "code",
      "source": [
        ""
      ],
      "metadata": {
        "id": "4B2GD1utTYII"
      },
      "execution_count": null,
      "outputs": []
    },
    {
      "cell_type": "code",
      "source": [
        ""
      ],
      "metadata": {
        "id": "dk9MVIbITmxg"
      },
      "execution_count": null,
      "outputs": []
    },
    {
      "cell_type": "code",
      "source": [
        ""
      ],
      "metadata": {
        "id": "MehrGgByT1bK"
      },
      "execution_count": null,
      "outputs": []
    },
    {
      "cell_type": "code",
      "source": [
        ""
      ],
      "metadata": {
        "id": "_fHxdW7YUEEo"
      },
      "execution_count": null,
      "outputs": []
    },
    {
      "cell_type": "code",
      "source": [
        ""
      ],
      "metadata": {
        "id": "scJKDFrSUSt-"
      },
      "execution_count": null,
      "outputs": []
    },
    {
      "cell_type": "code",
      "source": [
        ""
      ],
      "metadata": {
        "id": "JZ6PE5vcUhXw"
      },
      "execution_count": null,
      "outputs": []
    },
    {
      "cell_type": "code",
      "source": [
        ""
      ],
      "metadata": {
        "id": "CBV8KdvzUwBI"
      },
      "execution_count": null,
      "outputs": []
    },
    {
      "cell_type": "code",
      "source": [
        ""
      ],
      "metadata": {
        "id": "JqK8JT0vU5xs"
      },
      "execution_count": null,
      "outputs": []
    },
    {
      "cell_type": "code",
      "source": [
        ""
      ],
      "metadata": {
        "id": "_1nWmb3wVIbn"
      },
      "execution_count": null,
      "outputs": []
    },
    {
      "cell_type": "code",
      "source": [
        ""
      ],
      "metadata": {
        "id": "vd6s7A9eVXFI"
      },
      "execution_count": null,
      "outputs": []
    },
    {
      "cell_type": "code",
      "source": [
        ""
      ],
      "metadata": {
        "id": "dUIR50r7VluP"
      },
      "execution_count": null,
      "outputs": []
    },
    {
      "cell_type": "code",
      "source": [
        ""
      ],
      "metadata": {
        "id": "iMK8w6bYV0X7"
      },
      "execution_count": null,
      "outputs": []
    },
    {
      "cell_type": "code",
      "source": [
        ""
      ],
      "metadata": {
        "id": "9whdy0jVWH52"
      },
      "execution_count": null,
      "outputs": []
    },
    {
      "cell_type": "code",
      "source": [
        ""
      ],
      "metadata": {
        "id": "KAo9S-o9WWjs"
      },
      "execution_count": null,
      "outputs": []
    },
    {
      "cell_type": "code",
      "source": [
        ""
      ],
      "metadata": {
        "id": "xy287bAqWlM8"
      },
      "execution_count": null,
      "outputs": []
    },
    {
      "cell_type": "code",
      "source": [
        ""
      ],
      "metadata": {
        "id": "jymEkU0nWz2U"
      },
      "execution_count": null,
      "outputs": []
    },
    {
      "cell_type": "code",
      "source": [
        ""
      ],
      "metadata": {
        "id": "rXDWKRAIXCf4"
      },
      "execution_count": null,
      "outputs": []
    },
    {
      "cell_type": "code",
      "source": [
        ""
      ],
      "metadata": {
        "id": "ratF7N7xXRJt"
      },
      "execution_count": null,
      "outputs": []
    },
    {
      "cell_type": "code",
      "source": [
        ""
      ],
      "metadata": {
        "id": "y1M61Mo4XfzF"
      },
      "execution_count": null,
      "outputs": []
    },
    {
      "cell_type": "code",
      "source": [
        ""
      ],
      "metadata": {
        "id": "J9E_4lRRXucQ"
      },
      "execution_count": null,
      "outputs": []
    },
    {
      "cell_type": "code",
      "source": [
        ""
      ],
      "metadata": {
        "id": "hOs0y2k_X9F2"
      },
      "execution_count": null,
      "outputs": []
    },
    {
      "cell_type": "code",
      "source": [
        ""
      ],
      "metadata": {
        "id": "hsAShWQvYLvl"
      },
      "execution_count": null,
      "outputs": []
    },
    {
      "cell_type": "code",
      "source": [
        ""
      ],
      "metadata": {
        "id": "-8qy4dfiYaZI"
      },
      "execution_count": null,
      "outputs": []
    },
    {
      "cell_type": "code",
      "source": [
        ""
      ],
      "metadata": {
        "id": "78xL2TeuYkKC"
      },
      "execution_count": null,
      "outputs": []
    },
    {
      "cell_type": "code",
      "source": [
        ""
      ],
      "metadata": {
        "id": "T8hA_SBPYyzV"
      },
      "execution_count": null,
      "outputs": []
    },
    {
      "cell_type": "code",
      "source": [
        ""
      ],
      "metadata": {
        "id": "_AVOUsaUZBdO"
      },
      "execution_count": null,
      "outputs": []
    },
    {
      "cell_type": "code",
      "source": [
        ""
      ],
      "metadata": {
        "id": "Rs3jNKv0ZQlh"
      },
      "execution_count": null,
      "outputs": []
    },
    {
      "cell_type": "code",
      "source": [
        ""
      ],
      "metadata": {
        "id": "4ZBuUJ38Zfet"
      },
      "execution_count": null,
      "outputs": []
    },
    {
      "cell_type": "code",
      "source": [
        ""
      ],
      "metadata": {
        "id": "TTso2_iKZySG"
      },
      "execution_count": null,
      "outputs": []
    },
    {
      "cell_type": "code",
      "source": [
        ""
      ],
      "metadata": {
        "id": "aCWChf6qaA7d"
      },
      "execution_count": null,
      "outputs": []
    },
    {
      "cell_type": "code",
      "source": [
        ""
      ],
      "metadata": {
        "id": "kHnA5XI4aPlE"
      },
      "execution_count": null,
      "outputs": []
    },
    {
      "cell_type": "code",
      "source": [
        ""
      ],
      "metadata": {
        "id": "cRk_VZJiaeOa"
      },
      "execution_count": null,
      "outputs": []
    },
    {
      "cell_type": "code",
      "source": [
        ""
      ],
      "metadata": {
        "id": "zXeRLl81as4C"
      },
      "execution_count": null,
      "outputs": []
    },
    {
      "cell_type": "code",
      "source": [
        ""
      ],
      "metadata": {
        "id": "d87odnDka7hT"
      },
      "execution_count": null,
      "outputs": []
    },
    {
      "cell_type": "code",
      "source": [
        ""
      ],
      "metadata": {
        "id": "rhHwgu3RbKK7"
      },
      "execution_count": null,
      "outputs": []
    },
    {
      "cell_type": "code",
      "source": [
        ""
      ],
      "metadata": {
        "id": "vt9vDQ8vbY0b"
      },
      "execution_count": null,
      "outputs": []
    },
    {
      "cell_type": "code",
      "source": [
        ""
      ],
      "metadata": {
        "id": "wLeLxenwbneX"
      },
      "execution_count": null,
      "outputs": []
    },
    {
      "cell_type": "code",
      "source": [
        ""
      ],
      "metadata": {
        "id": "axcUV0oqb2Hb"
      },
      "execution_count": null,
      "outputs": []
    },
    {
      "cell_type": "code",
      "source": [
        ""
      ],
      "metadata": {
        "id": "miceEkP8cEw9"
      },
      "execution_count": null,
      "outputs": []
    },
    {
      "cell_type": "code",
      "source": [
        ""
      ],
      "metadata": {
        "id": "NxDgkjFWcTaf"
      },
      "execution_count": null,
      "outputs": []
    },
    {
      "cell_type": "code",
      "source": [
        ""
      ],
      "metadata": {
        "id": "NJb05-yCciD7"
      },
      "execution_count": null,
      "outputs": []
    },
    {
      "cell_type": "code",
      "source": [
        ""
      ],
      "metadata": {
        "id": "5BQ6x0zScwtg"
      },
      "execution_count": null,
      "outputs": []
    },
    {
      "cell_type": "code",
      "source": [
        ""
      ],
      "metadata": {
        "id": "Ctjs6qc3c_Wx"
      },
      "execution_count": null,
      "outputs": []
    },
    {
      "cell_type": "code",
      "source": [
        ""
      ],
      "metadata": {
        "id": "vappBATFdOAk"
      },
      "execution_count": null,
      "outputs": []
    },
    {
      "cell_type": "code",
      "source": [
        ""
      ],
      "metadata": {
        "id": "6X_cs4ZVdcp3"
      },
      "execution_count": null,
      "outputs": []
    },
    {
      "cell_type": "code",
      "source": [
        ""
      ],
      "metadata": {
        "id": "v_9PxAdidrTi"
      },
      "execution_count": null,
      "outputs": []
    },
    {
      "cell_type": "code",
      "source": [
        ""
      ],
      "metadata": {
        "id": "64SMG5pId59F"
      },
      "execution_count": null,
      "outputs": []
    },
    {
      "cell_type": "code",
      "source": [
        ""
      ],
      "metadata": {
        "id": "le5Rdrn7eImd"
      },
      "execution_count": null,
      "outputs": []
    },
    {
      "cell_type": "code",
      "source": [
        ""
      ],
      "metadata": {
        "id": "SSJdd9_PeXQE"
      },
      "execution_count": null,
      "outputs": []
    },
    {
      "cell_type": "code",
      "source": [
        ""
      ],
      "metadata": {
        "id": "RfZTdqGWel5a"
      },
      "execution_count": null,
      "outputs": []
    },
    {
      "cell_type": "code",
      "source": [
        ""
      ],
      "metadata": {
        "id": "gj-7aPgYe0jC"
      },
      "execution_count": null,
      "outputs": []
    },
    {
      "cell_type": "code",
      "source": [
        ""
      ],
      "metadata": {
        "id": "iuDFp7-9fDMk"
      },
      "execution_count": null,
      "outputs": []
    },
    {
      "cell_type": "code",
      "source": [
        ""
      ],
      "metadata": {
        "id": "Mc-yT-sBfR2M"
      },
      "execution_count": null,
      "outputs": []
    },
    {
      "cell_type": "code",
      "source": [
        ""
      ],
      "metadata": {
        "id": "RpqUNqMEfgfd"
      },
      "execution_count": null,
      "outputs": []
    },
    {
      "cell_type": "code",
      "source": [
        ""
      ],
      "metadata": {
        "id": "pXFRjIKbfvIy"
      },
      "execution_count": null,
      "outputs": []
    },
    {
      "cell_type": "code",
      "source": [
        ""
      ],
      "metadata": {
        "id": "snhV96Lmf9yi"
      },
      "execution_count": null,
      "outputs": []
    },
    {
      "cell_type": "code",
      "source": [
        ""
      ],
      "metadata": {
        "id": "BdW5VwWvgMb4"
      },
      "execution_count": null,
      "outputs": []
    },
    {
      "cell_type": "code",
      "source": [
        ""
      ],
      "metadata": {
        "id": "FsaK4NFRgbFg"
      },
      "execution_count": null,
      "outputs": []
    },
    {
      "cell_type": "code",
      "source": [
        ""
      ],
      "metadata": {
        "id": "JMuL2pJDgpvi"
      },
      "execution_count": null,
      "outputs": []
    },
    {
      "cell_type": "code",
      "source": [
        ""
      ],
      "metadata": {
        "id": "kZmJOVFvhHCM"
      },
      "execution_count": null,
      "outputs": []
    },
    {
      "cell_type": "code",
      "source": [
        ""
      ],
      "metadata": {
        "id": "Vy8UttOahkUu"
      },
      "execution_count": null,
      "outputs": []
    },
    {
      "cell_type": "code",
      "source": [
        ""
      ],
      "metadata": {
        "id": "auaxj7IwiBoe"
      },
      "execution_count": null,
      "outputs": []
    },
    {
      "cell_type": "code",
      "source": [
        ""
      ],
      "metadata": {
        "id": "UhPcTaCyiQRb"
      },
      "execution_count": null,
      "outputs": []
    },
    {
      "cell_type": "code",
      "source": [
        ""
      ],
      "metadata": {
        "id": "3Kz_x7pFitk3"
      },
      "execution_count": null,
      "outputs": []
    },
    {
      "cell_type": "code",
      "source": [
        ""
      ],
      "metadata": {
        "id": "BnpWJF0Si8tG"
      },
      "execution_count": null,
      "outputs": []
    },
    {
      "cell_type": "code",
      "source": [
        ""
      ],
      "metadata": {
        "id": "Qw8yqzuJjZhH"
      },
      "execution_count": null,
      "outputs": []
    },
    {
      "cell_type": "code",
      "source": [
        ""
      ],
      "metadata": {
        "id": "owA8knLbj20K"
      },
      "execution_count": null,
      "outputs": []
    },
    {
      "cell_type": "code",
      "source": [
        ""
      ],
      "metadata": {
        "id": "qLg3JpyKkFd7"
      },
      "execution_count": null,
      "outputs": []
    },
    {
      "cell_type": "code",
      "source": [
        ""
      ],
      "metadata": {
        "id": "7GZm00AhkUH7"
      },
      "execution_count": null,
      "outputs": []
    },
    {
      "cell_type": "code",
      "source": [
        ""
      ],
      "metadata": {
        "id": "X8fBdqqOkjIX"
      },
      "execution_count": null,
      "outputs": []
    },
    {
      "cell_type": "code",
      "source": [
        ""
      ],
      "metadata": {
        "id": "Me4FxI3Cksez"
      },
      "execution_count": null,
      "outputs": []
    },
    {
      "cell_type": "code",
      "source": [
        ""
      ],
      "metadata": {
        "id": "c5rdP_MKk9nI"
      },
      "execution_count": null,
      "outputs": []
    },
    {
      "cell_type": "code",
      "source": [
        ""
      ],
      "metadata": {
        "id": "WmNRo6c7lKyy"
      },
      "execution_count": null,
      "outputs": []
    },
    {
      "cell_type": "code",
      "source": [
        ""
      ],
      "metadata": {
        "id": "qji8nDbtlbeT"
      },
      "execution_count": null,
      "outputs": []
    },
    {
      "cell_type": "code",
      "source": [
        ""
      ],
      "metadata": {
        "id": "q5cEb2m9ln2Q"
      },
      "execution_count": null,
      "outputs": []
    },
    {
      "cell_type": "code",
      "source": [
        ""
      ],
      "metadata": {
        "id": "4F5OPniPl4cy"
      },
      "execution_count": null,
      "outputs": []
    },
    {
      "cell_type": "code",
      "source": [
        ""
      ],
      "metadata": {
        "id": "V9x9NPBimHVt"
      },
      "execution_count": null,
      "outputs": []
    },
    {
      "cell_type": "code",
      "source": [
        ""
      ],
      "metadata": {
        "id": "jsfljaIlmWPP"
      },
      "execution_count": null,
      "outputs": []
    },
    {
      "cell_type": "code",
      "source": [
        ""
      ],
      "metadata": {
        "id": "l-MgpUlrmlIc"
      },
      "execution_count": null,
      "outputs": []
    },
    {
      "cell_type": "code",
      "source": [
        ""
      ],
      "metadata": {
        "id": "iy9oDf-VnSiV"
      },
      "execution_count": null,
      "outputs": []
    },
    {
      "cell_type": "code",
      "source": [
        ""
      ],
      "metadata": {
        "id": "CTX5xL7NnhMR"
      },
      "execution_count": null,
      "outputs": []
    },
    {
      "cell_type": "code",
      "source": [
        ""
      ],
      "metadata": {
        "id": "uXa0Ea7Mnv1a"
      },
      "execution_count": null,
      "outputs": []
    },
    {
      "cell_type": "code",
      "source": [
        ""
      ],
      "metadata": {
        "id": "Fxy_-77FoNIS"
      },
      "execution_count": null,
      "outputs": []
    },
    {
      "cell_type": "code",
      "source": [
        ""
      ],
      "metadata": {
        "id": "U03JXKG-obyH"
      },
      "execution_count": null,
      "outputs": []
    },
    {
      "cell_type": "code",
      "source": [
        ""
      ],
      "metadata": {
        "id": "iI41SnPMoqbe"
      },
      "execution_count": null,
      "outputs": []
    },
    {
      "cell_type": "code",
      "source": [
        ""
      ],
      "metadata": {
        "id": "N-b6-SpCpHuz"
      },
      "execution_count": null,
      "outputs": []
    },
    {
      "cell_type": "code",
      "source": [
        ""
      ],
      "metadata": {
        "id": "empooq4PpWYq"
      },
      "execution_count": null,
      "outputs": []
    },
    {
      "cell_type": "code",
      "source": [
        ""
      ],
      "metadata": {
        "id": "8sntRgILplCe"
      },
      "execution_count": null,
      "outputs": []
    },
    {
      "cell_type": "code",
      "source": [
        ""
      ],
      "metadata": {
        "id": "0ovqSTctpzrb"
      },
      "execution_count": null,
      "outputs": []
    },
    {
      "cell_type": "code",
      "source": [
        ""
      ],
      "metadata": {
        "id": "6suJ0bGiqCVI"
      },
      "execution_count": null,
      "outputs": []
    },
    {
      "cell_type": "code",
      "source": [
        ""
      ],
      "metadata": {
        "id": "D3aRuBpvqfnr"
      },
      "execution_count": null,
      "outputs": []
    },
    {
      "cell_type": "code",
      "source": [
        ""
      ],
      "metadata": {
        "id": "g1-0rFdSquRQ"
      },
      "execution_count": null,
      "outputs": []
    },
    {
      "cell_type": "code",
      "source": [
        ""
      ],
      "metadata": {
        "id": "e8CIEoUJq86j"
      },
      "execution_count": null,
      "outputs": []
    },
    {
      "cell_type": "code",
      "source": [
        ""
      ],
      "metadata": {
        "id": "lVcYj0RNrLkC"
      },
      "execution_count": null,
      "outputs": []
    },
    {
      "cell_type": "code",
      "source": [
        ""
      ],
      "metadata": {
        "id": "FkxZxNHsraNv"
      },
      "execution_count": null,
      "outputs": []
    },
    {
      "cell_type": "code",
      "source": [
        ""
      ],
      "metadata": {
        "id": "ee0Zf4-lro3I"
      },
      "execution_count": null,
      "outputs": []
    },
    {
      "cell_type": "code",
      "source": [
        ""
      ],
      "metadata": {
        "id": "-6gjPBIor3gu"
      },
      "execution_count": null,
      "outputs": []
    },
    {
      "cell_type": "code",
      "source": [
        ""
      ],
      "metadata": {
        "id": "7hNowQTMsGKe"
      },
      "execution_count": null,
      "outputs": []
    },
    {
      "cell_type": "code",
      "source": [
        ""
      ],
      "metadata": {
        "id": "MQ2SNsK8sP7A"
      },
      "execution_count": null,
      "outputs": []
    },
    {
      "cell_type": "code",
      "source": [
        ""
      ],
      "metadata": {
        "id": "PULsaHEzseks"
      },
      "execution_count": null,
      "outputs": []
    },
    {
      "cell_type": "code",
      "source": [
        ""
      ],
      "metadata": {
        "id": "-illIxtfstNz"
      },
      "execution_count": null,
      "outputs": []
    },
    {
      "cell_type": "code",
      "source": [
        ""
      ],
      "metadata": {
        "id": "uW0nlgBjs8mV"
      },
      "execution_count": null,
      "outputs": []
    },
    {
      "cell_type": "code",
      "source": [
        ""
      ],
      "metadata": {
        "id": "YD1Q7kputKwY"
      },
      "execution_count": null,
      "outputs": []
    },
    {
      "cell_type": "code",
      "source": [
        ""
      ],
      "metadata": {
        "id": "c71cyUrbteC6"
      },
      "execution_count": null,
      "outputs": []
    },
    {
      "cell_type": "code",
      "source": [
        ""
      ],
      "metadata": {
        "id": "Ya1W_Ip8tssf"
      },
      "execution_count": null,
      "outputs": []
    },
    {
      "cell_type": "code",
      "source": [
        ""
      ],
      "metadata": {
        "id": "21o_HF9Dt7V6"
      },
      "execution_count": null,
      "outputs": []
    },
    {
      "cell_type": "code",
      "source": [
        ""
      ],
      "metadata": {
        "id": "9PVcX9amuJ_f"
      },
      "execution_count": null,
      "outputs": []
    },
    {
      "cell_type": "code",
      "source": [
        ""
      ],
      "metadata": {
        "id": "fiocfV0guYo4"
      },
      "execution_count": null,
      "outputs": []
    },
    {
      "cell_type": "code",
      "source": [
        ""
      ],
      "metadata": {
        "id": "dMAfdioxunSl"
      },
      "execution_count": null,
      "outputs": []
    },
    {
      "cell_type": "code",
      "source": [
        ""
      ],
      "metadata": {
        "id": "40xs-ZaEu18J"
      },
      "execution_count": null,
      "outputs": []
    },
    {
      "cell_type": "code",
      "source": [
        ""
      ],
      "metadata": {
        "id": "EYBQlZdwvElq"
      },
      "execution_count": null,
      "outputs": []
    },
    {
      "cell_type": "code",
      "source": [
        ""
      ],
      "metadata": {
        "id": "cfZU-RWlvTPO"
      },
      "execution_count": null,
      "outputs": []
    },
    {
      "cell_type": "code",
      "source": [
        ""
      ],
      "metadata": {
        "id": "eGU8madqvh4h"
      },
      "execution_count": null,
      "outputs": []
    },
    {
      "cell_type": "code",
      "source": [
        ""
      ],
      "metadata": {
        "id": "-OVJTLBlvwh6"
      },
      "execution_count": null,
      "outputs": []
    },
    {
      "cell_type": "code",
      "source": [
        ""
      ],
      "metadata": {
        "id": "4GVJUkvDv_Lg"
      },
      "execution_count": null,
      "outputs": []
    },
    {
      "cell_type": "code",
      "source": [
        ""
      ],
      "metadata": {
        "id": "4d2a3rGuwN1N"
      },
      "execution_count": null,
      "outputs": []
    },
    {
      "cell_type": "code",
      "source": [
        ""
      ],
      "metadata": {
        "id": "cBh82G4WwceY"
      },
      "execution_count": null,
      "outputs": []
    },
    {
      "cell_type": "code",
      "source": [
        ""
      ],
      "metadata": {
        "id": "Yz9u2jWcwrH7"
      },
      "execution_count": null,
      "outputs": []
    },
    {
      "cell_type": "code",
      "source": [
        ""
      ],
      "metadata": {
        "id": "crTIaQdww5xX"
      },
      "execution_count": null,
      "outputs": []
    },
    {
      "cell_type": "code",
      "source": [
        ""
      ],
      "metadata": {
        "id": "O1MCqI52xIaw"
      },
      "execution_count": null,
      "outputs": []
    },
    {
      "cell_type": "code",
      "source": [
        ""
      ],
      "metadata": {
        "id": "Qxw5A4WlxXEe"
      },
      "execution_count": null,
      "outputs": []
    },
    {
      "cell_type": "code",
      "source": [
        ""
      ],
      "metadata": {
        "id": "cTYK7yPDxlt_"
      },
      "execution_count": null,
      "outputs": []
    },
    {
      "cell_type": "code",
      "source": [
        ""
      ],
      "metadata": {
        "id": "-Exn5JE9x0XZ"
      },
      "execution_count": null,
      "outputs": []
    },
    {
      "cell_type": "code",
      "source": [
        ""
      ],
      "metadata": {
        "id": "PlcjhHL1yDA2"
      },
      "execution_count": null,
      "outputs": []
    },
    {
      "cell_type": "code",
      "source": [
        ""
      ],
      "metadata": {
        "id": "OUzzxcG3yRqc"
      },
      "execution_count": null,
      "outputs": []
    },
    {
      "cell_type": "code",
      "source": [
        ""
      ],
      "metadata": {
        "id": "kAlb6fJlygT3"
      },
      "execution_count": null,
      "outputs": []
    },
    {
      "cell_type": "code",
      "source": [
        ""
      ],
      "metadata": {
        "id": "97qXzIBVyu9f"
      },
      "execution_count": null,
      "outputs": []
    },
    {
      "cell_type": "code",
      "source": [
        ""
      ],
      "metadata": {
        "id": "ZE7KXdiNy9m6"
      },
      "execution_count": null,
      "outputs": []
    },
    {
      "cell_type": "code",
      "source": [
        ""
      ],
      "metadata": {
        "id": "H1Xt0ErkzMQc"
      },
      "execution_count": null,
      "outputs": []
    },
    {
      "cell_type": "code",
      "source": [
        ""
      ],
      "metadata": {
        "id": "SThUZhCaza53"
      },
      "execution_count": null,
      "outputs": []
    },
    {
      "cell_type": "code",
      "source": [
        ""
      ],
      "metadata": {
        "id": "KE3MmqJNzpjh"
      },
      "execution_count": null,
      "outputs": []
    },
    {
      "cell_type": "code",
      "source": [
        ""
      ],
      "metadata": {
        "id": "s3jIur2_z4M8"
      },
      "execution_count": null,
      "outputs": []
    },
    {
      "cell_type": "code",
      "source": [
        ""
      ],
      "metadata": {
        "id": "B3MH37vD0G2c"
      },
      "execution_count": null,
      "outputs": []
    },
    {
      "cell_type": "code",
      "source": [
        ""
      ],
      "metadata": {
        "id": "K9HrbfE_0Vf9"
      },
      "execution_count": null,
      "outputs": []
    },
    {
      "cell_type": "code",
      "source": [
        ""
      ],
      "metadata": {
        "id": "Q1sNKW5C0kJp"
      },
      "execution_count": null,
      "outputs": []
    },
    {
      "cell_type": "code",
      "source": [
        ""
      ],
      "metadata": {
        "id": "KuBZpNzJ0yzH"
      },
      "execution_count": null,
      "outputs": []
    },
    {
      "cell_type": "code",
      "source": [
        ""
      ],
      "metadata": {
        "id": "l7aCncmk1Bce"
      },
      "execution_count": null,
      "outputs": []
    },
    {
      "cell_type": "code",
      "source": [
        ""
      ],
      "metadata": {
        "id": "3rURCr3c1QF7"
      },
      "execution_count": null,
      "outputs": []
    },
    {
      "cell_type": "code",
      "source": [
        ""
      ],
      "metadata": {
        "id": "XgozaT4_1evg"
      },
      "execution_count": null,
      "outputs": []
    },
    {
      "cell_type": "code",
      "source": [
        ""
      ],
      "metadata": {
        "id": "jzqlgDxu1tZG"
      },
      "execution_count": null,
      "outputs": []
    },
    {
      "cell_type": "code",
      "source": [
        ""
      ],
      "metadata": {
        "id": "SUZoWDOn18Cs"
      },
      "execution_count": null,
      "outputs": []
    },
    {
      "cell_type": "code",
      "source": [
        ""
      ],
      "metadata": {
        "id": "Gn9aSUCC2Kr_"
      },
      "execution_count": null,
      "outputs": []
    },
    {
      "cell_type": "code",
      "source": [
        ""
      ],
      "metadata": {
        "id": "BI7lo9UH2ZVb"
      },
      "execution_count": null,
      "outputs": []
    },
    {
      "cell_type": "code",
      "source": [
        ""
      ],
      "metadata": {
        "id": "hODEOJe12n_D"
      },
      "execution_count": null,
      "outputs": []
    },
    {
      "cell_type": "code",
      "source": [
        ""
      ],
      "metadata": {
        "id": "B6hgHp3822ok"
      },
      "execution_count": null,
      "outputs": []
    },
    {
      "cell_type": "code",
      "source": [
        ""
      ],
      "metadata": {
        "id": "b0VTTTst3AZK"
      },
      "execution_count": null,
      "outputs": []
    },
    {
      "cell_type": "code",
      "source": [
        ""
      ],
      "metadata": {
        "id": "tAEcAY3t3PDd"
      },
      "execution_count": null,
      "outputs": []
    },
    {
      "cell_type": "code",
      "source": [
        ""
      ],
      "metadata": {
        "id": "4UyxMB0o3d1t"
      },
      "execution_count": null,
      "outputs": []
    },
    {
      "cell_type": "code",
      "source": [
        ""
      ],
      "metadata": {
        "id": "f3Fq9FR_3sV-"
      },
      "execution_count": null,
      "outputs": []
    },
    {
      "cell_type": "code",
      "source": [
        ""
      ],
      "metadata": {
        "id": "v-Sapy4X36_k"
      },
      "execution_count": null,
      "outputs": []
    },
    {
      "cell_type": "code",
      "source": [
        ""
      ],
      "metadata": {
        "id": "cq9nSevj4Ohb"
      },
      "execution_count": null,
      "outputs": []
    },
    {
      "cell_type": "code",
      "source": [
        ""
      ],
      "metadata": {
        "id": "zEBqU9J14dLM"
      },
      "execution_count": null,
      "outputs": []
    },
    {
      "cell_type": "code",
      "source": [
        ""
      ],
      "metadata": {
        "id": "9SNBo1_O4r0d"
      },
      "execution_count": null,
      "outputs": []
    },
    {
      "cell_type": "code",
      "source": [
        ""
      ],
      "metadata": {
        "id": "I3RAvWtv46d5"
      },
      "execution_count": null,
      "outputs": []
    },
    {
      "cell_type": "code",
      "source": [
        ""
      ],
      "metadata": {
        "id": "lOQAcND-5JHk"
      },
      "execution_count": null,
      "outputs": []
    },
    {
      "cell_type": "code",
      "source": [
        ""
      ],
      "metadata": {
        "id": "0RK6sqSt5Xw4"
      },
      "execution_count": null,
      "outputs": []
    },
    {
      "cell_type": "code",
      "source": [
        ""
      ],
      "metadata": {
        "id": "vXKAU6y-5mal"
      },
      "execution_count": null,
      "outputs": []
    },
    {
      "cell_type": "code",
      "source": [
        ""
      ],
      "metadata": {
        "id": "HNuX9hCq51EI"
      },
      "execution_count": null,
      "outputs": []
    },
    {
      "cell_type": "code",
      "source": [
        ""
      ],
      "metadata": {
        "id": "GhbTZ3xG6Dtg"
      },
      "execution_count": null,
      "outputs": []
    },
    {
      "cell_type": "code",
      "source": [
        ""
      ],
      "metadata": {
        "id": "7myoC8V96SW3"
      },
      "execution_count": null,
      "outputs": []
    },
    {
      "cell_type": "code",
      "source": [
        ""
      ],
      "metadata": {
        "id": "WGyFEr2B6hAm"
      },
      "execution_count": null,
      "outputs": []
    },
    {
      "cell_type": "code",
      "source": [
        ""
      ],
      "metadata": {
        "id": "NnQRgpMH6vqF"
      },
      "execution_count": null,
      "outputs": []
    },
    {
      "cell_type": "code",
      "source": [
        ""
      ],
      "metadata": {
        "id": "MUyH2Z4U6-Tj"
      },
      "execution_count": null,
      "outputs": []
    },
    {
      "cell_type": "code",
      "source": [
        ""
      ],
      "metadata": {
        "id": "21dtXk-97M85"
      },
      "execution_count": null,
      "outputs": []
    },
    {
      "cell_type": "code",
      "source": [
        ""
      ],
      "metadata": {
        "id": "qLCTbMJ67bmj"
      },
      "execution_count": null,
      "outputs": []
    },
    {
      "cell_type": "code",
      "source": [
        ""
      ],
      "metadata": {
        "id": "uMmzCHb77qP-"
      },
      "execution_count": null,
      "outputs": []
    },
    {
      "cell_type": "code",
      "source": [
        ""
      ],
      "metadata": {
        "id": "MLeRxJWi745m"
      },
      "execution_count": null,
      "outputs": []
    },
    {
      "cell_type": "code",
      "source": [
        ""
      ],
      "metadata": {
        "id": "h1_stW198HjF"
      },
      "execution_count": null,
      "outputs": []
    },
    {
      "cell_type": "code",
      "source": [
        ""
      ],
      "metadata": {
        "id": "k-9qX7dz8WMd"
      },
      "execution_count": null,
      "outputs": []
    },
    {
      "cell_type": "code",
      "source": [
        ""
      ],
      "metadata": {
        "id": "0wR0lg2B8k1-"
      },
      "execution_count": null,
      "outputs": []
    },
    {
      "cell_type": "code",
      "source": [
        ""
      ],
      "metadata": {
        "id": "2YkfeWYA8zfe"
      },
      "execution_count": null,
      "outputs": []
    },
    {
      "cell_type": "code",
      "source": [
        ""
      ],
      "metadata": {
        "id": "sKO8ftJb9CI5"
      },
      "execution_count": null,
      "outputs": []
    },
    {
      "cell_type": "code",
      "source": [
        ""
      ],
      "metadata": {
        "id": "8HWaklbR9Qye"
      },
      "execution_count": null,
      "outputs": []
    },
    {
      "cell_type": "code",
      "source": [
        ""
      ],
      "metadata": {
        "id": "FUviHdDD9fcI"
      },
      "execution_count": null,
      "outputs": []
    },
    {
      "cell_type": "code",
      "source": [
        ""
      ],
      "metadata": {
        "id": "qJvuzz_Y9uFi"
      },
      "execution_count": null,
      "outputs": []
    },
    {
      "cell_type": "code",
      "source": [
        ""
      ],
      "metadata": {
        "id": "YLKkKn1098u4"
      },
      "execution_count": null,
      "outputs": []
    },
    {
      "cell_type": "code",
      "source": [
        ""
      ],
      "metadata": {
        "id": "yvNCY8Y2-LYu"
      },
      "execution_count": null,
      "outputs": []
    },
    {
      "cell_type": "code",
      "source": [
        ""
      ],
      "metadata": {
        "id": "kZ0SDXzj-aCB"
      },
      "execution_count": null,
      "outputs": []
    },
    {
      "cell_type": "code",
      "source": [
        ""
      ],
      "metadata": {
        "id": "nnS2Zi2E-ori"
      },
      "execution_count": null,
      "outputs": []
    },
    {
      "cell_type": "code",
      "source": [
        ""
      ],
      "metadata": {
        "id": "s5b7I9Sy-3VH"
      },
      "execution_count": null,
      "outputs": []
    },
    {
      "cell_type": "code",
      "source": [
        ""
      ],
      "metadata": {
        "id": "WEERDp3p_F-k"
      },
      "execution_count": null,
      "outputs": []
    },
    {
      "cell_type": "code",
      "source": [
        ""
      ],
      "metadata": {
        "id": "eslzNXR3_UoA"
      },
      "execution_count": null,
      "outputs": []
    },
    {
      "cell_type": "code",
      "source": [
        ""
      ],
      "metadata": {
        "id": "sKxhu1Kc_jRj"
      },
      "execution_count": null,
      "outputs": []
    },
    {
      "cell_type": "code",
      "source": [
        ""
      ],
      "metadata": {
        "id": "qEMJPvmn_x6_"
      },
      "execution_count": null,
      "outputs": []
    },
    {
      "cell_type": "code",
      "source": [
        ""
      ],
      "metadata": {
        "id": "VtSltaUNAAkk"
      },
      "execution_count": null,
      "outputs": []
    },
    {
      "cell_type": "code",
      "source": [
        ""
      ],
      "metadata": {
        "id": "alDzyK83APN7"
      },
      "execution_count": null,
      "outputs": []
    },
    {
      "cell_type": "code",
      "source": [
        ""
      ],
      "metadata": {
        "id": "G9FYnw4wAd3l"
      },
      "execution_count": null,
      "outputs": []
    },
    {
      "cell_type": "code",
      "source": [
        ""
      ],
      "metadata": {
        "id": "7jsGhDyLAsg9"
      },
      "execution_count": null,
      "outputs": []
    },
    {
      "cell_type": "code",
      "source": [
        ""
      ],
      "metadata": {
        "id": "G6dGcRFWA7Km"
      },
      "execution_count": null,
      "outputs": []
    },
    {
      "cell_type": "code",
      "source": [
        ""
      ],
      "metadata": {
        "id": "HLPjziMUBJ0G"
      },
      "execution_count": null,
      "outputs": []
    },
    {
      "cell_type": "code",
      "source": [
        ""
      ],
      "metadata": {
        "id": "GNEnpjEPBYdg"
      },
      "execution_count": null,
      "outputs": []
    },
    {
      "cell_type": "code",
      "source": [
        ""
      ],
      "metadata": {
        "id": "iNAQnjHCBnHI"
      },
      "execution_count": null,
      "outputs": []
    },
    {
      "cell_type": "code",
      "source": [
        ""
      ],
      "metadata": {
        "id": "y98OMR9aB1wc"
      },
      "execution_count": null,
      "outputs": []
    },
    {
      "cell_type": "code",
      "source": [
        ""
      ],
      "metadata": {
        "id": "hpa-PVaGCEaA"
      },
      "execution_count": null,
      "outputs": []
    },
    {
      "cell_type": "code",
      "source": [
        ""
      ],
      "metadata": {
        "id": "B-yGIMe9CTDc"
      },
      "execution_count": null,
      "outputs": []
    },
    {
      "cell_type": "code",
      "source": [
        ""
      ],
      "metadata": {
        "id": "Bw3UuMVAChs7"
      },
      "execution_count": null,
      "outputs": []
    },
    {
      "cell_type": "code",
      "source": [
        ""
      ],
      "metadata": {
        "id": "TW9IkWRbCwWY"
      },
      "execution_count": null,
      "outputs": []
    },
    {
      "cell_type": "code",
      "source": [
        ""
      ],
      "metadata": {
        "id": "Jj4J70I7C_AA"
      },
      "execution_count": null,
      "outputs": []
    },
    {
      "cell_type": "code",
      "source": [
        ""
      ],
      "metadata": {
        "id": "vB3__z-JDNph"
      },
      "execution_count": null,
      "outputs": []
    },
    {
      "cell_type": "code",
      "source": [
        ""
      ],
      "metadata": {
        "id": "a6YOEWdZDcS_"
      },
      "execution_count": null,
      "outputs": []
    },
    {
      "cell_type": "code",
      "source": [
        ""
      ],
      "metadata": {
        "id": "Z3VKghkaDq-H"
      },
      "execution_count": null,
      "outputs": []
    },
    {
      "cell_type": "code",
      "source": [
        ""
      ],
      "metadata": {
        "id": "hF_mND9_D5l2"
      },
      "execution_count": null,
      "outputs": []
    },
    {
      "cell_type": "code",
      "source": [
        ""
      ],
      "metadata": {
        "id": "DgpYCLrREIPg"
      },
      "execution_count": null,
      "outputs": []
    },
    {
      "cell_type": "code",
      "source": [
        ""
      ],
      "metadata": {
        "id": "hxkmLf1wEW5F"
      },
      "execution_count": null,
      "outputs": []
    },
    {
      "cell_type": "code",
      "source": [
        ""
      ],
      "metadata": {
        "id": "fw_ujZFJElim"
      },
      "execution_count": null,
      "outputs": []
    },
    {
      "cell_type": "code",
      "source": [
        ""
      ],
      "metadata": {
        "id": "MByoC24lE0MC"
      },
      "execution_count": null,
      "outputs": []
    },
    {
      "cell_type": "code",
      "source": [
        ""
      ],
      "metadata": {
        "id": "A9drhBe8FC1h"
      },
      "execution_count": null,
      "outputs": []
    },
    {
      "cell_type": "code",
      "source": [
        ""
      ],
      "metadata": {
        "id": "mplvTFgyFRe3"
      },
      "execution_count": null,
      "outputs": []
    },
    {
      "cell_type": "code",
      "source": [
        ""
      ],
      "metadata": {
        "id": "-ExRGo_8FgIm"
      },
      "execution_count": null,
      "outputs": []
    },
    {
      "cell_type": "code",
      "source": [
        ""
      ],
      "metadata": {
        "id": "z0naAAOEFux9"
      },
      "execution_count": null,
      "outputs": []
    },
    {
      "cell_type": "code",
      "source": [
        ""
      ],
      "metadata": {
        "id": "3lyKmN0lF9bh"
      },
      "execution_count": null,
      "outputs": []
    },
    {
      "cell_type": "code",
      "source": [
        ""
      ],
      "metadata": {
        "id": "A4DGWHs3GME7"
      },
      "execution_count": null,
      "outputs": []
    },
    {
      "cell_type": "code",
      "source": [
        ""
      ],
      "metadata": {
        "id": "QpxCtMyPGauZ"
      },
      "execution_count": null,
      "outputs": []
    },
    {
      "cell_type": "code",
      "source": [
        ""
      ],
      "metadata": {
        "id": "AYagmWHVGpYQ"
      },
      "execution_count": null,
      "outputs": []
    },
    {
      "cell_type": "code",
      "source": [
        ""
      ],
      "metadata": {
        "id": "x8Yelo-OG4Bh"
      },
      "execution_count": null,
      "outputs": []
    },
    {
      "cell_type": "code",
      "source": [
        ""
      ],
      "metadata": {
        "id": "uR9UfCONHGrC"
      },
      "execution_count": null,
      "outputs": []
    },
    {
      "cell_type": "code",
      "source": [
        ""
      ],
      "metadata": {
        "id": "CxlWrSaTHVUy"
      },
      "execution_count": null,
      "outputs": []
    },
    {
      "cell_type": "code",
      "source": [
        ""
      ],
      "metadata": {
        "id": "USeuHTQOHj-V"
      },
      "execution_count": null,
      "outputs": []
    },
    {
      "cell_type": "code",
      "source": [
        ""
      ],
      "metadata": {
        "id": "0PLFJB99Hynu"
      },
      "execution_count": null,
      "outputs": []
    },
    {
      "cell_type": "code",
      "source": [
        ""
      ],
      "metadata": {
        "id": "N5aiwlEAIBRQ"
      },
      "execution_count": null,
      "outputs": []
    },
    {
      "cell_type": "code",
      "source": [
        ""
      ],
      "metadata": {
        "id": "pxLIQNs8IP6r"
      },
      "execution_count": null,
      "outputs": []
    },
    {
      "cell_type": "code",
      "source": [
        ""
      ],
      "metadata": {
        "id": "StF_1XCgIekO"
      },
      "execution_count": null,
      "outputs": []
    },
    {
      "cell_type": "code",
      "source": [
        ""
      ],
      "metadata": {
        "id": "iIcnanHYItNw"
      },
      "execution_count": null,
      "outputs": []
    },
    {
      "cell_type": "code",
      "source": [
        ""
      ],
      "metadata": {
        "id": "GNlrAVIBI73R"
      },
      "execution_count": null,
      "outputs": []
    },
    {
      "cell_type": "code",
      "source": [
        ""
      ],
      "metadata": {
        "id": "ISX9yMjRJKg1"
      },
      "execution_count": null,
      "outputs": []
    },
    {
      "cell_type": "code",
      "source": [
        ""
      ],
      "metadata": {
        "id": "fie_mJvMJZKU"
      },
      "execution_count": null,
      "outputs": []
    },
    {
      "cell_type": "code",
      "source": [
        ""
      ],
      "metadata": {
        "id": "FfqC7vlbJnzr"
      },
      "execution_count": null,
      "outputs": []
    },
    {
      "cell_type": "code",
      "source": [
        ""
      ],
      "metadata": {
        "id": "CH-iIfZfJ2dR"
      },
      "execution_count": null,
      "outputs": []
    },
    {
      "cell_type": "code",
      "source": [
        ""
      ],
      "metadata": {
        "id": "wpMXLaatKFGp"
      },
      "execution_count": null,
      "outputs": []
    },
    {
      "cell_type": "code",
      "source": [
        ""
      ],
      "metadata": {
        "id": "4OrPOHK0KTwg"
      },
      "execution_count": null,
      "outputs": []
    },
    {
      "cell_type": "code",
      "source": [
        ""
      ],
      "metadata": {
        "id": "ldsJd0LjKiZw"
      },
      "execution_count": null,
      "outputs": []
    },
    {
      "cell_type": "code",
      "source": [
        ""
      ],
      "metadata": {
        "id": "xo7xg8IMKxDU"
      },
      "execution_count": null,
      "outputs": []
    },
    {
      "cell_type": "code",
      "source": [
        ""
      ],
      "metadata": {
        "id": "P96hUKcaK_s2"
      },
      "execution_count": null,
      "outputs": []
    },
    {
      "cell_type": "code",
      "source": [
        ""
      ],
      "metadata": {
        "id": "CjgxoqitLOWQ"
      },
      "execution_count": null,
      "outputs": []
    },
    {
      "cell_type": "code",
      "source": [
        ""
      ],
      "metadata": {
        "id": "pH4Ke9PjLc_z"
      },
      "execution_count": null,
      "outputs": []
    },
    {
      "cell_type": "code",
      "source": [
        ""
      ],
      "metadata": {
        "id": "-NMjEtSSLrpJ"
      },
      "execution_count": null,
      "outputs": []
    },
    {
      "cell_type": "code",
      "source": [
        ""
      ],
      "metadata": {
        "id": "FJnDnQYmL6S6"
      },
      "execution_count": null,
      "outputs": []
    },
    {
      "cell_type": "code",
      "source": [
        ""
      ],
      "metadata": {
        "id": "lQ5AWyKsMI8U"
      },
      "execution_count": null,
      "outputs": []
    },
    {
      "cell_type": "code",
      "source": [
        ""
      ],
      "metadata": {
        "id": "ZBB3NTAvMXll"
      },
      "execution_count": null,
      "outputs": []
    },
    {
      "cell_type": "code",
      "source": [
        ""
      ],
      "metadata": {
        "id": "EC_AFZX3MmPN"
      },
      "execution_count": null,
      "outputs": []
    },
    {
      "cell_type": "code",
      "source": [
        ""
      ],
      "metadata": {
        "id": "e8mC_YepM04w"
      },
      "execution_count": null,
      "outputs": []
    },
    {
      "cell_type": "code",
      "source": [
        ""
      ],
      "metadata": {
        "id": "tJnPJS7HNDiQ"
      },
      "execution_count": null,
      "outputs": []
    },
    {
      "cell_type": "code",
      "source": [
        ""
      ],
      "metadata": {
        "id": "_HCxvB1lNSLy"
      },
      "execution_count": null,
      "outputs": []
    },
    {
      "cell_type": "code",
      "source": [
        ""
      ],
      "metadata": {
        "id": "v4jiSIKINg1H"
      },
      "execution_count": null,
      "outputs": []
    },
    {
      "cell_type": "code",
      "source": [
        ""
      ],
      "metadata": {
        "id": "0OCNhQyjNve1"
      },
      "execution_count": null,
      "outputs": []
    },
    {
      "cell_type": "code",
      "source": [
        ""
      ],
      "metadata": {
        "id": "wNlyWgl6N-IO"
      },
      "execution_count": null,
      "outputs": []
    },
    {
      "cell_type": "code",
      "source": [
        ""
      ],
      "metadata": {
        "id": "8i0lwoHJOMx1"
      },
      "execution_count": null,
      "outputs": []
    },
    {
      "cell_type": "code",
      "source": [
        ""
      ],
      "metadata": {
        "id": "9FS0mBpnObbI"
      },
      "execution_count": null,
      "outputs": []
    },
    {
      "cell_type": "code",
      "source": [
        ""
      ],
      "metadata": {
        "id": "_5pBS12aOqEq"
      },
      "execution_count": null,
      "outputs": []
    },
    {
      "cell_type": "code",
      "source": [
        ""
      ],
      "metadata": {
        "id": "n_bM9_i-O4uP"
      },
      "execution_count": null,
      "outputs": []
    },
    {
      "cell_type": "code",
      "source": [
        ""
      ],
      "metadata": {
        "id": "q4C5baWgPHX2"
      },
      "execution_count": null,
      "outputs": []
    },
    {
      "cell_type": "code",
      "source": [
        ""
      ],
      "metadata": {
        "id": "bxTxz3miPWBy"
      },
      "execution_count": null,
      "outputs": []
    },
    {
      "cell_type": "code",
      "source": [
        ""
      ],
      "metadata": {
        "id": "206DIcNVPkqv"
      },
      "execution_count": null,
      "outputs": []
    },
    {
      "cell_type": "code",
      "source": [
        ""
      ],
      "metadata": {
        "id": "ppz_mxK-PzUd"
      },
      "execution_count": null,
      "outputs": []
    },
    {
      "cell_type": "code",
      "source": [
        ""
      ],
      "metadata": {
        "id": "9m3CvNdnQB9q"
      },
      "execution_count": null,
      "outputs": []
    },
    {
      "cell_type": "code",
      "source": [
        ""
      ],
      "metadata": {
        "id": "fbxJkzT4QQnL"
      },
      "execution_count": null,
      "outputs": []
    },
    {
      "cell_type": "code",
      "source": [
        ""
      ],
      "metadata": {
        "id": "k1lU1xmRQfQv"
      },
      "execution_count": null,
      "outputs": []
    },
    {
      "cell_type": "code",
      "source": [
        ""
      ],
      "metadata": {
        "id": "A_h_F1yTQt6O"
      },
      "execution_count": null,
      "outputs": []
    },
    {
      "cell_type": "code",
      "source": [
        ""
      ],
      "metadata": {
        "id": "pfQecEZWQ8jn"
      },
      "execution_count": null,
      "outputs": []
    },
    {
      "cell_type": "code",
      "source": [
        ""
      ],
      "metadata": {
        "id": "isolUcGZRLNR"
      },
      "execution_count": null,
      "outputs": []
    },
    {
      "cell_type": "code",
      "source": [
        ""
      ],
      "metadata": {
        "id": "mTopxUBzRZ2v"
      },
      "execution_count": null,
      "outputs": []
    },
    {
      "cell_type": "code",
      "source": [
        ""
      ],
      "metadata": {
        "id": "_Ydb2p6lRogR"
      },
      "execution_count": null,
      "outputs": []
    },
    {
      "cell_type": "code",
      "source": [
        ""
      ],
      "metadata": {
        "id": "L_K6-gcJR3Jq"
      },
      "execution_count": null,
      "outputs": []
    },
    {
      "cell_type": "code",
      "source": [
        ""
      ],
      "metadata": {
        "id": "KS_PZiJJSFzM"
      },
      "execution_count": null,
      "outputs": []
    },
    {
      "cell_type": "code",
      "source": [
        ""
      ],
      "metadata": {
        "id": "czX80Q2OSUcr"
      },
      "execution_count": null,
      "outputs": []
    },
    {
      "cell_type": "code",
      "source": [
        ""
      ],
      "metadata": {
        "id": "T3OIZQ_wn1jQ"
      },
      "execution_count": null,
      "outputs": []
    },
    {
      "cell_type": "code",
      "source": [
        ""
      ],
      "metadata": {
        "id": "xpkfrWskn_Hl"
      },
      "execution_count": null,
      "outputs": []
    }
  ],
  "metadata": {
    "accelerator": "GPU",
    "colab": {
      "collapsed_sections": [],
      "machine_shape": "hm",
      "name": "ResNet_34+Residual (1).ipynb",
      "provenance": []
    },
    "kernelspec": {
      "display_name": "Python 3",
      "name": "python3"
    },
    "language_info": {
      "name": "python"
    }
  },
  "nbformat": 4,
  "nbformat_minor": 0
}